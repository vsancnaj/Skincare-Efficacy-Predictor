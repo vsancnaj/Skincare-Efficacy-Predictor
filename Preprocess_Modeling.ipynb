{
  "cells": [
    {
      "cell_type": "markdown",
      "metadata": {
        "id": "-FS4KzHeoKuy"
      },
      "source": [
        "[Link to the Sephora Dataset\n",
        "](https://www.kaggle.com/datasets/nadyinky/sephora-products-and-skincare-reviews/data)\n"
      ]
    },
    {
      "cell_type": "markdown",
      "metadata": {
        "id": "bSYgiOK_Ml64"
      },
      "source": [
        "## Make connections and load data"
      ]
    },
    {
      "cell_type": "code",
      "execution_count": 1,
      "metadata": {
        "colab": {
          "base_uri": "https://localhost:8080/"
        },
        "id": "TE2Ez3lPUBm0",
        "outputId": "70d6d07d-6105-47b1-b50e-db43203e9b30"
      },
      "outputs": [
        {
          "name": "stdout",
          "output_type": "stream",
          "text": [
            "Mounted at /content/drive\n"
          ]
        }
      ],
      "source": [
        "# connect to google drive\n",
        "from google.colab import drive\n",
        "drive.mount('/content/drive')"
      ]
    },
    {
      "cell_type": "code",
      "execution_count": null,
      "metadata": {
        "colab": {
          "base_uri": "https://localhost:8080/"
        },
        "id": "CZNELOzRMeWi",
        "outputId": "847c9931-a234-4122-f910-d37df4cba90d"
      },
      "outputs": [],
      "source": [
        "# Connect Kaggle\n",
        "!mkdir ~/.kaggle\n",
        "!cp #[insert the location of your kaggle api key]\n",
        "!chmod 600 ~/.kaggle/kaggle.json\n",
        "\n",
        "# dataset download\n",
        "!kaggle datasets download -d nadyinky/sephora-products-and-skincare-reviews\n",
        "\n",
        "# Unzip file\n",
        "!unzip /content/sephora-products-and-skincare-reviews.zip"
      ]
    },
    {
      "cell_type": "markdown",
      "metadata": {
        "id": "UdlYcbB_QS0y"
      },
      "source": [
        "### Import libraries"
      ]
    },
    {
      "cell_type": "code",
      "execution_count": 4,
      "metadata": {
        "id": "bT7Rq2MhQbCJ"
      },
      "outputs": [],
      "source": [
        "import pandas as pd\n",
        "import numpy as np\n",
        "import matplotlib.pyplot as plt\n",
        "import seaborn as sns"
      ]
    },
    {
      "cell_type": "code",
      "execution_count": 5,
      "metadata": {
        "id": "4c7Nt738NM2k"
      },
      "outputs": [],
      "source": [
        "# table paths\n",
        "product_path = '/content/product_info.csv'\n",
        "review_250path = '/content/reviews_0-250.csv'\n",
        "review_1250endpath = '/content/reviews_1250-end.csv'\n",
        "review_250_500path = '/content/reviews_250-500.csv'\n",
        "review_500_750path ='/content/reviews_500-750.csv'\n",
        "review_750_1250path = '/content/reviews_750-1250.csv'"
      ]
    },
    {
      "cell_type": "code",
      "execution_count": 6,
      "metadata": {
        "id": "xf6FMQosQMaP"
      },
      "outputs": [],
      "source": [
        "# read csv\n",
        "product_df = pd.read_csv(product_path)\n",
        "review_250df = pd.read_csv(review_250path,  dtype={1: str })\n",
        "review_1250enddf = pd.read_csv(review_1250endpath, dtype={1: str })\n",
        "review_250_500df = pd.read_csv(review_250_500path, dtype={1: str })\n",
        "review_500_750df = pd.read_csv(review_500_750path, dtype={1: str })\n",
        "review_750_1250df = pd.read_csv(review_750_1250path, dtype={1: str })"
      ]
    },
    {
      "cell_type": "markdown",
      "metadata": {
        "id": "WHkPyeYzBBWZ"
      },
      "source": [
        "*Note: reviews 0-250: reviews of 250 products are collected*"
      ]
    },
    {
      "cell_type": "code",
      "execution_count": 7,
      "metadata": {
        "colab": {
          "base_uri": "https://localhost:8080/"
        },
        "id": "kN3-3LW1QnqY",
        "outputId": "8cb0c375-96cb-4cf1-86c7-cb3491b70bb9"
      },
      "outputs": [
        {
          "data": {
            "text/plain": [
              "(8494, 27)"
            ]
          },
          "execution_count": 7,
          "metadata": {},
          "output_type": "execute_result"
        }
      ],
      "source": [
        "# view head of product_df\n",
        "product_df.shape"
      ]
    },
    {
      "cell_type": "markdown",
      "metadata": {
        "id": "0wUIyvw9E1a6"
      },
      "source": [
        "*Note: The review tables only show reviews for **skin care** products, therefore we want to drop or eliminate poroducts that do not belong to this category.*"
      ]
    },
    {
      "cell_type": "code",
      "execution_count": 8,
      "metadata": {
        "colab": {
          "base_uri": "https://localhost:8080/",
          "height": 496
        },
        "id": "PYou6jM3D9LK",
        "outputId": "f7a9f90b-2845-4fcc-f656-c23804db38f4"
      },
      "outputs": [
        {
          "data": {
            "application/vnd.google.colaboratory.intrinsic+json": {
              "summary": "{\n  \"name\": \"review_1250enddf\",\n  \"rows\": 49977,\n  \"fields\": [\n    {\n      \"column\": \"Unnamed: 0\",\n      \"properties\": {\n        \"dtype\": \"number\",\n        \"std\": 14427,\n        \"min\": 0,\n        \"max\": 49976,\n        \"num_unique_values\": 49977,\n        \"samples\": [\n          38275,\n          32098,\n          25468\n        ],\n        \"semantic_type\": \"\",\n        \"description\": \"\"\n      }\n    },\n    {\n      \"column\": \"author_id\",\n      \"properties\": {\n        \"dtype\": \"string\",\n        \"num_unique_values\": 38907,\n        \"samples\": [\n          \"2148854116\",\n          \"76470131\",\n          \"24049240154\"\n        ],\n        \"semantic_type\": \"\",\n        \"description\": \"\"\n      }\n    },\n    {\n      \"column\": \"rating\",\n      \"properties\": {\n        \"dtype\": \"number\",\n        \"std\": 1,\n        \"min\": 1,\n        \"max\": 5,\n        \"num_unique_values\": 5,\n        \"samples\": [\n          3,\n          1,\n          2\n        ],\n        \"semantic_type\": \"\",\n        \"description\": \"\"\n      }\n    },\n    {\n      \"column\": \"is_recommended\",\n      \"properties\": {\n        \"dtype\": \"number\",\n        \"std\": 0.38965606221773585,\n        \"min\": 0.0,\n        \"max\": 1.0,\n        \"num_unique_values\": 2,\n        \"samples\": [\n          0.0,\n          1.0\n        ],\n        \"semantic_type\": \"\",\n        \"description\": \"\"\n      }\n    },\n    {\n      \"column\": \"helpfulness\",\n      \"properties\": {\n        \"dtype\": \"number\",\n        \"std\": 0.2963190703322382,\n        \"min\": 0.0,\n        \"max\": 1.0,\n        \"num_unique_values\": 1209,\n        \"samples\": [\n          0.2666670083999634,\n          0.5416669845581055\n        ],\n        \"semantic_type\": \"\",\n        \"description\": \"\"\n      }\n    },\n    {\n      \"column\": \"total_feedback_count\",\n      \"properties\": {\n        \"dtype\": \"number\",\n        \"std\": 21,\n        \"min\": 0,\n        \"max\": 1222,\n        \"num_unique_values\": 255,\n        \"samples\": [\n          224,\n          4\n        ],\n        \"semantic_type\": \"\",\n        \"description\": \"\"\n      }\n    },\n    {\n      \"column\": \"total_neg_feedback_count\",\n      \"properties\": {\n        \"dtype\": \"number\",\n        \"std\": 8,\n        \"min\": 0,\n        \"max\": 1159,\n        \"num_unique_values\": 124,\n        \"samples\": [\n          21,\n          37\n        ],\n        \"semantic_type\": \"\",\n        \"description\": \"\"\n      }\n    },\n    {\n      \"column\": \"total_pos_feedback_count\",\n      \"properties\": {\n        \"dtype\": \"number\",\n        \"std\": 16,\n        \"min\": 0,\n        \"max\": 776,\n        \"num_unique_values\": 212,\n        \"samples\": [\n          61,\n          190\n        ],\n        \"semantic_type\": \"\",\n        \"description\": \"\"\n      }\n    },\n    {\n      \"column\": \"submission_time\",\n      \"properties\": {\n        \"dtype\": \"object\",\n        \"num_unique_values\": 3490,\n        \"samples\": [\n          \"2022-11-26\",\n          \"2015-10-02\"\n        ],\n        \"semantic_type\": \"\",\n        \"description\": \"\"\n      }\n    },\n    {\n      \"column\": \"review_text\",\n      \"properties\": {\n        \"dtype\": \"string\",\n        \"num_unique_values\": 49395,\n        \"samples\": [\n          \"It\\u2019s good for a mineral sunscreen! Very low cast. I didn\\u2019t really notice an overall difference in the tone of my skin though like in the before & after pics attached to this listing. Maybe I didn\\u2019t apply enough? I\\u2019m going to play around with it more and see. Also you want to wait about 5-10 mins after applying your moisturizer before you apply this. It really balled up on me if I applied it too soon after. So far I still prefer the unseen over this. But still a good product!\",\n          \"While I am sure these vitamins are helping my liver, one thing I can guarantee they are doing is alleviating me of the dark circles under my eyes! I usually just to do my make up to make me not look like a dead person, but taking these have been a miracle. I noticed a difference about 3 days into taking this supplement. I would highly recommend this product if dark circles under your eyes is something you struggle with.\"\n        ],\n        \"semantic_type\": \"\",\n        \"description\": \"\"\n      }\n    },\n    {\n      \"column\": \"review_title\",\n      \"properties\": {\n        \"dtype\": \"string\",\n        \"num_unique_values\": 26029,\n        \"samples\": [\n          \"Glowy, hydrated skin\",\n          \"Just an extra way of pampering myself\"\n        ],\n        \"semantic_type\": \"\",\n        \"description\": \"\"\n      }\n    },\n    {\n      \"column\": \"skin_tone\",\n      \"properties\": {\n        \"dtype\": \"category\",\n        \"num_unique_values\": 14,\n        \"samples\": [\n          \"notSureST\",\n          \"porcelain\"\n        ],\n        \"semantic_type\": \"\",\n        \"description\": \"\"\n      }\n    },\n    {\n      \"column\": \"eye_color\",\n      \"properties\": {\n        \"dtype\": \"category\",\n        \"num_unique_values\": 6,\n        \"samples\": [\n          \"green\",\n          \"brown\"\n        ],\n        \"semantic_type\": \"\",\n        \"description\": \"\"\n      }\n    },\n    {\n      \"column\": \"skin_type\",\n      \"properties\": {\n        \"dtype\": \"category\",\n        \"num_unique_values\": 4,\n        \"samples\": [\n          \"oily\",\n          \"normal\"\n        ],\n        \"semantic_type\": \"\",\n        \"description\": \"\"\n      }\n    },\n    {\n      \"column\": \"hair_color\",\n      \"properties\": {\n        \"dtype\": \"category\",\n        \"num_unique_values\": 7,\n        \"samples\": [\n          \"black\",\n          \"blonde\"\n        ],\n        \"semantic_type\": \"\",\n        \"description\": \"\"\n      }\n    },\n    {\n      \"column\": \"product_id\",\n      \"properties\": {\n        \"dtype\": \"category\",\n        \"num_unique_values\": 1104,\n        \"samples\": [\n          \"P386760\",\n          \"P472058\"\n        ],\n        \"semantic_type\": \"\",\n        \"description\": \"\"\n      }\n    },\n    {\n      \"column\": \"product_name\",\n      \"properties\": {\n        \"dtype\": \"category\",\n        \"num_unique_values\": 1097,\n        \"samples\": [\n          \"Absolue Rich Cream Moisturizer\",\n          \"Clarifying Lotion\"\n        ],\n        \"semantic_type\": \"\",\n        \"description\": \"\"\n      }\n    },\n    {\n      \"column\": \"brand_name\",\n      \"properties\": {\n        \"dtype\": \"category\",\n        \"num_unique_values\": 122,\n        \"samples\": [\n          \"HUM Nutrition\",\n          \"ROSE Ingleton MD\"\n        ],\n        \"semantic_type\": \"\",\n        \"description\": \"\"\n      }\n    },\n    {\n      \"column\": \"price_usd\",\n      \"properties\": {\n        \"dtype\": \"number\",\n        \"std\": 72.21172983589739,\n        \"min\": 3.0,\n        \"max\": 1900.0,\n        \"num_unique_values\": 183,\n        \"samples\": [\n          68.0,\n          12.0\n        ],\n        \"semantic_type\": \"\",\n        \"description\": \"\"\n      }\n    }\n  ]\n}",
              "type": "dataframe",
              "variable_name": "review_1250enddf"
            },
            "text/html": [
              "\n",
              "  <div id=\"df-c81620da-dfd3-44c6-943c-d8eb104f2380\" class=\"colab-df-container\">\n",
              "    <div>\n",
              "<style scoped>\n",
              "    .dataframe tbody tr th:only-of-type {\n",
              "        vertical-align: middle;\n",
              "    }\n",
              "\n",
              "    .dataframe tbody tr th {\n",
              "        vertical-align: top;\n",
              "    }\n",
              "\n",
              "    .dataframe thead th {\n",
              "        text-align: right;\n",
              "    }\n",
              "</style>\n",
              "<table border=\"1\" class=\"dataframe\">\n",
              "  <thead>\n",
              "    <tr style=\"text-align: right;\">\n",
              "      <th></th>\n",
              "      <th>Unnamed: 0</th>\n",
              "      <th>author_id</th>\n",
              "      <th>rating</th>\n",
              "      <th>is_recommended</th>\n",
              "      <th>helpfulness</th>\n",
              "      <th>total_feedback_count</th>\n",
              "      <th>total_neg_feedback_count</th>\n",
              "      <th>total_pos_feedback_count</th>\n",
              "      <th>submission_time</th>\n",
              "      <th>review_text</th>\n",
              "      <th>review_title</th>\n",
              "      <th>skin_tone</th>\n",
              "      <th>eye_color</th>\n",
              "      <th>skin_type</th>\n",
              "      <th>hair_color</th>\n",
              "      <th>product_id</th>\n",
              "      <th>product_name</th>\n",
              "      <th>brand_name</th>\n",
              "      <th>price_usd</th>\n",
              "    </tr>\n",
              "  </thead>\n",
              "  <tbody>\n",
              "    <tr>\n",
              "      <th>0</th>\n",
              "      <td>0</td>\n",
              "      <td>1945004256</td>\n",
              "      <td>5</td>\n",
              "      <td>1.0</td>\n",
              "      <td>0.000000</td>\n",
              "      <td>2</td>\n",
              "      <td>2</td>\n",
              "      <td>0</td>\n",
              "      <td>2022-12-10</td>\n",
              "      <td>I absolutely L-O-V-E this oil. I have acne pro...</td>\n",
              "      <td>A must have!</td>\n",
              "      <td>lightMedium</td>\n",
              "      <td>green</td>\n",
              "      <td>combination</td>\n",
              "      <td>NaN</td>\n",
              "      <td>P379064</td>\n",
              "      <td>Lotus Balancing &amp; Hydrating Natural Face Treat...</td>\n",
              "      <td>Clarins</td>\n",
              "      <td>65.0</td>\n",
              "    </tr>\n",
              "    <tr>\n",
              "      <th>1</th>\n",
              "      <td>1</td>\n",
              "      <td>5478482359</td>\n",
              "      <td>3</td>\n",
              "      <td>1.0</td>\n",
              "      <td>0.333333</td>\n",
              "      <td>3</td>\n",
              "      <td>2</td>\n",
              "      <td>1</td>\n",
              "      <td>2021-12-17</td>\n",
              "      <td>I gave this 3 stars because it give me tiny li...</td>\n",
              "      <td>it keeps oily skin under control</td>\n",
              "      <td>mediumTan</td>\n",
              "      <td>brown</td>\n",
              "      <td>oily</td>\n",
              "      <td>black</td>\n",
              "      <td>P379064</td>\n",
              "      <td>Lotus Balancing &amp; Hydrating Natural Face Treat...</td>\n",
              "      <td>Clarins</td>\n",
              "      <td>65.0</td>\n",
              "    </tr>\n",
              "    <tr>\n",
              "      <th>2</th>\n",
              "      <td>2</td>\n",
              "      <td>29002209922</td>\n",
              "      <td>5</td>\n",
              "      <td>1.0</td>\n",
              "      <td>1.000000</td>\n",
              "      <td>2</td>\n",
              "      <td>0</td>\n",
              "      <td>2</td>\n",
              "      <td>2021-06-07</td>\n",
              "      <td>Works well as soon as I wash my face and pat d...</td>\n",
              "      <td>Worth the money!</td>\n",
              "      <td>lightMedium</td>\n",
              "      <td>brown</td>\n",
              "      <td>dry</td>\n",
              "      <td>black</td>\n",
              "      <td>P379064</td>\n",
              "      <td>Lotus Balancing &amp; Hydrating Natural Face Treat...</td>\n",
              "      <td>Clarins</td>\n",
              "      <td>65.0</td>\n",
              "    </tr>\n",
              "    <tr>\n",
              "      <th>3</th>\n",
              "      <td>3</td>\n",
              "      <td>7391078463</td>\n",
              "      <td>5</td>\n",
              "      <td>1.0</td>\n",
              "      <td>1.000000</td>\n",
              "      <td>2</td>\n",
              "      <td>0</td>\n",
              "      <td>2</td>\n",
              "      <td>2021-05-21</td>\n",
              "      <td>this oil helped with hydration and breakouts, ...</td>\n",
              "      <td>best face oil</td>\n",
              "      <td>lightMedium</td>\n",
              "      <td>brown</td>\n",
              "      <td>combination</td>\n",
              "      <td>blonde</td>\n",
              "      <td>P379064</td>\n",
              "      <td>Lotus Balancing &amp; Hydrating Natural Face Treat...</td>\n",
              "      <td>Clarins</td>\n",
              "      <td>65.0</td>\n",
              "    </tr>\n",
              "    <tr>\n",
              "      <th>4</th>\n",
              "      <td>4</td>\n",
              "      <td>1766313888</td>\n",
              "      <td>5</td>\n",
              "      <td>1.0</td>\n",
              "      <td>1.000000</td>\n",
              "      <td>13</td>\n",
              "      <td>0</td>\n",
              "      <td>13</td>\n",
              "      <td>2021-03-29</td>\n",
              "      <td>This is my first product review ever so that s...</td>\n",
              "      <td>Maskne miracle</td>\n",
              "      <td>mediumTan</td>\n",
              "      <td>brown</td>\n",
              "      <td>combination</td>\n",
              "      <td>black</td>\n",
              "      <td>P379064</td>\n",
              "      <td>Lotus Balancing &amp; Hydrating Natural Face Treat...</td>\n",
              "      <td>Clarins</td>\n",
              "      <td>65.0</td>\n",
              "    </tr>\n",
              "  </tbody>\n",
              "</table>\n",
              "</div>\n",
              "    <div class=\"colab-df-buttons\">\n",
              "\n",
              "  <div class=\"colab-df-container\">\n",
              "    <button class=\"colab-df-convert\" onclick=\"convertToInteractive('df-c81620da-dfd3-44c6-943c-d8eb104f2380')\"\n",
              "            title=\"Convert this dataframe to an interactive table.\"\n",
              "            style=\"display:none;\">\n",
              "\n",
              "  <svg xmlns=\"http://www.w3.org/2000/svg\" height=\"24px\" viewBox=\"0 -960 960 960\">\n",
              "    <path d=\"M120-120v-720h720v720H120Zm60-500h600v-160H180v160Zm220 220h160v-160H400v160Zm0 220h160v-160H400v160ZM180-400h160v-160H180v160Zm440 0h160v-160H620v160ZM180-180h160v-160H180v160Zm440 0h160v-160H620v160Z\"/>\n",
              "  </svg>\n",
              "    </button>\n",
              "\n",
              "  <style>\n",
              "    .colab-df-container {\n",
              "      display:flex;\n",
              "      gap: 12px;\n",
              "    }\n",
              "\n",
              "    .colab-df-convert {\n",
              "      background-color: #E8F0FE;\n",
              "      border: none;\n",
              "      border-radius: 50%;\n",
              "      cursor: pointer;\n",
              "      display: none;\n",
              "      fill: #1967D2;\n",
              "      height: 32px;\n",
              "      padding: 0 0 0 0;\n",
              "      width: 32px;\n",
              "    }\n",
              "\n",
              "    .colab-df-convert:hover {\n",
              "      background-color: #E2EBFA;\n",
              "      box-shadow: 0px 1px 2px rgba(60, 64, 67, 0.3), 0px 1px 3px 1px rgba(60, 64, 67, 0.15);\n",
              "      fill: #174EA6;\n",
              "    }\n",
              "\n",
              "    .colab-df-buttons div {\n",
              "      margin-bottom: 4px;\n",
              "    }\n",
              "\n",
              "    [theme=dark] .colab-df-convert {\n",
              "      background-color: #3B4455;\n",
              "      fill: #D2E3FC;\n",
              "    }\n",
              "\n",
              "    [theme=dark] .colab-df-convert:hover {\n",
              "      background-color: #434B5C;\n",
              "      box-shadow: 0px 1px 3px 1px rgba(0, 0, 0, 0.15);\n",
              "      filter: drop-shadow(0px 1px 2px rgba(0, 0, 0, 0.3));\n",
              "      fill: #FFFFFF;\n",
              "    }\n",
              "  </style>\n",
              "\n",
              "    <script>\n",
              "      const buttonEl =\n",
              "        document.querySelector('#df-c81620da-dfd3-44c6-943c-d8eb104f2380 button.colab-df-convert');\n",
              "      buttonEl.style.display =\n",
              "        google.colab.kernel.accessAllowed ? 'block' : 'none';\n",
              "\n",
              "      async function convertToInteractive(key) {\n",
              "        const element = document.querySelector('#df-c81620da-dfd3-44c6-943c-d8eb104f2380');\n",
              "        const dataTable =\n",
              "          await google.colab.kernel.invokeFunction('convertToInteractive',\n",
              "                                                    [key], {});\n",
              "        if (!dataTable) return;\n",
              "\n",
              "        const docLinkHtml = 'Like what you see? Visit the ' +\n",
              "          '<a target=\"_blank\" href=https://colab.research.google.com/notebooks/data_table.ipynb>data table notebook</a>'\n",
              "          + ' to learn more about interactive tables.';\n",
              "        element.innerHTML = '';\n",
              "        dataTable['output_type'] = 'display_data';\n",
              "        await google.colab.output.renderOutput(dataTable, element);\n",
              "        const docLink = document.createElement('div');\n",
              "        docLink.innerHTML = docLinkHtml;\n",
              "        element.appendChild(docLink);\n",
              "      }\n",
              "    </script>\n",
              "  </div>\n",
              "\n",
              "\n",
              "<div id=\"df-dd7c5633-bd01-43c4-b0b7-23572a74d191\">\n",
              "  <button class=\"colab-df-quickchart\" onclick=\"quickchart('df-dd7c5633-bd01-43c4-b0b7-23572a74d191')\"\n",
              "            title=\"Suggest charts\"\n",
              "            style=\"display:none;\">\n",
              "\n",
              "<svg xmlns=\"http://www.w3.org/2000/svg\" height=\"24px\"viewBox=\"0 0 24 24\"\n",
              "     width=\"24px\">\n",
              "    <g>\n",
              "        <path d=\"M19 3H5c-1.1 0-2 .9-2 2v14c0 1.1.9 2 2 2h14c1.1 0 2-.9 2-2V5c0-1.1-.9-2-2-2zM9 17H7v-7h2v7zm4 0h-2V7h2v10zm4 0h-2v-4h2v4z\"/>\n",
              "    </g>\n",
              "</svg>\n",
              "  </button>\n",
              "\n",
              "<style>\n",
              "  .colab-df-quickchart {\n",
              "      --bg-color: #E8F0FE;\n",
              "      --fill-color: #1967D2;\n",
              "      --hover-bg-color: #E2EBFA;\n",
              "      --hover-fill-color: #174EA6;\n",
              "      --disabled-fill-color: #AAA;\n",
              "      --disabled-bg-color: #DDD;\n",
              "  }\n",
              "\n",
              "  [theme=dark] .colab-df-quickchart {\n",
              "      --bg-color: #3B4455;\n",
              "      --fill-color: #D2E3FC;\n",
              "      --hover-bg-color: #434B5C;\n",
              "      --hover-fill-color: #FFFFFF;\n",
              "      --disabled-bg-color: #3B4455;\n",
              "      --disabled-fill-color: #666;\n",
              "  }\n",
              "\n",
              "  .colab-df-quickchart {\n",
              "    background-color: var(--bg-color);\n",
              "    border: none;\n",
              "    border-radius: 50%;\n",
              "    cursor: pointer;\n",
              "    display: none;\n",
              "    fill: var(--fill-color);\n",
              "    height: 32px;\n",
              "    padding: 0;\n",
              "    width: 32px;\n",
              "  }\n",
              "\n",
              "  .colab-df-quickchart:hover {\n",
              "    background-color: var(--hover-bg-color);\n",
              "    box-shadow: 0 1px 2px rgba(60, 64, 67, 0.3), 0 1px 3px 1px rgba(60, 64, 67, 0.15);\n",
              "    fill: var(--button-hover-fill-color);\n",
              "  }\n",
              "\n",
              "  .colab-df-quickchart-complete:disabled,\n",
              "  .colab-df-quickchart-complete:disabled:hover {\n",
              "    background-color: var(--disabled-bg-color);\n",
              "    fill: var(--disabled-fill-color);\n",
              "    box-shadow: none;\n",
              "  }\n",
              "\n",
              "  .colab-df-spinner {\n",
              "    border: 2px solid var(--fill-color);\n",
              "    border-color: transparent;\n",
              "    border-bottom-color: var(--fill-color);\n",
              "    animation:\n",
              "      spin 1s steps(1) infinite;\n",
              "  }\n",
              "\n",
              "  @keyframes spin {\n",
              "    0% {\n",
              "      border-color: transparent;\n",
              "      border-bottom-color: var(--fill-color);\n",
              "      border-left-color: var(--fill-color);\n",
              "    }\n",
              "    20% {\n",
              "      border-color: transparent;\n",
              "      border-left-color: var(--fill-color);\n",
              "      border-top-color: var(--fill-color);\n",
              "    }\n",
              "    30% {\n",
              "      border-color: transparent;\n",
              "      border-left-color: var(--fill-color);\n",
              "      border-top-color: var(--fill-color);\n",
              "      border-right-color: var(--fill-color);\n",
              "    }\n",
              "    40% {\n",
              "      border-color: transparent;\n",
              "      border-right-color: var(--fill-color);\n",
              "      border-top-color: var(--fill-color);\n",
              "    }\n",
              "    60% {\n",
              "      border-color: transparent;\n",
              "      border-right-color: var(--fill-color);\n",
              "    }\n",
              "    80% {\n",
              "      border-color: transparent;\n",
              "      border-right-color: var(--fill-color);\n",
              "      border-bottom-color: var(--fill-color);\n",
              "    }\n",
              "    90% {\n",
              "      border-color: transparent;\n",
              "      border-bottom-color: var(--fill-color);\n",
              "    }\n",
              "  }\n",
              "</style>\n",
              "\n",
              "  <script>\n",
              "    async function quickchart(key) {\n",
              "      const quickchartButtonEl =\n",
              "        document.querySelector('#' + key + ' button');\n",
              "      quickchartButtonEl.disabled = true;  // To prevent multiple clicks.\n",
              "      quickchartButtonEl.classList.add('colab-df-spinner');\n",
              "      try {\n",
              "        const charts = await google.colab.kernel.invokeFunction(\n",
              "            'suggestCharts', [key], {});\n",
              "      } catch (error) {\n",
              "        console.error('Error during call to suggestCharts:', error);\n",
              "      }\n",
              "      quickchartButtonEl.classList.remove('colab-df-spinner');\n",
              "      quickchartButtonEl.classList.add('colab-df-quickchart-complete');\n",
              "    }\n",
              "    (() => {\n",
              "      let quickchartButtonEl =\n",
              "        document.querySelector('#df-dd7c5633-bd01-43c4-b0b7-23572a74d191 button');\n",
              "      quickchartButtonEl.style.display =\n",
              "        google.colab.kernel.accessAllowed ? 'block' : 'none';\n",
              "    })();\n",
              "  </script>\n",
              "</div>\n",
              "\n",
              "    </div>\n",
              "  </div>\n"
            ],
            "text/plain": [
              "   Unnamed: 0    author_id  rating  is_recommended  helpfulness  \\\n",
              "0           0   1945004256       5             1.0     0.000000   \n",
              "1           1   5478482359       3             1.0     0.333333   \n",
              "2           2  29002209922       5             1.0     1.000000   \n",
              "3           3   7391078463       5             1.0     1.000000   \n",
              "4           4   1766313888       5             1.0     1.000000   \n",
              "\n",
              "   total_feedback_count  total_neg_feedback_count  total_pos_feedback_count  \\\n",
              "0                     2                         2                         0   \n",
              "1                     3                         2                         1   \n",
              "2                     2                         0                         2   \n",
              "3                     2                         0                         2   \n",
              "4                    13                         0                        13   \n",
              "\n",
              "  submission_time                                        review_text  \\\n",
              "0      2022-12-10  I absolutely L-O-V-E this oil. I have acne pro...   \n",
              "1      2021-12-17  I gave this 3 stars because it give me tiny li...   \n",
              "2      2021-06-07  Works well as soon as I wash my face and pat d...   \n",
              "3      2021-05-21  this oil helped with hydration and breakouts, ...   \n",
              "4      2021-03-29  This is my first product review ever so that s...   \n",
              "\n",
              "                       review_title    skin_tone eye_color    skin_type  \\\n",
              "0                      A must have!  lightMedium     green  combination   \n",
              "1  it keeps oily skin under control    mediumTan     brown         oily   \n",
              "2                  Worth the money!  lightMedium     brown          dry   \n",
              "3                     best face oil  lightMedium     brown  combination   \n",
              "4                    Maskne miracle    mediumTan     brown  combination   \n",
              "\n",
              "  hair_color product_id                                       product_name  \\\n",
              "0        NaN    P379064  Lotus Balancing & Hydrating Natural Face Treat...   \n",
              "1      black    P379064  Lotus Balancing & Hydrating Natural Face Treat...   \n",
              "2      black    P379064  Lotus Balancing & Hydrating Natural Face Treat...   \n",
              "3     blonde    P379064  Lotus Balancing & Hydrating Natural Face Treat...   \n",
              "4      black    P379064  Lotus Balancing & Hydrating Natural Face Treat...   \n",
              "\n",
              "  brand_name  price_usd  \n",
              "0    Clarins       65.0  \n",
              "1    Clarins       65.0  \n",
              "2    Clarins       65.0  \n",
              "3    Clarins       65.0  \n",
              "4    Clarins       65.0  "
            ]
          },
          "execution_count": 8,
          "metadata": {},
          "output_type": "execute_result"
        }
      ],
      "source": [
        "# look at the first 5 rows\n",
        "review_1250enddf.head()"
      ]
    },
    {
      "cell_type": "code",
      "execution_count": 9,
      "metadata": {
        "id": "2tPTdZIiWmDu"
      },
      "outputs": [],
      "source": [
        "# drop unecessary columns to our skincare investigation\n",
        "cols_to_drop = ['Unnamed: 0','hair_color','eye_color','skin_tone']\n",
        "review_250df.drop(cols_to_drop, axis=1, inplace=True)\n",
        "review_1250enddf.drop(cols_to_drop, axis=1, inplace=True)\n",
        "review_250_500df.drop(cols_to_drop, axis=1, inplace=True)\n",
        "review_500_750df.drop(cols_to_drop, axis=1, inplace=True)\n",
        "review_750_1250df.drop(cols_to_drop, axis=1, inplace=True)\n"
      ]
    },
    {
      "cell_type": "code",
      "execution_count": 10,
      "metadata": {
        "colab": {
          "base_uri": "https://localhost:8080/"
        },
        "id": "WVqAYflOQVHs",
        "outputId": "1ed13056-4c0d-419e-e10a-f0d88a94d020"
      },
      "outputs": [
        {
          "name": "stdout",
          "output_type": "stream",
          "text": [
            "Review tables shape:\n",
            "(602130, 15)\n",
            "(49977, 15)\n",
            "(206725, 15)\n",
            "(116262, 15)\n",
            "(119317, 15)\n"
          ]
        }
      ],
      "source": [
        "print('Review tables shape:')\n",
        "print(review_250df.shape)\n",
        "print(review_1250enddf.shape)\n",
        "print(review_250_500df.shape)\n",
        "print(review_500_750df.shape)\n",
        "print(review_750_1250df.shape)"
      ]
    },
    {
      "cell_type": "code",
      "execution_count": 11,
      "metadata": {
        "colab": {
          "base_uri": "https://localhost:8080/",
          "height": 479
        },
        "id": "CCcsj0RGbjj_",
        "outputId": "fd508846-f00e-472a-a9cd-f5a37c342899"
      },
      "outputs": [
        {
          "data": {
            "application/vnd.google.colaboratory.intrinsic+json": {
              "type": "dataframe",
              "variable_name": "review_250df"
            },
            "text/html": [
              "\n",
              "  <div id=\"df-e395f23b-4772-4da6-8514-6407a8bd563b\" class=\"colab-df-container\">\n",
              "    <div>\n",
              "<style scoped>\n",
              "    .dataframe tbody tr th:only-of-type {\n",
              "        vertical-align: middle;\n",
              "    }\n",
              "\n",
              "    .dataframe tbody tr th {\n",
              "        vertical-align: top;\n",
              "    }\n",
              "\n",
              "    .dataframe thead th {\n",
              "        text-align: right;\n",
              "    }\n",
              "</style>\n",
              "<table border=\"1\" class=\"dataframe\">\n",
              "  <thead>\n",
              "    <tr style=\"text-align: right;\">\n",
              "      <th></th>\n",
              "      <th>author_id</th>\n",
              "      <th>rating</th>\n",
              "      <th>is_recommended</th>\n",
              "      <th>helpfulness</th>\n",
              "      <th>total_feedback_count</th>\n",
              "      <th>total_neg_feedback_count</th>\n",
              "      <th>total_pos_feedback_count</th>\n",
              "      <th>submission_time</th>\n",
              "      <th>review_text</th>\n",
              "      <th>review_title</th>\n",
              "      <th>skin_type</th>\n",
              "      <th>product_id</th>\n",
              "      <th>product_name</th>\n",
              "      <th>brand_name</th>\n",
              "      <th>price_usd</th>\n",
              "    </tr>\n",
              "  </thead>\n",
              "  <tbody>\n",
              "    <tr>\n",
              "      <th>0</th>\n",
              "      <td>1741593524</td>\n",
              "      <td>5</td>\n",
              "      <td>1.0</td>\n",
              "      <td>1.0</td>\n",
              "      <td>2</td>\n",
              "      <td>0</td>\n",
              "      <td>2</td>\n",
              "      <td>2023-02-01</td>\n",
              "      <td>I use this with the Nudestix “Citrus Clean Bal...</td>\n",
              "      <td>Taught me how to double cleanse!</td>\n",
              "      <td>dry</td>\n",
              "      <td>P504322</td>\n",
              "      <td>Gentle Hydra-Gel Face Cleanser</td>\n",
              "      <td>NUDESTIX</td>\n",
              "      <td>19.0</td>\n",
              "    </tr>\n",
              "    <tr>\n",
              "      <th>1</th>\n",
              "      <td>31423088263</td>\n",
              "      <td>1</td>\n",
              "      <td>0.0</td>\n",
              "      <td>NaN</td>\n",
              "      <td>0</td>\n",
              "      <td>0</td>\n",
              "      <td>0</td>\n",
              "      <td>2023-03-21</td>\n",
              "      <td>I bought this lip mask after reading the revie...</td>\n",
              "      <td>Disappointed</td>\n",
              "      <td>NaN</td>\n",
              "      <td>P420652</td>\n",
              "      <td>Lip Sleeping Mask Intense Hydration with Vitam...</td>\n",
              "      <td>LANEIGE</td>\n",
              "      <td>24.0</td>\n",
              "    </tr>\n",
              "    <tr>\n",
              "      <th>2</th>\n",
              "      <td>5061282401</td>\n",
              "      <td>5</td>\n",
              "      <td>1.0</td>\n",
              "      <td>NaN</td>\n",
              "      <td>0</td>\n",
              "      <td>0</td>\n",
              "      <td>0</td>\n",
              "      <td>2023-03-21</td>\n",
              "      <td>My review title says it all! I get so excited ...</td>\n",
              "      <td>New Favorite Routine</td>\n",
              "      <td>dry</td>\n",
              "      <td>P420652</td>\n",
              "      <td>Lip Sleeping Mask Intense Hydration with Vitam...</td>\n",
              "      <td>LANEIGE</td>\n",
              "      <td>24.0</td>\n",
              "    </tr>\n",
              "    <tr>\n",
              "      <th>3</th>\n",
              "      <td>6083038851</td>\n",
              "      <td>5</td>\n",
              "      <td>1.0</td>\n",
              "      <td>NaN</td>\n",
              "      <td>0</td>\n",
              "      <td>0</td>\n",
              "      <td>0</td>\n",
              "      <td>2023-03-20</td>\n",
              "      <td>I’ve always loved this formula for a long time...</td>\n",
              "      <td>Can't go wrong with any of them</td>\n",
              "      <td>combination</td>\n",
              "      <td>P420652</td>\n",
              "      <td>Lip Sleeping Mask Intense Hydration with Vitam...</td>\n",
              "      <td>LANEIGE</td>\n",
              "      <td>24.0</td>\n",
              "    </tr>\n",
              "    <tr>\n",
              "      <th>4</th>\n",
              "      <td>47056667835</td>\n",
              "      <td>5</td>\n",
              "      <td>1.0</td>\n",
              "      <td>NaN</td>\n",
              "      <td>0</td>\n",
              "      <td>0</td>\n",
              "      <td>0</td>\n",
              "      <td>2023-03-20</td>\n",
              "      <td>If you have dry cracked lips, this is a must h...</td>\n",
              "      <td>A must have !!!</td>\n",
              "      <td>combination</td>\n",
              "      <td>P420652</td>\n",
              "      <td>Lip Sleeping Mask Intense Hydration with Vitam...</td>\n",
              "      <td>LANEIGE</td>\n",
              "      <td>24.0</td>\n",
              "    </tr>\n",
              "  </tbody>\n",
              "</table>\n",
              "</div>\n",
              "    <div class=\"colab-df-buttons\">\n",
              "\n",
              "  <div class=\"colab-df-container\">\n",
              "    <button class=\"colab-df-convert\" onclick=\"convertToInteractive('df-e395f23b-4772-4da6-8514-6407a8bd563b')\"\n",
              "            title=\"Convert this dataframe to an interactive table.\"\n",
              "            style=\"display:none;\">\n",
              "\n",
              "  <svg xmlns=\"http://www.w3.org/2000/svg\" height=\"24px\" viewBox=\"0 -960 960 960\">\n",
              "    <path d=\"M120-120v-720h720v720H120Zm60-500h600v-160H180v160Zm220 220h160v-160H400v160Zm0 220h160v-160H400v160ZM180-400h160v-160H180v160Zm440 0h160v-160H620v160ZM180-180h160v-160H180v160Zm440 0h160v-160H620v160Z\"/>\n",
              "  </svg>\n",
              "    </button>\n",
              "\n",
              "  <style>\n",
              "    .colab-df-container {\n",
              "      display:flex;\n",
              "      gap: 12px;\n",
              "    }\n",
              "\n",
              "    .colab-df-convert {\n",
              "      background-color: #E8F0FE;\n",
              "      border: none;\n",
              "      border-radius: 50%;\n",
              "      cursor: pointer;\n",
              "      display: none;\n",
              "      fill: #1967D2;\n",
              "      height: 32px;\n",
              "      padding: 0 0 0 0;\n",
              "      width: 32px;\n",
              "    }\n",
              "\n",
              "    .colab-df-convert:hover {\n",
              "      background-color: #E2EBFA;\n",
              "      box-shadow: 0px 1px 2px rgba(60, 64, 67, 0.3), 0px 1px 3px 1px rgba(60, 64, 67, 0.15);\n",
              "      fill: #174EA6;\n",
              "    }\n",
              "\n",
              "    .colab-df-buttons div {\n",
              "      margin-bottom: 4px;\n",
              "    }\n",
              "\n",
              "    [theme=dark] .colab-df-convert {\n",
              "      background-color: #3B4455;\n",
              "      fill: #D2E3FC;\n",
              "    }\n",
              "\n",
              "    [theme=dark] .colab-df-convert:hover {\n",
              "      background-color: #434B5C;\n",
              "      box-shadow: 0px 1px 3px 1px rgba(0, 0, 0, 0.15);\n",
              "      filter: drop-shadow(0px 1px 2px rgba(0, 0, 0, 0.3));\n",
              "      fill: #FFFFFF;\n",
              "    }\n",
              "  </style>\n",
              "\n",
              "    <script>\n",
              "      const buttonEl =\n",
              "        document.querySelector('#df-e395f23b-4772-4da6-8514-6407a8bd563b button.colab-df-convert');\n",
              "      buttonEl.style.display =\n",
              "        google.colab.kernel.accessAllowed ? 'block' : 'none';\n",
              "\n",
              "      async function convertToInteractive(key) {\n",
              "        const element = document.querySelector('#df-e395f23b-4772-4da6-8514-6407a8bd563b');\n",
              "        const dataTable =\n",
              "          await google.colab.kernel.invokeFunction('convertToInteractive',\n",
              "                                                    [key], {});\n",
              "        if (!dataTable) return;\n",
              "\n",
              "        const docLinkHtml = 'Like what you see? Visit the ' +\n",
              "          '<a target=\"_blank\" href=https://colab.research.google.com/notebooks/data_table.ipynb>data table notebook</a>'\n",
              "          + ' to learn more about interactive tables.';\n",
              "        element.innerHTML = '';\n",
              "        dataTable['output_type'] = 'display_data';\n",
              "        await google.colab.output.renderOutput(dataTable, element);\n",
              "        const docLink = document.createElement('div');\n",
              "        docLink.innerHTML = docLinkHtml;\n",
              "        element.appendChild(docLink);\n",
              "      }\n",
              "    </script>\n",
              "  </div>\n",
              "\n",
              "\n",
              "<div id=\"df-4e4b7e9d-c2e3-4c64-8a89-8449e353d574\">\n",
              "  <button class=\"colab-df-quickchart\" onclick=\"quickchart('df-4e4b7e9d-c2e3-4c64-8a89-8449e353d574')\"\n",
              "            title=\"Suggest charts\"\n",
              "            style=\"display:none;\">\n",
              "\n",
              "<svg xmlns=\"http://www.w3.org/2000/svg\" height=\"24px\"viewBox=\"0 0 24 24\"\n",
              "     width=\"24px\">\n",
              "    <g>\n",
              "        <path d=\"M19 3H5c-1.1 0-2 .9-2 2v14c0 1.1.9 2 2 2h14c1.1 0 2-.9 2-2V5c0-1.1-.9-2-2-2zM9 17H7v-7h2v7zm4 0h-2V7h2v10zm4 0h-2v-4h2v4z\"/>\n",
              "    </g>\n",
              "</svg>\n",
              "  </button>\n",
              "\n",
              "<style>\n",
              "  .colab-df-quickchart {\n",
              "      --bg-color: #E8F0FE;\n",
              "      --fill-color: #1967D2;\n",
              "      --hover-bg-color: #E2EBFA;\n",
              "      --hover-fill-color: #174EA6;\n",
              "      --disabled-fill-color: #AAA;\n",
              "      --disabled-bg-color: #DDD;\n",
              "  }\n",
              "\n",
              "  [theme=dark] .colab-df-quickchart {\n",
              "      --bg-color: #3B4455;\n",
              "      --fill-color: #D2E3FC;\n",
              "      --hover-bg-color: #434B5C;\n",
              "      --hover-fill-color: #FFFFFF;\n",
              "      --disabled-bg-color: #3B4455;\n",
              "      --disabled-fill-color: #666;\n",
              "  }\n",
              "\n",
              "  .colab-df-quickchart {\n",
              "    background-color: var(--bg-color);\n",
              "    border: none;\n",
              "    border-radius: 50%;\n",
              "    cursor: pointer;\n",
              "    display: none;\n",
              "    fill: var(--fill-color);\n",
              "    height: 32px;\n",
              "    padding: 0;\n",
              "    width: 32px;\n",
              "  }\n",
              "\n",
              "  .colab-df-quickchart:hover {\n",
              "    background-color: var(--hover-bg-color);\n",
              "    box-shadow: 0 1px 2px rgba(60, 64, 67, 0.3), 0 1px 3px 1px rgba(60, 64, 67, 0.15);\n",
              "    fill: var(--button-hover-fill-color);\n",
              "  }\n",
              "\n",
              "  .colab-df-quickchart-complete:disabled,\n",
              "  .colab-df-quickchart-complete:disabled:hover {\n",
              "    background-color: var(--disabled-bg-color);\n",
              "    fill: var(--disabled-fill-color);\n",
              "    box-shadow: none;\n",
              "  }\n",
              "\n",
              "  .colab-df-spinner {\n",
              "    border: 2px solid var(--fill-color);\n",
              "    border-color: transparent;\n",
              "    border-bottom-color: var(--fill-color);\n",
              "    animation:\n",
              "      spin 1s steps(1) infinite;\n",
              "  }\n",
              "\n",
              "  @keyframes spin {\n",
              "    0% {\n",
              "      border-color: transparent;\n",
              "      border-bottom-color: var(--fill-color);\n",
              "      border-left-color: var(--fill-color);\n",
              "    }\n",
              "    20% {\n",
              "      border-color: transparent;\n",
              "      border-left-color: var(--fill-color);\n",
              "      border-top-color: var(--fill-color);\n",
              "    }\n",
              "    30% {\n",
              "      border-color: transparent;\n",
              "      border-left-color: var(--fill-color);\n",
              "      border-top-color: var(--fill-color);\n",
              "      border-right-color: var(--fill-color);\n",
              "    }\n",
              "    40% {\n",
              "      border-color: transparent;\n",
              "      border-right-color: var(--fill-color);\n",
              "      border-top-color: var(--fill-color);\n",
              "    }\n",
              "    60% {\n",
              "      border-color: transparent;\n",
              "      border-right-color: var(--fill-color);\n",
              "    }\n",
              "    80% {\n",
              "      border-color: transparent;\n",
              "      border-right-color: var(--fill-color);\n",
              "      border-bottom-color: var(--fill-color);\n",
              "    }\n",
              "    90% {\n",
              "      border-color: transparent;\n",
              "      border-bottom-color: var(--fill-color);\n",
              "    }\n",
              "  }\n",
              "</style>\n",
              "\n",
              "  <script>\n",
              "    async function quickchart(key) {\n",
              "      const quickchartButtonEl =\n",
              "        document.querySelector('#' + key + ' button');\n",
              "      quickchartButtonEl.disabled = true;  // To prevent multiple clicks.\n",
              "      quickchartButtonEl.classList.add('colab-df-spinner');\n",
              "      try {\n",
              "        const charts = await google.colab.kernel.invokeFunction(\n",
              "            'suggestCharts', [key], {});\n",
              "      } catch (error) {\n",
              "        console.error('Error during call to suggestCharts:', error);\n",
              "      }\n",
              "      quickchartButtonEl.classList.remove('colab-df-spinner');\n",
              "      quickchartButtonEl.classList.add('colab-df-quickchart-complete');\n",
              "    }\n",
              "    (() => {\n",
              "      let quickchartButtonEl =\n",
              "        document.querySelector('#df-4e4b7e9d-c2e3-4c64-8a89-8449e353d574 button');\n",
              "      quickchartButtonEl.style.display =\n",
              "        google.colab.kernel.accessAllowed ? 'block' : 'none';\n",
              "    })();\n",
              "  </script>\n",
              "</div>\n",
              "\n",
              "    </div>\n",
              "  </div>\n"
            ],
            "text/plain": [
              "     author_id  rating  is_recommended  helpfulness  total_feedback_count  \\\n",
              "0   1741593524       5             1.0          1.0                     2   \n",
              "1  31423088263       1             0.0          NaN                     0   \n",
              "2   5061282401       5             1.0          NaN                     0   \n",
              "3   6083038851       5             1.0          NaN                     0   \n",
              "4  47056667835       5             1.0          NaN                     0   \n",
              "\n",
              "   total_neg_feedback_count  total_pos_feedback_count submission_time  \\\n",
              "0                         0                         2      2023-02-01   \n",
              "1                         0                         0      2023-03-21   \n",
              "2                         0                         0      2023-03-21   \n",
              "3                         0                         0      2023-03-20   \n",
              "4                         0                         0      2023-03-20   \n",
              "\n",
              "                                         review_text  \\\n",
              "0  I use this with the Nudestix “Citrus Clean Bal...   \n",
              "1  I bought this lip mask after reading the revie...   \n",
              "2  My review title says it all! I get so excited ...   \n",
              "3  I’ve always loved this formula for a long time...   \n",
              "4  If you have dry cracked lips, this is a must h...   \n",
              "\n",
              "                       review_title    skin_type product_id  \\\n",
              "0  Taught me how to double cleanse!          dry    P504322   \n",
              "1                      Disappointed          NaN    P420652   \n",
              "2              New Favorite Routine          dry    P420652   \n",
              "3   Can't go wrong with any of them  combination    P420652   \n",
              "4                   A must have !!!  combination    P420652   \n",
              "\n",
              "                                        product_name brand_name  price_usd  \n",
              "0                     Gentle Hydra-Gel Face Cleanser   NUDESTIX       19.0  \n",
              "1  Lip Sleeping Mask Intense Hydration with Vitam...    LANEIGE       24.0  \n",
              "2  Lip Sleeping Mask Intense Hydration with Vitam...    LANEIGE       24.0  \n",
              "3  Lip Sleeping Mask Intense Hydration with Vitam...    LANEIGE       24.0  \n",
              "4  Lip Sleeping Mask Intense Hydration with Vitam...    LANEIGE       24.0  "
            ]
          },
          "execution_count": 11,
          "metadata": {},
          "output_type": "execute_result"
        }
      ],
      "source": [
        "# look at the first 5 rows\n",
        "review_250df.head()"
      ]
    },
    {
      "cell_type": "markdown",
      "metadata": {
        "id": "BldPUD7_0pkM"
      },
      "source": [
        "# Exploratory Data Analysis"
      ]
    },
    {
      "cell_type": "markdown",
      "metadata": {
        "id": "Nnt_7B7JM5Vx"
      },
      "source": [
        "Take a look at the product category present in product_df dataframe, we are only interested in skincare product. Therefore, it would be beneficial to remove those that are not in our desired category."
      ]
    },
    {
      "cell_type": "code",
      "execution_count": 12,
      "metadata": {
        "colab": {
          "base_uri": "https://localhost:8080/",
          "height": 609
        },
        "id": "vJHru56_YBDU",
        "outputId": "3af7069c-e0f7-4233-e12c-21e43617c299"
      },
      "outputs": [
        {
          "data": {
            "image/png": "[encoded data removed]",
            "text/plain": [
              "<Figure size 1000x600 with 1 Axes>"
            ]
          },
          "metadata": {},
          "output_type": "display_data"
        }
      ],
      "source": [
        "# bar plot of products in dataframe\n",
        "counts = product_df['primary_category'].value_counts()\n",
        "percentages = (counts / counts.sum())*100\n",
        "\n",
        "plt.figure(figsize=(10, 6))\n",
        "percentages.plot(kind='bar', title='Percentage Distribution of Products by their Primary Category',color='blue',alpha=.5)\n",
        "plt.ylabel('Percentage')\n",
        "plt.xlabel('Primary Category')\n",
        "plt.show()"
      ]
    },
    {
      "cell_type": "markdown",
      "metadata": {
        "id": "3Y0VViS6NTLR"
      },
      "source": [
        "It is good to see that the majority of products present are skincare, now we will go ahead and remove all the other categories."
      ]
    },
    {
      "cell_type": "code",
      "execution_count": 13,
      "metadata": {
        "colab": {
          "base_uri": "https://localhost:8080/"
        },
        "id": "qt8vupc3XTv7",
        "outputId": "9b8b27d2-c039-43b9-fa8a-9adc885e355d"
      },
      "outputs": [
        {
          "name": "stdout",
          "output_type": "stream",
          "text": [
            "(2420, 27)\n"
          ]
        }
      ],
      "source": [
        "# drop all rows that are not skincare as primary category\n",
        "product_df= product_df[product_df['primary_category']=='Skincare']\n",
        "print(product_df.shape)"
      ]
    },
    {
      "cell_type": "code",
      "execution_count": 14,
      "metadata": {
        "colab": {
          "base_uri": "https://localhost:8080/"
        },
        "id": "SDShEZq0Z5KT",
        "outputId": "707f5d9d-0660-4903-88a1-18ca6c4b60b4"
      },
      "outputs": [
        {
          "data": {
            "text/plain": [
              "Index(['product_id', 'product_name', 'brand_id', 'brand_name', 'loves_count',\n",
              "       'rating', 'reviews', 'size', 'variation_type', 'variation_value',\n",
              "       'variation_desc', 'ingredients', 'price_usd', 'value_price_usd',\n",
              "       'sale_price_usd', 'limited_edition', 'new', 'online_only',\n",
              "       'out_of_stock', 'sephora_exclusive', 'highlights', 'primary_category',\n",
              "       'secondary_category', 'tertiary_category', 'child_count',\n",
              "       'child_max_price', 'child_min_price'],\n",
              "      dtype='object')"
            ]
          },
          "execution_count": 14,
          "metadata": {},
          "output_type": "execute_result"
        }
      ],
      "source": [
        "# observe columns after isolation\n",
        "product_df.columns"
      ]
    },
    {
      "cell_type": "code",
      "execution_count": 15,
      "metadata": {
        "colab": {
          "base_uri": "https://localhost:8080/"
        },
        "id": "JX4FaY6HOp78",
        "outputId": "1ffc57ec-8b31-4776-c973-2ae03f66cc3c"
      },
      "outputs": [
        {
          "name": "stderr",
          "output_type": "stream",
          "text": [
            "<ipython-input-15-8fad8f2edc84>:2: SettingWithCopyWarning: \n",
            "A value is trying to be set on a copy of a slice from a DataFrame\n",
            "\n",
            "See the caveats in the documentation: https://pandas.pydata.org/pandas-docs/stable/user_guide/indexing.html#returning-a-view-versus-a-copy\n",
            "  product_df.rename(columns={'reviews':'num_reviews',\n"
          ]
        }
      ],
      "source": [
        "# change name of column reviews\n",
        "product_df.rename(columns={'reviews':'num_reviews',\n",
        "                          'price_usd':'original_price_usd',\n",
        "                           'rating':'average_rating'}, inplace=True)"
      ]
    },
    {
      "cell_type": "markdown",
      "metadata": {
        "id": "asv796xNUmz9"
      },
      "source": [
        "The 'wellness', 'high tech tools' and 'self tanners', secondary category of products is not within the scope of our current investigation. This category includes items like supplements and tools such as rollers. Our primary research and analysis are centered on products like creams, serums, toners, etc., which are chemically formulated to be applied to the face and address specific skincare concerns over time. As a result, we won't be conducting an in-depth examination of the 'wellness','high tech tools', and 'self tanners' categories at this time."
      ]
    },
    {
      "cell_type": "code",
      "execution_count": 16,
      "metadata": {
        "id": "lmFurMNPXRBD"
      },
      "outputs": [],
      "source": [
        "# drop rows in secondary category products_df we wont be using\n",
        "values_to_drop = ['Self Tanners','High Tech Tools','Wellness','Shop by Concern','Mini Size','Value & Gift Sets']\n",
        "product_df = product_df[~product_df['secondary_category'].isin(values_to_drop)]"
      ]
    },
    {
      "cell_type": "markdown",
      "metadata": {
        "id": "W8B3Ls14pWo2"
      },
      "source": [
        "Combining similar categories may enhance the clarity of analysis and visualization. \"Lip Balms & Treatments\" are typically regarded as forms of treatment, and its differentiation from the \"Treatments\" category does not substantially impact the analysis, grouping them together could be beneficial."
      ]
    },
    {
      "cell_type": "code",
      "execution_count": 17,
      "metadata": {
        "id": "xY7oRvVGn5qq"
      },
      "outputs": [],
      "source": [
        "# combining treatments\n",
        "categories_to_rename = ['Treatments', 'Lip Balms & Treatments']\n",
        "product_df['secondary_category'] = product_df['secondary_category'].replace(categories_to_rename, 'Treatments & Serums')"
      ]
    },
    {
      "cell_type": "code",
      "execution_count": 18,
      "metadata": {
        "colab": {
          "base_uri": "https://localhost:8080/",
          "height": 646
        },
        "id": "dNsbpnwdRL08",
        "outputId": "b39320af-769e-49eb-9b18-fb23d6e56308"
      },
      "outputs": [
        {
          "data": {
            "image/png": "[encoded data removed]",
            "text/plain": [
              "<Figure size 1000x600 with 1 Axes>"
            ]
          },
          "metadata": {},
          "output_type": "display_data"
        }
      ],
      "source": [
        "# secondary category of product distribution\n",
        "counts = product_df['secondary_category'].value_counts()\n",
        "percentages = (counts / counts.sum())*100\n",
        "\n",
        "plt.figure(figsize=(10, 6))\n",
        "percentages.plot(kind='bar', title='Percentage Distribution of Products by their Secondary Category',color='blue',alpha=.5)\n",
        "plt.ylabel('Percentage')\n",
        "plt.xlabel('Secondary Category')\n",
        "plt.show()"
      ]
    },
    {
      "cell_type": "code",
      "execution_count": 19,
      "metadata": {
        "id": "Pu1M-3Iwc3Jt"
      },
      "outputs": [],
      "source": [
        "# drop rows in tertiary category products_df we wont be using\n",
        "values_to_drop = ['Facial Rollers','BB & CC Creams','Face Wipes','Makeup Removers','Holistic Wellness', 'Teeth Whitening','Blotting Papers','Hair Removal','Beauty Supplements']\n",
        "product_df = product_df[~product_df['tertiary_category'].isin(values_to_drop)]"
      ]
    },
    {
      "cell_type": "code",
      "execution_count": 20,
      "metadata": {
        "colab": {
          "base_uri": "https://localhost:8080/",
          "height": 673
        },
        "id": "2hFHd5hwYGEB",
        "outputId": "2755d063-89e6-4e13-9803-b745707e7995"
      },
      "outputs": [
        {
          "data": {
            "image/png": "[encoded data removed]",
            "text/plain": [
              "<Figure size 1000x600 with 1 Axes>"
            ]
          },
          "metadata": {},
          "output_type": "display_data"
        }
      ],
      "source": [
        "# tertiary category of product distribution\n",
        "counts = product_df['tertiary_category'].value_counts()\n",
        "percentages = (counts / counts.sum())*100\n",
        "\n",
        "plt.figure(figsize=(10, 6))\n",
        "percentages.plot(kind='bar', title='Percentage Distribution of Products by their Tertiary Category',color='blue',alpha=.5)\n",
        "plt.ylabel('Percentage')\n",
        "plt.xlabel('Tertiary Category')\n",
        "plt.show()"
      ]
    },
    {
      "cell_type": "markdown",
      "metadata": {
        "id": "VcQNad6sjoC0"
      },
      "source": [
        "*Note: While products may be marketed for specific areas of the body, it's important to note that they often contain ingredients that address broader skincare concerns.*"
      ]
    },
    {
      "cell_type": "code",
      "execution_count": 21,
      "metadata": {
        "colab": {
          "base_uri": "https://localhost:8080/",
          "height": 109
        },
        "id": "8VC3Oq-mmUem",
        "outputId": "aaff94f7-afcf-4269-a6e2-8f74b12b9f6d"
      },
      "outputs": [
        {
          "data": {
            "application/vnd.google.colaboratory.intrinsic+json": {
              "type": "dataframe",
              "variable_name": "duplicated_products"
            },
            "text/html": [
              "\n",
              "  <div id=\"df-757d5056-badb-4adf-8235-1b4314828a07\" class=\"colab-df-container\">\n",
              "    <div>\n",
              "<style scoped>\n",
              "    .dataframe tbody tr th:only-of-type {\n",
              "        vertical-align: middle;\n",
              "    }\n",
              "\n",
              "    .dataframe tbody tr th {\n",
              "        vertical-align: top;\n",
              "    }\n",
              "\n",
              "    .dataframe thead th {\n",
              "        text-align: right;\n",
              "    }\n",
              "</style>\n",
              "<table border=\"1\" class=\"dataframe\">\n",
              "  <thead>\n",
              "    <tr style=\"text-align: right;\">\n",
              "      <th></th>\n",
              "      <th>product_id</th>\n",
              "      <th>product_name</th>\n",
              "      <th>brand_id</th>\n",
              "      <th>brand_name</th>\n",
              "      <th>loves_count</th>\n",
              "      <th>average_rating</th>\n",
              "      <th>num_reviews</th>\n",
              "      <th>size</th>\n",
              "      <th>variation_type</th>\n",
              "      <th>variation_value</th>\n",
              "      <th>...</th>\n",
              "      <th>online_only</th>\n",
              "      <th>out_of_stock</th>\n",
              "      <th>sephora_exclusive</th>\n",
              "      <th>highlights</th>\n",
              "      <th>primary_category</th>\n",
              "      <th>secondary_category</th>\n",
              "      <th>tertiary_category</th>\n",
              "      <th>child_count</th>\n",
              "      <th>child_max_price</th>\n",
              "      <th>child_min_price</th>\n",
              "    </tr>\n",
              "  </thead>\n",
              "  <tbody>\n",
              "  </tbody>\n",
              "</table>\n",
              "<p>0 rows × 27 columns</p>\n",
              "</div>\n",
              "    <div class=\"colab-df-buttons\">\n",
              "\n",
              "  <div class=\"colab-df-container\">\n",
              "    <button class=\"colab-df-convert\" onclick=\"convertToInteractive('df-757d5056-badb-4adf-8235-1b4314828a07')\"\n",
              "            title=\"Convert this dataframe to an interactive table.\"\n",
              "            style=\"display:none;\">\n",
              "\n",
              "  <svg xmlns=\"http://www.w3.org/2000/svg\" height=\"24px\" viewBox=\"0 -960 960 960\">\n",
              "    <path d=\"M120-120v-720h720v720H120Zm60-500h600v-160H180v160Zm220 220h160v-160H400v160Zm0 220h160v-160H400v160ZM180-400h160v-160H180v160Zm440 0h160v-160H620v160ZM180-180h160v-160H180v160Zm440 0h160v-160H620v160Z\"/>\n",
              "  </svg>\n",
              "    </button>\n",
              "\n",
              "  <style>\n",
              "    .colab-df-container {\n",
              "      display:flex;\n",
              "      gap: 12px;\n",
              "    }\n",
              "\n",
              "    .colab-df-convert {\n",
              "      background-color: #E8F0FE;\n",
              "      border: none;\n",
              "      border-radius: 50%;\n",
              "      cursor: pointer;\n",
              "      display: none;\n",
              "      fill: #1967D2;\n",
              "      height: 32px;\n",
              "      padding: 0 0 0 0;\n",
              "      width: 32px;\n",
              "    }\n",
              "\n",
              "    .colab-df-convert:hover {\n",
              "      background-color: #E2EBFA;\n",
              "      box-shadow: 0px 1px 2px rgba(60, 64, 67, 0.3), 0px 1px 3px 1px rgba(60, 64, 67, 0.15);\n",
              "      fill: #174EA6;\n",
              "    }\n",
              "\n",
              "    .colab-df-buttons div {\n",
              "      margin-bottom: 4px;\n",
              "    }\n",
              "\n",
              "    [theme=dark] .colab-df-convert {\n",
              "      background-color: #3B4455;\n",
              "      fill: #D2E3FC;\n",
              "    }\n",
              "\n",
              "    [theme=dark] .colab-df-convert:hover {\n",
              "      background-color: #434B5C;\n",
              "      box-shadow: 0px 1px 3px 1px rgba(0, 0, 0, 0.15);\n",
              "      filter: drop-shadow(0px 1px 2px rgba(0, 0, 0, 0.3));\n",
              "      fill: #FFFFFF;\n",
              "    }\n",
              "  </style>\n",
              "\n",
              "    <script>\n",
              "      const buttonEl =\n",
              "        document.querySelector('#df-757d5056-badb-4adf-8235-1b4314828a07 button.colab-df-convert');\n",
              "      buttonEl.style.display =\n",
              "        google.colab.kernel.accessAllowed ? 'block' : 'none';\n",
              "\n",
              "      async function convertToInteractive(key) {\n",
              "        const element = document.querySelector('#df-757d5056-badb-4adf-8235-1b4314828a07');\n",
              "        const dataTable =\n",
              "          await google.colab.kernel.invokeFunction('convertToInteractive',\n",
              "                                                    [key], {});\n",
              "        if (!dataTable) return;\n",
              "\n",
              "        const docLinkHtml = 'Like what you see? Visit the ' +\n",
              "          '<a target=\"_blank\" href=https://colab.research.google.com/notebooks/data_table.ipynb>data table notebook</a>'\n",
              "          + ' to learn more about interactive tables.';\n",
              "        element.innerHTML = '';\n",
              "        dataTable['output_type'] = 'display_data';\n",
              "        await google.colab.output.renderOutput(dataTable, element);\n",
              "        const docLink = document.createElement('div');\n",
              "        docLink.innerHTML = docLinkHtml;\n",
              "        element.appendChild(docLink);\n",
              "      }\n",
              "    </script>\n",
              "  </div>\n",
              "\n",
              "\n",
              "  <div id=\"id_131ce422-793d-4c54-bce9-954fe77ba4ef\">\n",
              "    <style>\n",
              "      .colab-df-generate {\n",
              "        background-color: #E8F0FE;\n",
              "        border: none;\n",
              "        border-radius: 50%;\n",
              "        cursor: pointer;\n",
              "        display: none;\n",
              "        fill: #1967D2;\n",
              "        height: 32px;\n",
              "        padding: 0 0 0 0;\n",
              "        width: 32px;\n",
              "      }\n",
              "\n",
              "      .colab-df-generate:hover {\n",
              "        background-color: #E2EBFA;\n",
              "        box-shadow: 0px 1px 2px rgba(60, 64, 67, 0.3), 0px 1px 3px 1px rgba(60, 64, 67, 0.15);\n",
              "        fill: #174EA6;\n",
              "      }\n",
              "\n",
              "      [theme=dark] .colab-df-generate {\n",
              "        background-color: #3B4455;\n",
              "        fill: #D2E3FC;\n",
              "      }\n",
              "\n",
              "      [theme=dark] .colab-df-generate:hover {\n",
              "        background-color: #434B5C;\n",
              "        box-shadow: 0px 1px 3px 1px rgba(0, 0, 0, 0.15);\n",
              "        filter: drop-shadow(0px 1px 2px rgba(0, 0, 0, 0.3));\n",
              "        fill: #FFFFFF;\n",
              "      }\n",
              "    </style>\n",
              "    <button class=\"colab-df-generate\" onclick=\"generateWithVariable('duplicated_products')\"\n",
              "            title=\"Generate code using this dataframe.\"\n",
              "            style=\"display:none;\">\n",
              "\n",
              "  <svg xmlns=\"http://www.w3.org/2000/svg\" height=\"24px\"viewBox=\"0 0 24 24\"\n",
              "       width=\"24px\">\n",
              "    <path d=\"M7,19H8.4L18.45,9,17,7.55,7,17.6ZM5,21V16.75L18.45,3.32a2,2,0,0,1,2.83,0l1.4,1.43a1.91,1.91,0,0,1,.58,1.4,1.91,1.91,0,0,1-.58,1.4L9.25,21ZM18.45,9,17,7.55Zm-12,3A5.31,5.31,0,0,0,4.9,8.1,5.31,5.31,0,0,0,1,6.5,5.31,5.31,0,0,0,4.9,4.9,5.31,5.31,0,0,0,6.5,1,5.31,5.31,0,0,0,8.1,4.9,5.31,5.31,0,0,0,12,6.5,5.46,5.46,0,0,0,6.5,12Z\"/>\n",
              "  </svg>\n",
              "    </button>\n",
              "    <script>\n",
              "      (() => {\n",
              "      const buttonEl =\n",
              "        document.querySelector('#id_131ce422-793d-4c54-bce9-954fe77ba4ef button.colab-df-generate');\n",
              "      buttonEl.style.display =\n",
              "        google.colab.kernel.accessAllowed ? 'block' : 'none';\n",
              "\n",
              "      buttonEl.onclick = () => {\n",
              "        google.colab.notebook.generateWithVariable('duplicated_products');\n",
              "      }\n",
              "      })();\n",
              "    </script>\n",
              "  </div>\n",
              "\n",
              "    </div>\n",
              "  </div>\n"
            ],
            "text/plain": [
              "Empty DataFrame\n",
              "Columns: [product_id, product_name, brand_id, brand_name, loves_count, average_rating, num_reviews, size, variation_type, variation_value, variation_desc, ingredients, original_price_usd, value_price_usd, sale_price_usd, limited_edition, new, online_only, out_of_stock, sephora_exclusive, highlights, primary_category, secondary_category, tertiary_category, child_count, child_max_price, child_min_price]\n",
              "Index: []\n",
              "\n",
              "[0 rows x 27 columns]"
            ]
          },
          "execution_count": 21,
          "metadata": {},
          "output_type": "execute_result"
        }
      ],
      "source": [
        "# check duplicated in products table -> product ids\n",
        "duplicated_products = product_df[product_df.duplicated(['product_id'])]\n",
        "duplicated_products"
      ]
    },
    {
      "cell_type": "code",
      "execution_count": 22,
      "metadata": {
        "colab": {
          "base_uri": "https://localhost:8080/"
        },
        "id": "vIgR_C2yrufX",
        "outputId": "19925c3c-0eb2-484a-c954-575444854a13"
      },
      "outputs": [
        {
          "data": {
            "text/plain": [
              "value_price_usd       99.413333\n",
              "variation_desc        99.360000\n",
              "sale_price_usd        98.613333\n",
              "child_max_price       81.706667\n",
              "child_min_price       81.706667\n",
              "highlights            16.746667\n",
              "variation_value        6.026667\n",
              "variation_type         4.533333\n",
              "tertiary_category      3.626667\n",
              "size                   3.146667\n",
              "average_rating         1.920000\n",
              "num_reviews            1.920000\n",
              "ingredients            1.706667\n",
              "sephora_exclusive      0.000000\n",
              "brand_id               0.000000\n",
              "child_count            0.000000\n",
              "secondary_category     0.000000\n",
              "primary_category       0.000000\n",
              "new                    0.000000\n",
              "out_of_stock           0.000000\n",
              "online_only            0.000000\n",
              "limited_edition        0.000000\n",
              "brand_name             0.000000\n",
              "product_name           0.000000\n",
              "original_price_usd     0.000000\n",
              "loves_count            0.000000\n",
              "product_id             0.000000\n",
              "dtype: float64"
            ]
          },
          "execution_count": 22,
          "metadata": {},
          "output_type": "execute_result"
        }
      ],
      "source": [
        "# missing values on products table\n",
        "sum_na = product_df.isna().sum()\n",
        "percent_missing = sum_na/len(product_df)*100\n",
        "percent_missing.sort_values(ascending=False)"
      ]
    },
    {
      "cell_type": "code",
      "execution_count": 23,
      "metadata": {
        "colab": {
          "base_uri": "https://localhost:8080/"
        },
        "id": "4t9-dpbAJsiw",
        "outputId": "f93a2c3f-d9b5-474a-dab2-c02220b10db2"
      },
      "outputs": [
        {
          "data": {
            "text/plain": [
              "1875"
            ]
          },
          "execution_count": 23,
          "metadata": {},
          "output_type": "execute_result"
        }
      ],
      "source": [
        "product_df['product_id'].nunique()"
      ]
    },
    {
      "cell_type": "code",
      "execution_count": 24,
      "metadata": {
        "id": "OjUbmYPZ5JBN"
      },
      "outputs": [],
      "source": [
        "# Concatenate all review DataFrames vertically\n",
        "all_reviews = pd.concat([review_250df, review_1250enddf, review_250_500df, review_500_750df, review_750_1250df], ignore_index=True)"
      ]
    },
    {
      "cell_type": "code",
      "execution_count": 25,
      "metadata": {
        "id": "hNAmaiFNgczh"
      },
      "outputs": [],
      "source": [
        "# get rid of products with no ingredients\n",
        "product_df = product_df[product_df['ingredients'].notna()]"
      ]
    },
    {
      "cell_type": "code",
      "execution_count": 26,
      "metadata": {
        "colab": {
          "base_uri": "https://localhost:8080/"
        },
        "id": "MZk9XhJSsswr",
        "outputId": "5e22f8a6-f9e1-4e51-b64c-b1a9b7467053"
      },
      "outputs": [
        {
          "data": {
            "text/plain": [
              "helpfulness                 51.314543\n",
              "review_title                28.385497\n",
              "is_recommended              15.349626\n",
              "skin_type                   10.193337\n",
              "review_text                  0.131943\n",
              "author_id                    0.000000\n",
              "rating                       0.000000\n",
              "total_feedback_count         0.000000\n",
              "total_neg_feedback_count     0.000000\n",
              "total_pos_feedback_count     0.000000\n",
              "submission_time              0.000000\n",
              "product_id                   0.000000\n",
              "product_name                 0.000000\n",
              "brand_name                   0.000000\n",
              "price_usd                    0.000000\n",
              "dtype: float64"
            ]
          },
          "execution_count": 26,
          "metadata": {},
          "output_type": "execute_result"
        }
      ],
      "source": [
        "# missing values on review table\n",
        "sum_na = all_reviews.isna().sum()\n",
        "percent_missing = sum_na/len(all_reviews)*100\n",
        "percent_missing.sort_values(ascending=False)"
      ]
    },
    {
      "cell_type": "code",
      "execution_count": 27,
      "metadata": {
        "colab": {
          "base_uri": "https://localhost:8080/"
        },
        "id": "QRUBmJnK9Y2B",
        "outputId": "65942fd4-49d7-4fea-f253-f36c634f5ce2"
      },
      "outputs": [
        {
          "name": "stdout",
          "output_type": "stream",
          "text": [
            "Number of missing skin_type values after imputation: 0\n"
          ]
        }
      ],
      "source": [
        "# impute skin_type by most common\n",
        "mode_skin_type = all_reviews['skin_type'].mode()[0]  # Get the most common skin_type value\n",
        "all_reviews['skin_type'].fillna(mode_skin_type, inplace=True)\n",
        "\n",
        "# Check if all missing skin_type values have been imputed\n",
        "missing_skin_type_count = all_reviews['skin_type'].isnull().sum()\n",
        "print(f\"Number of missing skin_type values after imputation: {missing_skin_type_count}\")"
      ]
    },
    {
      "cell_type": "code",
      "execution_count": 28,
      "metadata": {
        "colab": {
          "base_uri": "https://localhost:8080/",
          "height": 513
        },
        "id": "N3Tmfuy263r6",
        "outputId": "49209f82-34de-41d4-ed54-300684233896"
      },
      "outputs": [
        {
          "name": "stdout",
          "output_type": "stream",
          "text": [
            "Shape of Concatenated Reviews Dataframe: (1094411, 15)\n",
            "First 5 rows:\n"
          ]
        },
        {
          "data": {
            "application/vnd.google.colaboratory.intrinsic+json": {
              "type": "dataframe",
              "variable_name": "all_reviews"
            },
            "text/html": [
              "\n",
              "  <div id=\"df-124f94ab-7932-4f09-9501-91a25d2eed42\" class=\"colab-df-container\">\n",
              "    <div>\n",
              "<style scoped>\n",
              "    .dataframe tbody tr th:only-of-type {\n",
              "        vertical-align: middle;\n",
              "    }\n",
              "\n",
              "    .dataframe tbody tr th {\n",
              "        vertical-align: top;\n",
              "    }\n",
              "\n",
              "    .dataframe thead th {\n",
              "        text-align: right;\n",
              "    }\n",
              "</style>\n",
              "<table border=\"1\" class=\"dataframe\">\n",
              "  <thead>\n",
              "    <tr style=\"text-align: right;\">\n",
              "      <th></th>\n",
              "      <th>author_id</th>\n",
              "      <th>rating</th>\n",
              "      <th>is_recommended</th>\n",
              "      <th>helpfulness</th>\n",
              "      <th>total_feedback_count</th>\n",
              "      <th>total_neg_feedback_count</th>\n",
              "      <th>total_pos_feedback_count</th>\n",
              "      <th>submission_time</th>\n",
              "      <th>review_text</th>\n",
              "      <th>review_title</th>\n",
              "      <th>skin_type</th>\n",
              "      <th>product_id</th>\n",
              "      <th>product_name</th>\n",
              "      <th>brand_name</th>\n",
              "      <th>price_usd</th>\n",
              "    </tr>\n",
              "  </thead>\n",
              "  <tbody>\n",
              "    <tr>\n",
              "      <th>0</th>\n",
              "      <td>1741593524</td>\n",
              "      <td>5</td>\n",
              "      <td>1.0</td>\n",
              "      <td>1.0</td>\n",
              "      <td>2</td>\n",
              "      <td>0</td>\n",
              "      <td>2</td>\n",
              "      <td>2023-02-01</td>\n",
              "      <td>I use this with the Nudestix “Citrus Clean Bal...</td>\n",
              "      <td>Taught me how to double cleanse!</td>\n",
              "      <td>dry</td>\n",
              "      <td>P504322</td>\n",
              "      <td>Gentle Hydra-Gel Face Cleanser</td>\n",
              "      <td>NUDESTIX</td>\n",
              "      <td>19.0</td>\n",
              "    </tr>\n",
              "    <tr>\n",
              "      <th>1</th>\n",
              "      <td>31423088263</td>\n",
              "      <td>1</td>\n",
              "      <td>0.0</td>\n",
              "      <td>NaN</td>\n",
              "      <td>0</td>\n",
              "      <td>0</td>\n",
              "      <td>0</td>\n",
              "      <td>2023-03-21</td>\n",
              "      <td>I bought this lip mask after reading the revie...</td>\n",
              "      <td>Disappointed</td>\n",
              "      <td>combination</td>\n",
              "      <td>P420652</td>\n",
              "      <td>Lip Sleeping Mask Intense Hydration with Vitam...</td>\n",
              "      <td>LANEIGE</td>\n",
              "      <td>24.0</td>\n",
              "    </tr>\n",
              "    <tr>\n",
              "      <th>2</th>\n",
              "      <td>5061282401</td>\n",
              "      <td>5</td>\n",
              "      <td>1.0</td>\n",
              "      <td>NaN</td>\n",
              "      <td>0</td>\n",
              "      <td>0</td>\n",
              "      <td>0</td>\n",
              "      <td>2023-03-21</td>\n",
              "      <td>My review title says it all! I get so excited ...</td>\n",
              "      <td>New Favorite Routine</td>\n",
              "      <td>dry</td>\n",
              "      <td>P420652</td>\n",
              "      <td>Lip Sleeping Mask Intense Hydration with Vitam...</td>\n",
              "      <td>LANEIGE</td>\n",
              "      <td>24.0</td>\n",
              "    </tr>\n",
              "    <tr>\n",
              "      <th>3</th>\n",
              "      <td>6083038851</td>\n",
              "      <td>5</td>\n",
              "      <td>1.0</td>\n",
              "      <td>NaN</td>\n",
              "      <td>0</td>\n",
              "      <td>0</td>\n",
              "      <td>0</td>\n",
              "      <td>2023-03-20</td>\n",
              "      <td>I’ve always loved this formula for a long time...</td>\n",
              "      <td>Can't go wrong with any of them</td>\n",
              "      <td>combination</td>\n",
              "      <td>P420652</td>\n",
              "      <td>Lip Sleeping Mask Intense Hydration with Vitam...</td>\n",
              "      <td>LANEIGE</td>\n",
              "      <td>24.0</td>\n",
              "    </tr>\n",
              "    <tr>\n",
              "      <th>4</th>\n",
              "      <td>47056667835</td>\n",
              "      <td>5</td>\n",
              "      <td>1.0</td>\n",
              "      <td>NaN</td>\n",
              "      <td>0</td>\n",
              "      <td>0</td>\n",
              "      <td>0</td>\n",
              "      <td>2023-03-20</td>\n",
              "      <td>If you have dry cracked lips, this is a must h...</td>\n",
              "      <td>A must have !!!</td>\n",
              "      <td>combination</td>\n",
              "      <td>P420652</td>\n",
              "      <td>Lip Sleeping Mask Intense Hydration with Vitam...</td>\n",
              "      <td>LANEIGE</td>\n",
              "      <td>24.0</td>\n",
              "    </tr>\n",
              "  </tbody>\n",
              "</table>\n",
              "</div>\n",
              "    <div class=\"colab-df-buttons\">\n",
              "\n",
              "  <div class=\"colab-df-container\">\n",
              "    <button class=\"colab-df-convert\" onclick=\"convertToInteractive('df-124f94ab-7932-4f09-9501-91a25d2eed42')\"\n",
              "            title=\"Convert this dataframe to an interactive table.\"\n",
              "            style=\"display:none;\">\n",
              "\n",
              "  <svg xmlns=\"http://www.w3.org/2000/svg\" height=\"24px\" viewBox=\"0 -960 960 960\">\n",
              "    <path d=\"M120-120v-720h720v720H120Zm60-500h600v-160H180v160Zm220 220h160v-160H400v160Zm0 220h160v-160H400v160ZM180-400h160v-160H180v160Zm440 0h160v-160H620v160ZM180-180h160v-160H180v160Zm440 0h160v-160H620v160Z\"/>\n",
              "  </svg>\n",
              "    </button>\n",
              "\n",
              "  <style>\n",
              "    .colab-df-container {\n",
              "      display:flex;\n",
              "      gap: 12px;\n",
              "    }\n",
              "\n",
              "    .colab-df-convert {\n",
              "      background-color: #E8F0FE;\n",
              "      border: none;\n",
              "      border-radius: 50%;\n",
              "      cursor: pointer;\n",
              "      display: none;\n",
              "      fill: #1967D2;\n",
              "      height: 32px;\n",
              "      padding: 0 0 0 0;\n",
              "      width: 32px;\n",
              "    }\n",
              "\n",
              "    .colab-df-convert:hover {\n",
              "      background-color: #E2EBFA;\n",
              "      box-shadow: 0px 1px 2px rgba(60, 64, 67, 0.3), 0px 1px 3px 1px rgba(60, 64, 67, 0.15);\n",
              "      fill: #174EA6;\n",
              "    }\n",
              "\n",
              "    .colab-df-buttons div {\n",
              "      margin-bottom: 4px;\n",
              "    }\n",
              "\n",
              "    [theme=dark] .colab-df-convert {\n",
              "      background-color: #3B4455;\n",
              "      fill: #D2E3FC;\n",
              "    }\n",
              "\n",
              "    [theme=dark] .colab-df-convert:hover {\n",
              "      background-color: #434B5C;\n",
              "      box-shadow: 0px 1px 3px 1px rgba(0, 0, 0, 0.15);\n",
              "      filter: drop-shadow(0px 1px 2px rgba(0, 0, 0, 0.3));\n",
              "      fill: #FFFFFF;\n",
              "    }\n",
              "  </style>\n",
              "\n",
              "    <script>\n",
              "      const buttonEl =\n",
              "        document.querySelector('#df-124f94ab-7932-4f09-9501-91a25d2eed42 button.colab-df-convert');\n",
              "      buttonEl.style.display =\n",
              "        google.colab.kernel.accessAllowed ? 'block' : 'none';\n",
              "\n",
              "      async function convertToInteractive(key) {\n",
              "        const element = document.querySelector('#df-124f94ab-7932-4f09-9501-91a25d2eed42');\n",
              "        const dataTable =\n",
              "          await google.colab.kernel.invokeFunction('convertToInteractive',\n",
              "                                                    [key], {});\n",
              "        if (!dataTable) return;\n",
              "\n",
              "        const docLinkHtml = 'Like what you see? Visit the ' +\n",
              "          '<a target=\"_blank\" href=https://colab.research.google.com/notebooks/data_table.ipynb>data table notebook</a>'\n",
              "          + ' to learn more about interactive tables.';\n",
              "        element.innerHTML = '';\n",
              "        dataTable['output_type'] = 'display_data';\n",
              "        await google.colab.output.renderOutput(dataTable, element);\n",
              "        const docLink = document.createElement('div');\n",
              "        docLink.innerHTML = docLinkHtml;\n",
              "        element.appendChild(docLink);\n",
              "      }\n",
              "    </script>\n",
              "  </div>\n",
              "\n",
              "\n",
              "<div id=\"df-0c2bd773-1b70-47b7-bf23-3a0ef2b8537b\">\n",
              "  <button class=\"colab-df-quickchart\" onclick=\"quickchart('df-0c2bd773-1b70-47b7-bf23-3a0ef2b8537b')\"\n",
              "            title=\"Suggest charts\"\n",
              "            style=\"display:none;\">\n",
              "\n",
              "<svg xmlns=\"http://www.w3.org/2000/svg\" height=\"24px\"viewBox=\"0 0 24 24\"\n",
              "     width=\"24px\">\n",
              "    <g>\n",
              "        <path d=\"M19 3H5c-1.1 0-2 .9-2 2v14c0 1.1.9 2 2 2h14c1.1 0 2-.9 2-2V5c0-1.1-.9-2-2-2zM9 17H7v-7h2v7zm4 0h-2V7h2v10zm4 0h-2v-4h2v4z\"/>\n",
              "    </g>\n",
              "</svg>\n",
              "  </button>\n",
              "\n",
              "<style>\n",
              "  .colab-df-quickchart {\n",
              "      --bg-color: #E8F0FE;\n",
              "      --fill-color: #1967D2;\n",
              "      --hover-bg-color: #E2EBFA;\n",
              "      --hover-fill-color: #174EA6;\n",
              "      --disabled-fill-color: #AAA;\n",
              "      --disabled-bg-color: #DDD;\n",
              "  }\n",
              "\n",
              "  [theme=dark] .colab-df-quickchart {\n",
              "      --bg-color: #3B4455;\n",
              "      --fill-color: #D2E3FC;\n",
              "      --hover-bg-color: #434B5C;\n",
              "      --hover-fill-color: #FFFFFF;\n",
              "      --disabled-bg-color: #3B4455;\n",
              "      --disabled-fill-color: #666;\n",
              "  }\n",
              "\n",
              "  .colab-df-quickchart {\n",
              "    background-color: var(--bg-color);\n",
              "    border: none;\n",
              "    border-radius: 50%;\n",
              "    cursor: pointer;\n",
              "    display: none;\n",
              "    fill: var(--fill-color);\n",
              "    height: 32px;\n",
              "    padding: 0;\n",
              "    width: 32px;\n",
              "  }\n",
              "\n",
              "  .colab-df-quickchart:hover {\n",
              "    background-color: var(--hover-bg-color);\n",
              "    box-shadow: 0 1px 2px rgba(60, 64, 67, 0.3), 0 1px 3px 1px rgba(60, 64, 67, 0.15);\n",
              "    fill: var(--button-hover-fill-color);\n",
              "  }\n",
              "\n",
              "  .colab-df-quickchart-complete:disabled,\n",
              "  .colab-df-quickchart-complete:disabled:hover {\n",
              "    background-color: var(--disabled-bg-color);\n",
              "    fill: var(--disabled-fill-color);\n",
              "    box-shadow: none;\n",
              "  }\n",
              "\n",
              "  .colab-df-spinner {\n",
              "    border: 2px solid var(--fill-color);\n",
              "    border-color: transparent;\n",
              "    border-bottom-color: var(--fill-color);\n",
              "    animation:\n",
              "      spin 1s steps(1) infinite;\n",
              "  }\n",
              "\n",
              "  @keyframes spin {\n",
              "    0% {\n",
              "      border-color: transparent;\n",
              "      border-bottom-color: var(--fill-color);\n",
              "      border-left-color: var(--fill-color);\n",
              "    }\n",
              "    20% {\n",
              "      border-color: transparent;\n",
              "      border-left-color: var(--fill-color);\n",
              "      border-top-color: var(--fill-color);\n",
              "    }\n",
              "    30% {\n",
              "      border-color: transparent;\n",
              "      border-left-color: var(--fill-color);\n",
              "      border-top-color: var(--fill-color);\n",
              "      border-right-color: var(--fill-color);\n",
              "    }\n",
              "    40% {\n",
              "      border-color: transparent;\n",
              "      border-right-color: var(--fill-color);\n",
              "      border-top-color: var(--fill-color);\n",
              "    }\n",
              "    60% {\n",
              "      border-color: transparent;\n",
              "      border-right-color: var(--fill-color);\n",
              "    }\n",
              "    80% {\n",
              "      border-color: transparent;\n",
              "      border-right-color: var(--fill-color);\n",
              "      border-bottom-color: var(--fill-color);\n",
              "    }\n",
              "    90% {\n",
              "      border-color: transparent;\n",
              "      border-bottom-color: var(--fill-color);\n",
              "    }\n",
              "  }\n",
              "</style>\n",
              "\n",
              "  <script>\n",
              "    async function quickchart(key) {\n",
              "      const quickchartButtonEl =\n",
              "        document.querySelector('#' + key + ' button');\n",
              "      quickchartButtonEl.disabled = true;  // To prevent multiple clicks.\n",
              "      quickchartButtonEl.classList.add('colab-df-spinner');\n",
              "      try {\n",
              "        const charts = await google.colab.kernel.invokeFunction(\n",
              "            'suggestCharts', [key], {});\n",
              "      } catch (error) {\n",
              "        console.error('Error during call to suggestCharts:', error);\n",
              "      }\n",
              "      quickchartButtonEl.classList.remove('colab-df-spinner');\n",
              "      quickchartButtonEl.classList.add('colab-df-quickchart-complete');\n",
              "    }\n",
              "    (() => {\n",
              "      let quickchartButtonEl =\n",
              "        document.querySelector('#df-0c2bd773-1b70-47b7-bf23-3a0ef2b8537b button');\n",
              "      quickchartButtonEl.style.display =\n",
              "        google.colab.kernel.accessAllowed ? 'block' : 'none';\n",
              "    })();\n",
              "  </script>\n",
              "</div>\n",
              "\n",
              "    </div>\n",
              "  </div>\n"
            ],
            "text/plain": [
              "     author_id  rating  is_recommended  helpfulness  total_feedback_count  \\\n",
              "0   1741593524       5             1.0          1.0                     2   \n",
              "1  31423088263       1             0.0          NaN                     0   \n",
              "2   5061282401       5             1.0          NaN                     0   \n",
              "3   6083038851       5             1.0          NaN                     0   \n",
              "4  47056667835       5             1.0          NaN                     0   \n",
              "\n",
              "   total_neg_feedback_count  total_pos_feedback_count submission_time  \\\n",
              "0                         0                         2      2023-02-01   \n",
              "1                         0                         0      2023-03-21   \n",
              "2                         0                         0      2023-03-21   \n",
              "3                         0                         0      2023-03-20   \n",
              "4                         0                         0      2023-03-20   \n",
              "\n",
              "                                         review_text  \\\n",
              "0  I use this with the Nudestix “Citrus Clean Bal...   \n",
              "1  I bought this lip mask after reading the revie...   \n",
              "2  My review title says it all! I get so excited ...   \n",
              "3  I’ve always loved this formula for a long time...   \n",
              "4  If you have dry cracked lips, this is a must h...   \n",
              "\n",
              "                       review_title    skin_type product_id  \\\n",
              "0  Taught me how to double cleanse!          dry    P504322   \n",
              "1                      Disappointed  combination    P420652   \n",
              "2              New Favorite Routine          dry    P420652   \n",
              "3   Can't go wrong with any of them  combination    P420652   \n",
              "4                   A must have !!!  combination    P420652   \n",
              "\n",
              "                                        product_name brand_name  price_usd  \n",
              "0                     Gentle Hydra-Gel Face Cleanser   NUDESTIX       19.0  \n",
              "1  Lip Sleeping Mask Intense Hydration with Vitam...    LANEIGE       24.0  \n",
              "2  Lip Sleeping Mask Intense Hydration with Vitam...    LANEIGE       24.0  \n",
              "3  Lip Sleeping Mask Intense Hydration with Vitam...    LANEIGE       24.0  \n",
              "4  Lip Sleeping Mask Intense Hydration with Vitam...    LANEIGE       24.0  "
            ]
          },
          "execution_count": 28,
          "metadata": {},
          "output_type": "execute_result"
        }
      ],
      "source": [
        "print(f'Shape of Concatenated Reviews Dataframe: {all_reviews.shape}\\nFirst 5 rows:')\n",
        "all_reviews.head()"
      ]
    },
    {
      "cell_type": "code",
      "execution_count": 29,
      "metadata": {
        "id": "q7DT_WDaD8O0"
      },
      "outputs": [],
      "source": [
        "# renaming of columns to prevent overlap with purchase\n",
        "all_reviews.rename(columns={'price_usd':'purchase_price_usd',\n",
        "                           'rating':'author_rating'}, inplace=True)"
      ]
    },
    {
      "cell_type": "code",
      "execution_count": 30,
      "metadata": {
        "id": "HrXl82k-f48q"
      },
      "outputs": [],
      "source": [
        "# merge product table and review table\n",
        "cols_join = ['product_id','product_name','brand_name']\n",
        "merged_df = pd.merge(product_df, all_reviews, on=cols_join, how='inner')"
      ]
    },
    {
      "cell_type": "markdown",
      "metadata": {
        "id": "VKFJeN9MMFzZ"
      },
      "source": [
        "We will perform an **INNER JOIN** to retain only those products that have received reviews. The reviews table contains more reviewed products than the total number of products in our products table. Initially, I filtered products from the products table based on their secondary and tertiary categories to identify those relevant to skincare for our analysis. Consequently, there is a possibility that we have reviews on the reviews table for products that do not fall within the scope of our skincare investigation.\n"
      ]
    },
    {
      "cell_type": "code",
      "execution_count": 31,
      "metadata": {
        "colab": {
          "base_uri": "https://localhost:8080/"
        },
        "id": "NZRXM8DkwLE5",
        "outputId": "f72cef9c-59a4-4521-a723-453e2eba3f85"
      },
      "outputs": [
        {
          "name": "stdout",
          "output_type": "stream",
          "text": [
            "Shape of Merged Product and Review Table:\n",
            "(930452, 39)\n",
            "Column names:\n"
          ]
        },
        {
          "data": {
            "text/plain": [
              "Index(['product_id', 'product_name', 'brand_id', 'brand_name', 'loves_count',\n",
              "       'average_rating', 'num_reviews', 'size', 'variation_type',\n",
              "       'variation_value', 'variation_desc', 'ingredients',\n",
              "       'original_price_usd', 'value_price_usd', 'sale_price_usd',\n",
              "       'limited_edition', 'new', 'online_only', 'out_of_stock',\n",
              "       'sephora_exclusive', 'highlights', 'primary_category',\n",
              "       'secondary_category', 'tertiary_category', 'child_count',\n",
              "       'child_max_price', 'child_min_price', 'author_id', 'author_rating',\n",
              "       'is_recommended', 'helpfulness', 'total_feedback_count',\n",
              "       'total_neg_feedback_count', 'total_pos_feedback_count',\n",
              "       'submission_time', 'review_text', 'review_title', 'skin_type',\n",
              "       'purchase_price_usd'],\n",
              "      dtype='object')"
            ]
          },
          "execution_count": 31,
          "metadata": {},
          "output_type": "execute_result"
        }
      ],
      "source": [
        "# new shape of merged tables\n",
        "print(f'Shape of Merged Product and Review Table:\\n{merged_df.shape}\\nColumn names:')\n",
        "merged_df.columns"
      ]
    },
    {
      "cell_type": "code",
      "execution_count": 32,
      "metadata": {
        "colab": {
          "base_uri": "https://localhost:8080/"
        },
        "id": "e991Y5WjaBJ4",
        "outputId": "bd835d77-f42f-4a7b-a914-cdd6490732a6"
      },
      "outputs": [
        {
          "name": "stdout",
          "output_type": "stream",
          "text": [
            "4791\n"
          ]
        }
      ],
      "source": [
        "# remove duplicates\n",
        "# those authors who have reviews the same product more than once\n",
        "print(merged_df.duplicated(subset=['author_id', 'product_id']).sum())\n",
        "merged_df = merged_df.drop_duplicates(subset=['author_id', 'product_id'])"
      ]
    },
    {
      "cell_type": "code",
      "execution_count": 33,
      "metadata": {
        "colab": {
          "base_uri": "https://localhost:8080/"
        },
        "id": "WwKBtUCWyXnO",
        "outputId": "2d395023-f156-4da8-f04b-27892a011ebc"
      },
      "outputs": [
        {
          "data": {
            "text/plain": [
              "variation_desc              99.127002\n",
              "sale_price_usd              99.010869\n",
              "value_price_usd             97.572653\n",
              "child_max_price             55.501420\n",
              "child_min_price             55.501420\n",
              "helpfulness                 52.066793\n",
              "review_title                28.408348\n",
              "is_recommended              15.442478\n",
              "highlights                  10.713749\n",
              "tertiary_category            6.616461\n",
              "variation_value              4.156813\n",
              "variation_type               3.468008\n",
              "size                         2.541211\n",
              "review_text                  0.129745\n",
              "author_id                    0.000000\n",
              "author_rating                0.000000\n",
              "product_id                   0.000000\n",
              "total_neg_feedback_count     0.000000\n",
              "total_feedback_count         0.000000\n",
              "total_pos_feedback_count     0.000000\n",
              "submission_time              0.000000\n",
              "skin_type                    0.000000\n",
              "child_count                  0.000000\n",
              "sephora_exclusive            0.000000\n",
              "secondary_category           0.000000\n",
              "primary_category             0.000000\n",
              "product_name                 0.000000\n",
              "out_of_stock                 0.000000\n",
              "online_only                  0.000000\n",
              "new                          0.000000\n",
              "limited_edition              0.000000\n",
              "original_price_usd           0.000000\n",
              "ingredients                  0.000000\n",
              "num_reviews                  0.000000\n",
              "average_rating               0.000000\n",
              "loves_count                  0.000000\n",
              "brand_name                   0.000000\n",
              "brand_id                     0.000000\n",
              "purchase_price_usd           0.000000\n",
              "dtype: float64"
            ]
          },
          "execution_count": 33,
          "metadata": {},
          "output_type": "execute_result"
        }
      ],
      "source": [
        "# missing values on review table\n",
        "sum_na = merged_df.isna().sum()\n",
        "percent_missing = sum_na/len(merged_df)*100\n",
        "percent_missing.sort_values(ascending=False)"
      ]
    },
    {
      "cell_type": "code",
      "execution_count": 34,
      "metadata": {
        "colab": {
          "base_uri": "https://localhost:8080/",
          "height": 574
        },
        "id": "QdFDUyMxrVAc",
        "outputId": "821b5b7f-f714-46af-ec98-d4b6ef6db51a"
      },
      "outputs": [
        {
          "data": {
            "image/png": "[encoded data removed]",
            "text/plain": [
              "<Figure size 1000x600 with 1 Axes>"
            ]
          },
          "metadata": {},
          "output_type": "display_data"
        }
      ],
      "source": [
        "# Calculate the total number of reviews\n",
        "total_reviews = len(merged_df)\n",
        "\n",
        "# Calculate the percentage of reviews for each skin type\n",
        "skin_type_counts = merged_df['skin_type'].value_counts()\n",
        "skin_type_percentage = (skin_type_counts / total_reviews) * 100\n",
        "\n",
        "# Plot the percentage of reviews by skin type\n",
        "plt.figure(figsize=(10, 6))\n",
        "sns.barplot(x=skin_type_percentage.index, y=skin_type_percentage.values)\n",
        "plt.title('Percentage of Reviews by Skin Type')\n",
        "plt.xlabel('Skin Type')\n",
        "plt.ylabel('Percentage of Reviews (%)')\n",
        "plt.xticks(rotation=45)\n",
        "plt.show()"
      ]
    },
    {
      "cell_type": "code",
      "execution_count": 35,
      "metadata": {
        "colab": {
          "base_uri": "https://localhost:8080/",
          "height": 821
        },
        "id": "LUohlPltrKju",
        "outputId": "58cd1730-cf62-4870-8e6a-38162ffa2a83"
      },
      "outputs": [
        {
          "data": {
            "image/png": "[encoded data removed]",
            "text/plain": [
              "<Figure size 1000x1000 with 20 Axes>"
            ]
          },
          "metadata": {},
          "output_type": "display_data"
        }
      ],
      "source": [
        "numerical_cols = ['loves_count', 'average_rating', 'num_reviews', 'original_price_usd']\n",
        "\n",
        "\n",
        "# Pair Plots\n",
        "pair_plot = sns.pairplot(merged_df[numerical_cols])\n",
        "pair_plot.fig.suptitle('Pair Plot of Numerical Variables', y=1.02)  # Adjust y position to prevent overlap\n",
        "plt.show()\n"
      ]
    },
    {
      "cell_type": "code",
      "execution_count": 36,
      "metadata": {
        "colab": {
          "base_uri": "https://localhost:8080/"
        },
        "id": "hzQvWAPFzo92",
        "outputId": "b6f78d15-0f2e-4eaf-a0db-c0f06fc5334e"
      },
      "outputs": [
        {
          "name": "stdout",
          "output_type": "stream",
          "text": [
            "0 472401\n",
            "1 166535\n",
            "2 83319\n",
            "3 48217\n",
            "4 30645\n",
            "5 20617\n",
            "6 14697\n",
            "7 10919\n",
            "8 8463\n",
            "9 6827\n",
            "10 5584\n",
            "11 4724\n",
            "12 4082\n",
            "13 3570\n",
            "14 3153\n",
            "15 2830\n",
            "16 2562\n",
            "17 2346\n",
            "18 2134\n",
            "19 1974\n"
          ]
        }
      ],
      "source": [
        "for i in range(20):\n",
        "  print(i,np.sum(merged_df['author_id'].value_counts() > i))"
      ]
    },
    {
      "cell_type": "code",
      "execution_count": 37,
      "metadata": {
        "colab": {
          "base_uri": "https://localhost:8080/",
          "height": 521
        },
        "id": "w6yJdrzNxS17",
        "outputId": "ef3d180c-18e1-4a50-cb28-5e3c03c8d792"
      },
      "outputs": [
        {
          "data": {
            "image/png": "[encoded data removed]",
            "text/plain": [
              "<Figure size 1000x600 with 1 Axes>"
            ]
          },
          "metadata": {},
          "output_type": "display_data"
        }
      ],
      "source": [
        "# Define the upper threshold\n",
        "upper_threshold = 20\n",
        "\n",
        "# Calculate the count of reviews per unique author\n",
        "author_review_counts = merged_df['author_id'].value_counts()\n",
        "\n",
        "# Filter out authors with more than the upper threshold\n",
        "author_review_counts_filtered = author_review_counts[author_review_counts <= upper_threshold]\n",
        "\n",
        "# Calculate percentages\n",
        "total_authors = len(merged_df['author_id'].unique())\n",
        "percentages = (author_review_counts_filtered.value_counts() / total_authors) * 100\n",
        "\n",
        "# Plot the histogram or bar plot\n",
        "plt.figure(figsize=(10, 6))\n",
        "percentages.plot(kind='bar', color='skyblue')\n",
        "plt.title(f'Distribution of Number of Reviews per Unique Author (Threshold = {upper_threshold})')\n",
        "plt.xlabel('Number of Reviews')\n",
        "plt.ylabel('Percentage of Authors')\n",
        "plt.xticks(rotation=0)\n",
        "plt.show()\n"
      ]
    },
    {
      "cell_type": "code",
      "execution_count": 38,
      "metadata": {
        "colab": {
          "base_uri": "https://localhost:8080/"
        },
        "id": "ZJG3UeF-O3Ey",
        "outputId": "6d281fbf-df80-47dd-ae5a-299fb17754c6"
      },
      "outputs": [
        {
          "name": "stdout",
          "output_type": "stream",
          "text": [
            "Number of users with exactly five reviews: 10028\n"
          ]
        }
      ],
      "source": [
        "reviews_count = merged_df['author_id'].value_counts()\n",
        "users_with_five_reviews = reviews_count[reviews_count == 5].index.tolist()\n",
        "\n",
        "# Filter for users with exactly five reviews\n",
        "five_reviews_df = merged_df[merged_df['author_id'].isin(users_with_five_reviews)]\n",
        "five_reviews_count = len(five_reviews_df['author_id'].unique())\n",
        "print(\"Number of users with exactly five reviews:\", five_reviews_count)"
      ]
    },
    {
      "cell_type": "code",
      "execution_count": 39,
      "metadata": {
        "colab": {
          "base_uri": "https://localhost:8080/"
        },
        "id": "NsX1iMyiRDTf",
        "outputId": "38a7d79e-64d6-49ed-9ff6-f60524a5ce99"
      },
      "outputs": [
        {
          "data": {
            "text/plain": [
              "(50140, 39)"
            ]
          },
          "execution_count": 39,
          "metadata": {},
          "output_type": "execute_result"
        }
      ],
      "source": [
        "five_reviews_df.shape"
      ]
    },
    {
      "cell_type": "code",
      "execution_count": 40,
      "metadata": {
        "colab": {
          "base_uri": "https://localhost:8080/"
        },
        "id": "IMfdQcaPQkxs",
        "outputId": "6cbc5958-9212-4b3f-f1ea-60057cf68242"
      },
      "outputs": [
        {
          "data": {
            "text/plain": [
              "Index(['product_id', 'product_name', 'brand_id', 'brand_name', 'loves_count',\n",
              "       'average_rating', 'num_reviews', 'size', 'variation_type',\n",
              "       'variation_value', 'variation_desc', 'ingredients',\n",
              "       'original_price_usd', 'value_price_usd', 'sale_price_usd',\n",
              "       'limited_edition', 'new', 'online_only', 'out_of_stock',\n",
              "       'sephora_exclusive', 'highlights', 'primary_category',\n",
              "       'secondary_category', 'tertiary_category', 'child_count',\n",
              "       'child_max_price', 'child_min_price', 'author_id', 'author_rating',\n",
              "       'is_recommended', 'helpfulness', 'total_feedback_count',\n",
              "       'total_neg_feedback_count', 'total_pos_feedback_count',\n",
              "       'submission_time', 'review_text', 'review_title', 'skin_type',\n",
              "       'purchase_price_usd'],\n",
              "      dtype='object')"
            ]
          },
          "execution_count": 40,
          "metadata": {},
          "output_type": "execute_result"
        }
      ],
      "source": [
        "five_reviews_df.columns"
      ]
    },
    {
      "cell_type": "markdown",
      "metadata": {
        "id": "MlJrsDCX6VhQ"
      },
      "source": [
        "# User-based Collaborative Filtering\n",
        "\n",
        "Distance metrics that measure the similarity between any two pairs of users"
      ]
    },
    {
      "cell_type": "code",
      "execution_count": 41,
      "metadata": {
        "id": "rwmB_L0WkpEz"
      },
      "outputs": [],
      "source": [
        "from sklearn.metrics.pairwise import cosine_similarity"
      ]
    },
    {
      "cell_type": "code",
      "execution_count": 42,
      "metadata": {
        "id": "jZjF0vI0EFSC"
      },
      "outputs": [],
      "source": [
        "# Remove users whose IDs start with 'orderGen'\n",
        "five_reviews_df = five_reviews_df[~five_reviews_df['author_id'].str.startswith('orderGen')]\n",
        "five_reviews_df = five_reviews_df[~five_reviews_df['author_id'].str.startswith('dummyUser')]"
      ]
    },
    {
      "cell_type": "code",
      "execution_count": 43,
      "metadata": {
        "id": "VJj5l4He-TCM"
      },
      "outputs": [],
      "source": [
        "five_reviews_df['author_id'] = five_reviews_df['author_id'].astype('int64')\n",
        "five_reviews_df['product_id'] = five_reviews_df['product_id'].str.replace('P', '').astype('int64')"
      ]
    },
    {
      "cell_type": "code",
      "execution_count": 44,
      "metadata": {
        "id": "MA1zF4t7wgru"
      },
      "outputs": [],
      "source": [
        "# product_id = 480612\n",
        "# product_name = product_name_dict.get(product_id)\n",
        "# if product_name:\n",
        "#     print(f\"The product name for ID {product_id} is: {product_name}\")\n",
        "# else:\n",
        "#     print(f\"No product found for ID {product_id}\")\n"
      ]
    },
    {
      "cell_type": "markdown",
      "metadata": {
        "id": "FxB0J93scA-9"
      },
      "source": [
        "## User-based Collaborative Filtering"
      ]
    },
    {
      "cell_type": "code",
      "execution_count": 45,
      "metadata": {
        "id": "2p8RajrBJ4Tl"
      },
      "outputs": [],
      "source": [
        "# Step 1: Data Preparation\n",
        "col = ['author_id', 'product_name','product_id','author_rating', 'secondary_category','skin_type','ingredients']\n",
        "data = five_reviews_df[col].copy()\n",
        "\n",
        "df_sorted = data.sort_values(by='author_id')\n",
        "\n",
        "#df_sorted.to_csv('df_sorted.csv', index=False)"
      ]
    },
    {
      "cell_type": "code",
      "execution_count": 46,
      "metadata": {
        "colab": {
          "base_uri": "https://localhost:8080/"
        },
        "id": "tD-ss1xwCPoU",
        "outputId": "ea2d0a57-2535-44bc-f6bd-3ea6a367873a"
      },
      "outputs": [
        {
          "name": "stdout",
          "output_type": "stream",
          "text": [
            "Recommended products for user: 7643544568\n"
          ]
        },
        {
          "data": {
            "text/plain": [
              "[('AHA 30% + BHA 2% Exfoliating Peeling Solution', 1.6666666666666667),\n",
              " ('Vinosource-Hydra Moisturizing Sorbet', 1.0),\n",
              " ('Gentle Cleansing Foam Hydrating Makeup Remover', 0.8333333333333334),\n",
              " ('The Dewy Skin Cream Plumping & Hydrating Moisturizer', 0.6666666666666666),\n",
              " ('Lippe Balm', 0.6666666666666666)]"
            ]
          },
          "execution_count": 46,
          "metadata": {},
          "output_type": "execute_result"
        }
      ],
      "source": [
        "\n",
        "# Keep a dictionary of the product ids and product names\n",
        "product_name_dict = {}\n",
        "for index, row in five_reviews_df.iterrows():\n",
        "    product_id = row['product_id']\n",
        "    product_name = row['product_name']\n",
        "    product_name_dict[product_id] = product_name\n",
        "\n",
        "# Step 2: Create User-Item Matrix\n",
        "user_item_matrix = df_sorted.pivot_table(index='author_id', columns='product_id', values='author_rating', fill_value=0)\n",
        "\n",
        "# Step 3: Calculate User Similarity\n",
        "user_similarity = cosine_similarity(user_item_matrix)\n",
        "\n",
        "# Step 4: Make Recommendations\n",
        "def recommend_products(user_id, user_item_matrix, user_similarity):\n",
        "    user_index = user_item_matrix.index.get_loc(user_id)\n",
        "    similar_users = user_similarity[user_index]\n",
        "    similar_users[user_index] = 0\n",
        "    user_ratings = user_item_matrix.loc[user_id]\n",
        "    similar_users_indices = similar_users > 0.5\n",
        "    similar_users_ratings = user_item_matrix[similar_users_indices].mean(axis=0)\n",
        "    recommendations = similar_users_ratings[user_ratings == 0]\n",
        "    recommendations = recommendations.sort_values(ascending=False)\n",
        "    # Fetch product names\n",
        "    recommendations_with_names = [(product_name_dict[product_id], score) for product_id, score in recommendations.items()]\n",
        "\n",
        "    return recommendations_with_names\n",
        "\n",
        "# Loop through unique secondary categories and generate recommendations\n",
        "\n",
        "user_id = 7643544568\n",
        "recommendations = recommend_products(user_id, user_item_matrix, user_similarity)\n",
        "print(\"Recommended products for user:\", user_id)\n",
        "recommendations[:5]"
      ]
    },
    {
      "cell_type": "markdown",
      "metadata": {
        "id": "ijcKTCnrcFy5"
      },
      "source": [
        "## Item-based Collaborative Filtering"
      ]
    },
    {
      "cell_type": "code",
      "execution_count": 47,
      "metadata": {
        "colab": {
          "base_uri": "https://localhost:8080/"
        },
        "id": "V_e7XMVRhJHR",
        "outputId": "f894779f-89de-457b-9bae-ca101883198b"
      },
      "outputs": [
        {
          "name": "stdout",
          "output_type": "stream",
          "text": [
            "Mini Oat Cleansing Balm: 1.0\n",
            "Salicylic Acid Acne Day Dots: 0.19736518428459804\n",
            "Succinic Acid Acne Treatment: 0.1323025748326944\n",
            "Peptide Moisturizer: 0.1039480606148003\n",
            "Symbright Brightening Moisturizer: 0.08628092369049456\n"
          ]
        }
      ],
      "source": [
        "# Transpose the User-Item Matrix to create an Item-User Matrix\n",
        "item_user_matrix = user_item_matrix.T\n",
        "\n",
        "# Calculate Item Similarity\n",
        "item_similarity = cosine_similarity(item_user_matrix)\n",
        "\n",
        "# Make recommendations based on item similarity\n",
        "def recommend_similar_products(product_id, item_user_matrix, item_similarity, product_name_dict):\n",
        "    product_index = item_user_matrix.index.get_loc(product_id)\n",
        "    similar_items = item_similarity[product_index]\n",
        "    # Get a sorted list of items based on similarity scores, excluding the item itself\n",
        "    similar_items_scores = sorted(list(enumerate(similar_items)), key=lambda x: x[1], reverse=True)[1:]\n",
        "\n",
        "    # Convert item indices back to product IDs and fetch names\n",
        "    recommendations_with_names = [(product_name_dict[item_user_matrix.index[item_index]], score) for item_index, score in similar_items_scores[:5]]\n",
        "\n",
        "    return recommendations_with_names\n",
        "\n",
        "# Example usage for a specific product\n",
        "product_id = 455364  # Example product ID\n",
        "recommendations = recommend_similar_products(product_id, item_user_matrix, item_similarity, product_name_dict)\n",
        "for product_name, score in recommendations:\n",
        "    print(f\"{product_name}: {score}\")\n"
      ]
    },
    {
      "cell_type": "code",
      "execution_count": 48,
      "metadata": {
        "id": "LljdKX8nI0S5"
      },
      "outputs": [],
      "source": [
        "import re\n",
        "\n",
        "def clean_ingredients(ingredients):\n",
        "    cleaned_ingredients_list = []\n",
        "    water_words = ['water', 'aqua', 'eau','wateraquaeau']  # Add other synonyms for water if needed\n",
        "\n",
        "    for ingredient in ingredients:\n",
        "        # Remove parentheses and their contents\n",
        "        cleaned_ingredient = re.sub(r'\\([^)]*\\)', '', ingredient)\n",
        "        # Remove numbers\n",
        "        cleaned_ingredient = re.sub(r'\\d+', '', cleaned_ingredient)\n",
        "        # Remove unnecessary characters after removing parentheses\n",
        "        cleaned_ingredient = re.sub(r'[^\\w\\s]', '', cleaned_ingredient)\n",
        "\n",
        "        # Split into individual words\n",
        "        cleaned_ingredient = cleaned_ingredient.split()\n",
        "\n",
        "        # Lowercase all words\n",
        "        cleaned_ingredient = [word.lower() for word in cleaned_ingredient]\n",
        "\n",
        "        # Remove water-related words\n",
        "        cleaned_ingredient = [word for word in cleaned_ingredient if word not in water_words]\n",
        "\n",
        "        # Keep only the first 5 and the last 5 ingredients if there are more than 10\n",
        "        if len(cleaned_ingredient) > 10:\n",
        "            cleaned_ingredient = cleaned_ingredient[:5] + cleaned_ingredient[-5:]\n",
        "\n",
        "        cleaned_ingredients_list.append(cleaned_ingredient)\n",
        "\n",
        "    return cleaned_ingredients_list\n",
        "\n",
        "cleaned_ingredients_list = clean_ingredients(data['ingredients'])\n",
        "ingredient_strings = [' '.join(ingredient) for ingredient in cleaned_ingredients_list]\n",
        "\n",
        "data['cleaned_ingredients'] = ingredient_strings\n",
        "# data['cleaned_ingredients'].head()"
      ]
    },
    {
      "cell_type": "markdown",
      "metadata": {
        "id": "6kkc_c4NcLbK"
      },
      "source": [
        "## Content Based Filtering"
      ]
    },
    {
      "cell_type": "code",
      "execution_count": 49,
      "metadata": {
        "colab": {
          "base_uri": "https://localhost:8080/"
        },
        "id": "pxa1q6wdFmiR",
        "outputId": "21b82ce3-a5b7-4814-f302-b73730abb2c3"
      },
      "outputs": [
        {
          "name": "stdout",
          "output_type": "stream",
          "text": [
            "Product we want recommendations of: Oat Cleansing Balm\n",
            "The Serum Stick: Treatment & Touch Up Balm: 1.0\n",
            "Teatreement Moisturizer: 1.0\n",
            "Argan Beta Retinol Pink Algae Serum: 1.0\n",
            "Teatreement Toner: 1.0\n",
            "Teatreement Cleansing Foam: 1.0\n"
          ]
        }
      ],
      "source": [
        "from sklearn.feature_extraction.text import TfidfVectorizer\n",
        "ingredient_strings = data['cleaned_ingredients']\n",
        "# TF-IDF vectorization for ingredients\n",
        "tfidf_vectorizer = TfidfVectorizer(stop_words='english')\n",
        "tfidf_matrix = tfidf_vectorizer.fit_transform(ingredient_strings)\n",
        "tfidf_df = pd.DataFrame(tfidf_matrix.toarray(), columns=tfidf_vectorizer.get_feature_names_out())\n",
        "\n",
        "\n",
        "def recommend_products_based_on_content(product_id, product_content_matrix, product_name_dict):\n",
        "    content_similarity = cosine_similarity(tfidf_matrix)\n",
        "    # Locate the index of the product in the matrix\n",
        "    product_index = product_content_matrix.index.get_loc(product_id)\n",
        "\n",
        "    # Retrieve content similarity scores for this product\n",
        "    content_scores = content_similarity[product_index]\n",
        "\n",
        "    # Sort the products based on their similarity scores, highest to lowest, excluding the item itself\n",
        "    sorted_content_scores = sorted(list(enumerate(content_scores)), key=lambda x: x[1], reverse=True)[1:6]  # Top 5 similar items\n",
        "\n",
        "    # Convert indices to product IDs and then to names, including their scores\n",
        "    recommendations_with_names_and_scores = [(product_name_dict[product_content_matrix.index[item_index]], score) for item_index, score in sorted_content_scores]\n",
        "\n",
        "    return recommendations_with_names_and_scores\n",
        "\n",
        "product_id = 455364  # Example product ID you're interested in\n",
        "recommendations = recommend_products_based_on_content(product_id, item_user_matrix, product_name_dict)\n",
        "\n",
        "print(f'Product we want recommendations of: {product_name_dict[product_id]}')\n",
        "for product_name, score in recommendations:\n",
        "    print(f\"{product_name}: {score}\")"
      ]
    },
    {
      "cell_type": "markdown",
      "metadata": {
        "id": "vBUAQIeIAVr3"
      },
      "source": [
        "## **Hybrid**\n",
        "\n",
        "*collaborative filtering (based on item similarity) and content-based filtering (based on product ingredients)*\n",
        "\n",
        "The combination of both approaches into a hybrid recommender system. By integrating content-based filtering and collaborative filtering, we can leverage the strengths of both methods to provide more accurate and diverse recommendations.\n",
        "\n",
        "*Content-based filtering* helps capture the intrinsic characteristics of items and recommends items similar to those the user has explicitly shown interest in, ensuring that recommendations are relevant to the user's known preferences.\n",
        "\n",
        "*Collaborative filtering* helps identify additional items that similar users have liked but may not have been considered by the content-based approach. It offers serendipitous recommendations based on the preferences of users with similar tastes, potentially introducing the user to new items they might not have discovered otherwise."
      ]
    },
    {
      "cell_type": "code",
      "execution_count": 98,
      "metadata": {
        "colab": {
          "base_uri": "https://localhost:8080/"
        },
        "id": "3ZMra-3yAhsd",
        "outputId": "1668657e-3aa4-4b6a-b264-be5488155d72"
      },
      "outputs": [
        {
          "name": "stdout",
          "output_type": "stream",
          "text": [
            "Milk Cleanse Gentle Foaming Cleanser: 1.0802846480340227\n",
            "Classic Body Organic Sunscreen Spray SPF 70 Peach Blossom: 1.072700840862788\n",
            "Glow Oil Body Sunscreen SPF 50 PA++++: 1.0553534742224595\n",
            "Unseen Sunscreen SPF 40 PA+++: 1.0494637675238487\n",
            "Cloud Dew Gel Cream Moisturizer: 1.0398997699896608\n"
          ]
        }
      ],
      "source": [
        "def hybrid_recommendation(product_id, item_user_matrix, item_similarity, tfidf_matrix, product_name_dict, top_n=5):\n",
        "    # Collaborative Filtering: Find similar items\n",
        "    product_index = item_user_matrix.index.get_loc(product_id)\n",
        "    similar_items_scores = item_similarity[product_index]\n",
        "\n",
        "    # Content-Based Filtering: Find products based on content\n",
        "    content_similarity = cosine_similarity(tfidf_matrix[product_index], tfidf_matrix).flatten()\n",
        "\n",
        "    # Combine scores from both methods\n",
        "    combined_scores = {}\n",
        "    for index, (collab_score, content_score) in enumerate(zip(similar_items_scores, content_similarity)):\n",
        "        product_name = product_name_dict[item_user_matrix.index[index]]\n",
        "        combined_scores[product_name] = collab_score + content_score\n",
        "\n",
        "    # Sort combined scores\n",
        "    sorted_combined_scores = sorted(combined_scores.items(), key=lambda x: x[1], reverse=True)[:top_n+1]\n",
        "\n",
        "    # Exclude input product from recommendations\n",
        "    sorted_combined_scores = [(product_name, score) for product_name, score in sorted_combined_scores if product_name != product_name_dict[product_id]]\n",
        "\n",
        "    return sorted_combined_scores\n",
        "\n",
        "# Function to get product name dictionary\n",
        "def get_product_name_dict(data):\n",
        "    return dict(zip(data['product_id'], data['product_name']))\n",
        "\n",
        "product_name_dict = get_product_name_dict(data)  # Assuming you have a product_name column in your data\n",
        "\n",
        "# Build the hybrid recommender system model\n",
        "hybrid_recommendation_model = lambda product_id: hybrid_recommendation(product_id, item_user_matrix, item_similarity, tfidf_matrix, product_name_dict)\n",
        "\n",
        "# Example usage for a specific product\n",
        "product_id = 456218\n",
        "recommendations = hybrid_recommendation_model(product_id)\n",
        "for product_name, score in recommendations:\n",
        "    print(f\"{product_name}: {score}\")\n"
      ]
    },
    {
      "cell_type": "markdown",
      "metadata": {
        "id": "cYSECONwJpA_"
      },
      "source": [
        "**Combined Recommendations**:\n",
        "\n",
        "The hybrid system generates recommendations by considering the results of both content-based and collaborative filtering algorithms. It calculates a combined score for each item based on its similarity to the user's past preferences (collaborative filtering) and its similarity to items the user has liked (content-based filtering).\n",
        "\n",
        "**Integration of Scores**: After calculating the combined scores, the system sorts the items based on these scores and selects the top-ranked items as recommendations to present to the user.\n",
        "\n",
        "\n",
        "**Presentation to the User**: The user receives the final list of recommended items, which includes suggestions that are influenced by both content-based and collaborative filtering approaches. From the user's perspective, there's no explicit indication of which recommendations came from which method."
      ]
    },
    {
      "cell_type": "markdown",
      "metadata": {
        "id": "2MzumVMJD3mx"
      },
      "source": [
        "## Modeling"
      ]
    },
    {
      "cell_type": "code",
      "execution_count": null,
      "metadata": {
        "id": "xQtm3wSwc3dd"
      },
      "outputs": [],
      "source": [
        "from sklearn.model_selection import train_test_split\n",
        "\n",
        "# Define the function to split data into train and test sets\n",
        "def split_data(data, test_size=0.2, random_state=42):\n",
        "    train_data, test_data = train_test_split(data, test_size=test_size, random_state=random_state)\n",
        "    return train_data, test_data"
      ]
    },
    {
      "cell_type": "code",
      "execution_count": 89,
      "metadata": {
        "colab": {
          "base_uri": "https://localhost:8080/"
        },
        "id": "Zf0IKk23Y3fY",
        "outputId": "6e1c1c06-a206-4337-dc38-166fb44e7117"
      },
      "outputs": [
        {
          "name": "stdout",
          "output_type": "stream",
          "text": [
            "Novelty Score: 1.0\n",
            "Recommendations for Product ID: 455364\n",
            "author_id                                                     5138763451\n",
            "product_name           Vitamin C Lactic Biocellulose Brightening Trea...\n",
            "product_id                                                        503927\n",
            "author_rating                                                          5\n",
            "secondary_category                                                 Masks\n",
            "skin_type                                                         normal\n",
            "ingredients            ['Water/Aqua/Eau, Glycerin, Pentylene Glycol, ...\n",
            "cleaned_ingredients    glycerin pentylene glycol ascorbic acid oil so...\n",
            "Name: 187735, dtype: object: 1.1039480606148002\n",
            "author_id                                                     1862432715\n",
            "product_name           U.F.O. Salicylic Acid BHA Acne Treatment Face Oil\n",
            "product_id                                                        410400\n",
            "author_rating                                                          5\n",
            "secondary_category                                          Moisturizers\n",
            "skin_type                                                    combination\n",
            "ingredients            ['Silybum Marianum (Milk Thistle) Seed Oil, Ni...\n",
            "cleaned_ingredients    silybum marianum seed oil nigella powder morin...\n",
            "Name: 758373, dtype: object: 1.0642730636999675\n",
            "author_id                                                     2660962313\n",
            "product_name                            Luna Sleeping Retinoid Night Oil\n",
            "product_id                                                        393718\n",
            "author_rating                                                          5\n",
            "secondary_category                                          Moisturizers\n",
            "skin_type                                                    combination\n",
            "ingredients            ['Persea Gratissima (Extra Virgin, Cold-Presse...\n",
            "cleaned_ingredients    persea gratissima oil vitis vinifera officinal...\n",
            "Name: 755356, dtype: object: 1.0515821224100714\n",
            "author_id                                                      968450924\n",
            "product_name           Yerba Mate Resurfacing + Exfoliating Energy Fa...\n",
            "product_id                                                        455934\n",
            "author_rating                                                          5\n",
            "secondary_category                                             Cleansers\n",
            "skin_type                                                    combination\n",
            "ingredients            ['Water/Aqua/Eau, Bambusa Arundinacea (Bamboo)...\n",
            "cleaned_ingredients    bambusa arundinacea stem extract diatomaceous ...\n",
            "Name: 926615, dtype: object: 1.0480391852115991\n",
            "author_id                                                     2392502354\n",
            "product_name                       Retinol Resurfacing Night Moisturizer\n",
            "product_id                                                        500114\n",
            "author_rating                                                          5\n",
            "secondary_category                                          Moisturizers\n",
            "skin_type                                                            dry\n",
            "ingredients            ['Water (Aqua), Butylene Glycol, Squalane, Nia...\n",
            "cleaned_ingredients    butylene glycol squalane niacinamide glycereth...\n",
            "Name: 138571, dtype: object: 1.0445428910764376\n"
          ]
        }
      ],
      "source": [
        "# Define the evaluation function with novelty measurement only\n",
        "def evaluate_model_with_novelty(test_data, hybrid_recommendation_model, item_user_matrix, top_n=5):\n",
        "    total_novelty = 0.0\n",
        "    total_users = 0\n",
        "    for user_id in test_data['author_id'].unique():\n",
        "        user_data = test_data[test_data['author_id'] == user_id]\n",
        "        past_interactions = set(user_data['product_id'])\n",
        "\n",
        "        # Ensure that the product_id is present in item_user_matrix index\n",
        "        product_id = user_data['product_id'].iloc[0]\n",
        "        if product_id not in item_user_matrix.index:\n",
        "            print(f\"Warning: Product ID {product_id} not found in item_user_matrix index.\")\n",
        "            continue\n",
        "\n",
        "        recommendations = hybrid_recommendation_model(product_id, item_user_matrix, top_n=top_n)\n",
        "        recommended_products = [product_id for product_id, _ in recommendations]\n",
        "\n",
        "        # Calculate novelty as the percentage of recommended items that are not in past interactions\n",
        "        num_novel_recommendations = len(set(recommended_products) - past_interactions)\n",
        "        novelty = num_novel_recommendations / len(recommended_products) if len(recommended_products) > 0 else 0\n",
        "        total_novelty += novelty\n",
        "        total_users += 1\n",
        "    return total_novelty / total_users\n",
        "\n",
        "# Function to train hybrid recommender system\n",
        "def train_hybrid_recommendation_model(train_data, item_user_matrix, item_similarity, tfidf_matrix, product_name_dict):\n",
        "    return lambda product_id, item_user_matrix, top_n: hybrid_recommendation(product_id, item_user_matrix, item_similarity, tfidf_matrix, product_name_dict, top_n=top_n)\n",
        "\n",
        "# Example usage\n",
        "train_data, test_data = split_data(data)\n",
        "product_name_dict = get_product_name_dict(data)\n",
        "\n",
        "# Train the hybrid recommender system\n",
        "hybrid_recommendation_model = train_hybrid_recommendation_model(train_data, item_user_matrix, item_similarity, tfidf_matrix, product_name_dict)\n",
        "\n",
        "# Evaluate the model for novelty\n",
        "novelty_score = evaluate_model_with_novelty(test_data, hybrid_recommendation_model, item_user_matrix, top_n=5)\n",
        "print(\"Novelty Score:\", novelty_score)\n",
        "\n",
        "# Example usage for a specific product\n",
        "product_id = 455364\n",
        "print(\"Recommendations for Product Name\" + product_name_dict[product_id])\n",
        "recommendations = hybrid_recommendation_model(product_id, item_user_matrix, top_n=5)\n",
        "for index, score in recommendations:\n",
        "    print(f\"{test_data.iloc[index]}: {score}\\n\")\n"
      ]
    }
  ],
  "metadata": {
    "colab": {
      "machine_shape": "hm",
      "provenance": []
    },
    "kernelspec": {
      "display_name": "Python 3",
      "name": "python3"
    },
    "language_info": {
      "name": "python"
    }
  },
  "nbformat": 4,
  "nbformat_minor": 0
}
