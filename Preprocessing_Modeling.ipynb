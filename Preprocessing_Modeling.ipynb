{
  "cells": [
    {
      "cell_type": "markdown",
      "metadata": {
        "id": "-FS4KzHeoKuy"
      },
      "source": [
        "[Link to the Sephora Dataset\n",
        "](https://www.kaggle.com/datasets/nadyinky/sephora-products-and-skincare-reviews/data)\n"
      ]
    },
    {
      "cell_type": "markdown",
      "metadata": {
        "id": "bSYgiOK_Ml64"
      },
      "source": [
        "## Make connections and load data"
      ]
    },
    {
      "cell_type": "code",
      "execution_count": 1,
      "metadata": {
        "colab": {
          "base_uri": "https://localhost:8080/"
        },
        "id": "TE2Ez3lPUBm0",
        "outputId": "a3d64b2d-ade3-41b1-8231-75ea69777c5e"
      },
      "outputs": [
        {
          "name": "stdout",
          "output_type": "stream",
          "text": [
            "Mounted at /content/drive\n"
          ]
        }
      ],
      "source": [
        "# connect to google drive\n",
        "from google.colab import drive\n",
        "drive.mount('/content/drive')"
      ]
    },
    {
      "cell_type": "code",
      "execution_count": null,
      "metadata": {
        "colab": {
          "base_uri": "https://localhost:8080/"
        },
        "id": "CZNELOzRMeWi",
        "outputId": "440215f4-0917-4db8-8c28-e503b6c2a0d7"
      },
      "outputs": [],
      "source": [
        "# Connect Kaggle\n",
        "!mkdir ~/.kaggle\n",
        "!cp /path/to/your/kaggle.json ~/.kaggle/\n",
        "!chmod 600 ~/.kaggle/kaggle.json\n",
        "\n",
        "# Dataset download\n",
        "!kaggle datasets download -d nadyinky/sephora-products-and-skincare-reviews\n",
        "\n",
        "# Unzip file\n",
        "!unzip /path/to/your/downloaded/file.zip -d /path/to/extract/location\n"
      ]
    },
    {
      "cell_type": "markdown",
      "metadata": {
        "id": "UdlYcbB_QS0y"
      },
      "source": [
        "### Import libraries"
      ]
    },
    {
      "cell_type": "code",
      "execution_count": 4,
      "metadata": {
        "id": "bT7Rq2MhQbCJ"
      },
      "outputs": [],
      "source": [
        "import pandas as pd\n",
        "import numpy as np\n",
        "import matplotlib.pyplot as plt\n",
        "import seaborn as sns"
      ]
    },
    {
      "cell_type": "code",
      "execution_count": 5,
      "metadata": {
        "id": "4c7Nt738NM2k"
      },
      "outputs": [],
      "source": [
        "# table paths\n",
        "product_path = '/content/product_info.csv'\n",
        "review_250path = '/content/reviews_0-250.csv'\n",
        "review_1250endpath = '/content/reviews_1250-end.csv'\n",
        "review_250_500path = '/content/reviews_250-500.csv'\n",
        "review_500_750path ='/content/reviews_500-750.csv'\n",
        "review_750_1250path = '/content/reviews_750-1250.csv'"
      ]
    },
    {
      "cell_type": "code",
      "execution_count": 6,
      "metadata": {
        "id": "xf6FMQosQMaP"
      },
      "outputs": [],
      "source": [
        "# read csv\n",
        "product_df = pd.read_csv(product_path)\n",
        "review_250df = pd.read_csv(review_250path,  dtype={1: str })\n",
        "review_1250enddf = pd.read_csv(review_1250endpath, dtype={1: str })\n",
        "review_250_500df = pd.read_csv(review_250_500path, dtype={1: str })\n",
        "review_500_750df = pd.read_csv(review_500_750path, dtype={1: str })\n",
        "review_750_1250df = pd.read_csv(review_750_1250path, dtype={1: str })"
      ]
    },
    {
      "cell_type": "markdown",
      "metadata": {
        "id": "WHkPyeYzBBWZ"
      },
      "source": [
        "*Note: reviews 0-250: reviews of 250 products are collected*"
      ]
    },
    {
      "cell_type": "code",
      "execution_count": 7,
      "metadata": {
        "colab": {
          "base_uri": "https://localhost:8080/"
        },
        "id": "kN3-3LW1QnqY",
        "outputId": "56834165-bd05-4d4c-8412-ce5b69760602"
      },
      "outputs": [
        {
          "data": {
            "text/plain": [
              "(8494, 27)"
            ]
          },
          "execution_count": 7,
          "metadata": {},
          "output_type": "execute_result"
        }
      ],
      "source": [
        "# view head of product_df\n",
        "product_df.shape"
      ]
    },
    {
      "cell_type": "markdown",
      "metadata": {
        "id": "0wUIyvw9E1a6"
      },
      "source": [
        "*Note: The review tables only show reviews for **skin care** products, therefore we want to drop or eliminate poroducts that do not belong to this category.*"
      ]
    },
    {
      "cell_type": "code",
      "execution_count": 8,
      "metadata": {
        "colab": {
          "base_uri": "https://localhost:8080/",
          "height": 496
        },
        "id": "PYou6jM3D9LK",
        "outputId": "c84fd7a5-1366-46ce-b619-bee7511e5069"
      },
      "outputs": [
        {
          "data": {
            "application/vnd.google.colaboratory.intrinsic+json": {
              "summary": "{\n  \"name\": \"review_1250enddf\",\n  \"rows\": 49977,\n  \"fields\": [\n    {\n      \"column\": \"Unnamed: 0\",\n      \"properties\": {\n        \"dtype\": \"number\",\n        \"std\": 14427,\n        \"min\": 0,\n        \"max\": 49976,\n        \"num_unique_values\": 49977,\n        \"samples\": [\n          38275,\n          32098,\n          25468\n        ],\n        \"semantic_type\": \"\",\n        \"description\": \"\"\n      }\n    },\n    {\n      \"column\": \"author_id\",\n      \"properties\": {\n        \"dtype\": \"string\",\n        \"num_unique_values\": 38907,\n        \"samples\": [\n          \"2148854116\",\n          \"76470131\",\n          \"24049240154\"\n        ],\n        \"semantic_type\": \"\",\n        \"description\": \"\"\n      }\n    },\n    {\n      \"column\": \"rating\",\n      \"properties\": {\n        \"dtype\": \"number\",\n        \"std\": 1,\n        \"min\": 1,\n        \"max\": 5,\n        \"num_unique_values\": 5,\n        \"samples\": [\n          3,\n          1,\n          2\n        ],\n        \"semantic_type\": \"\",\n        \"description\": \"\"\n      }\n    },\n    {\n      \"column\": \"is_recommended\",\n      \"properties\": {\n        \"dtype\": \"number\",\n        \"std\": 0.38965606221773585,\n        \"min\": 0.0,\n        \"max\": 1.0,\n        \"num_unique_values\": 2,\n        \"samples\": [\n          0.0,\n          1.0\n        ],\n        \"semantic_type\": \"\",\n        \"description\": \"\"\n      }\n    },\n    {\n      \"column\": \"helpfulness\",\n      \"properties\": {\n        \"dtype\": \"number\",\n        \"std\": 0.2963190703322382,\n        \"min\": 0.0,\n        \"max\": 1.0,\n        \"num_unique_values\": 1209,\n        \"samples\": [\n          0.2666670083999634,\n          0.5416669845581055\n        ],\n        \"semantic_type\": \"\",\n        \"description\": \"\"\n      }\n    },\n    {\n      \"column\": \"total_feedback_count\",\n      \"properties\": {\n        \"dtype\": \"number\",\n        \"std\": 21,\n        \"min\": 0,\n        \"max\": 1222,\n        \"num_unique_values\": 255,\n        \"samples\": [\n          224,\n          4\n        ],\n        \"semantic_type\": \"\",\n        \"description\": \"\"\n      }\n    },\n    {\n      \"column\": \"total_neg_feedback_count\",\n      \"properties\": {\n        \"dtype\": \"number\",\n        \"std\": 8,\n        \"min\": 0,\n        \"max\": 1159,\n        \"num_unique_values\": 124,\n        \"samples\": [\n          21,\n          37\n        ],\n        \"semantic_type\": \"\",\n        \"description\": \"\"\n      }\n    },\n    {\n      \"column\": \"total_pos_feedback_count\",\n      \"properties\": {\n        \"dtype\": \"number\",\n        \"std\": 16,\n        \"min\": 0,\n        \"max\": 776,\n        \"num_unique_values\": 212,\n        \"samples\": [\n          61,\n          190\n        ],\n        \"semantic_type\": \"\",\n        \"description\": \"\"\n      }\n    },\n    {\n      \"column\": \"submission_time\",\n      \"properties\": {\n        \"dtype\": \"object\",\n        \"num_unique_values\": 3490,\n        \"samples\": [\n          \"2022-11-26\",\n          \"2015-10-02\"\n        ],\n        \"semantic_type\": \"\",\n        \"description\": \"\"\n      }\n    },\n    {\n      \"column\": \"review_text\",\n      \"properties\": {\n        \"dtype\": \"string\",\n        \"num_unique_values\": 49395,\n        \"samples\": [\n          \"It\\u2019s good for a mineral sunscreen! Very low cast. I didn\\u2019t really notice an overall difference in the tone of my skin though like in the before & after pics attached to this listing. Maybe I didn\\u2019t apply enough? I\\u2019m going to play around with it more and see. Also you want to wait about 5-10 mins after applying your moisturizer before you apply this. It really balled up on me if I applied it too soon after. So far I still prefer the unseen over this. But still a good product!\",\n          \"While I am sure these vitamins are helping my liver, one thing I can guarantee they are doing is alleviating me of the dark circles under my eyes! I usually just to do my make up to make me not look like a dead person, but taking these have been a miracle. I noticed a difference about 3 days into taking this supplement. I would highly recommend this product if dark circles under your eyes is something you struggle with.\"\n        ],\n        \"semantic_type\": \"\",\n        \"description\": \"\"\n      }\n    },\n    {\n      \"column\": \"review_title\",\n      \"properties\": {\n        \"dtype\": \"string\",\n        \"num_unique_values\": 26029,\n        \"samples\": [\n          \"Glowy, hydrated skin\",\n          \"Just an extra way of pampering myself\"\n        ],\n        \"semantic_type\": \"\",\n        \"description\": \"\"\n      }\n    },\n    {\n      \"column\": \"skin_tone\",\n      \"properties\": {\n        \"dtype\": \"category\",\n        \"num_unique_values\": 14,\n        \"samples\": [\n          \"notSureST\",\n          \"porcelain\"\n        ],\n        \"semantic_type\": \"\",\n        \"description\": \"\"\n      }\n    },\n    {\n      \"column\": \"eye_color\",\n      \"properties\": {\n        \"dtype\": \"category\",\n        \"num_unique_values\": 6,\n        \"samples\": [\n          \"green\",\n          \"brown\"\n        ],\n        \"semantic_type\": \"\",\n        \"description\": \"\"\n      }\n    },\n    {\n      \"column\": \"skin_type\",\n      \"properties\": {\n        \"dtype\": \"category\",\n        \"num_unique_values\": 4,\n        \"samples\": [\n          \"oily\",\n          \"normal\"\n        ],\n        \"semantic_type\": \"\",\n        \"description\": \"\"\n      }\n    },\n    {\n      \"column\": \"hair_color\",\n      \"properties\": {\n        \"dtype\": \"category\",\n        \"num_unique_values\": 7,\n        \"samples\": [\n          \"black\",\n          \"blonde\"\n        ],\n        \"semantic_type\": \"\",\n        \"description\": \"\"\n      }\n    },\n    {\n      \"column\": \"product_id\",\n      \"properties\": {\n        \"dtype\": \"category\",\n        \"num_unique_values\": 1104,\n        \"samples\": [\n          \"P386760\",\n          \"P472058\"\n        ],\n        \"semantic_type\": \"\",\n        \"description\": \"\"\n      }\n    },\n    {\n      \"column\": \"product_name\",\n      \"properties\": {\n        \"dtype\": \"category\",\n        \"num_unique_values\": 1097,\n        \"samples\": [\n          \"Absolue Rich Cream Moisturizer\",\n          \"Clarifying Lotion\"\n        ],\n        \"semantic_type\": \"\",\n        \"description\": \"\"\n      }\n    },\n    {\n      \"column\": \"brand_name\",\n      \"properties\": {\n        \"dtype\": \"category\",\n        \"num_unique_values\": 122,\n        \"samples\": [\n          \"HUM Nutrition\",\n          \"ROSE Ingleton MD\"\n        ],\n        \"semantic_type\": \"\",\n        \"description\": \"\"\n      }\n    },\n    {\n      \"column\": \"price_usd\",\n      \"properties\": {\n        \"dtype\": \"number\",\n        \"std\": 72.21172983589739,\n        \"min\": 3.0,\n        \"max\": 1900.0,\n        \"num_unique_values\": 183,\n        \"samples\": [\n          68.0,\n          12.0\n        ],\n        \"semantic_type\": \"\",\n        \"description\": \"\"\n      }\n    }\n  ]\n}",
              "type": "dataframe",
              "variable_name": "review_1250enddf"
            },
            "text/html": [
              "\n",
              "  <div id=\"df-7baafccd-1bf1-4d90-8770-326138ed2324\" class=\"colab-df-container\">\n",
              "    <div>\n",
              "<style scoped>\n",
              "    .dataframe tbody tr th:only-of-type {\n",
              "        vertical-align: middle;\n",
              "    }\n",
              "\n",
              "    .dataframe tbody tr th {\n",
              "        vertical-align: top;\n",
              "    }\n",
              "\n",
              "    .dataframe thead th {\n",
              "        text-align: right;\n",
              "    }\n",
              "</style>\n",
              "<table border=\"1\" class=\"dataframe\">\n",
              "  <thead>\n",
              "    <tr style=\"text-align: right;\">\n",
              "      <th></th>\n",
              "      <th>Unnamed: 0</th>\n",
              "      <th>author_id</th>\n",
              "      <th>rating</th>\n",
              "      <th>is_recommended</th>\n",
              "      <th>helpfulness</th>\n",
              "      <th>total_feedback_count</th>\n",
              "      <th>total_neg_feedback_count</th>\n",
              "      <th>total_pos_feedback_count</th>\n",
              "      <th>submission_time</th>\n",
              "      <th>review_text</th>\n",
              "      <th>review_title</th>\n",
              "      <th>skin_tone</th>\n",
              "      <th>eye_color</th>\n",
              "      <th>skin_type</th>\n",
              "      <th>hair_color</th>\n",
              "      <th>product_id</th>\n",
              "      <th>product_name</th>\n",
              "      <th>brand_name</th>\n",
              "      <th>price_usd</th>\n",
              "    </tr>\n",
              "  </thead>\n",
              "  <tbody>\n",
              "    <tr>\n",
              "      <th>0</th>\n",
              "      <td>0</td>\n",
              "      <td>1945004256</td>\n",
              "      <td>5</td>\n",
              "      <td>1.0</td>\n",
              "      <td>0.000000</td>\n",
              "      <td>2</td>\n",
              "      <td>2</td>\n",
              "      <td>0</td>\n",
              "      <td>2022-12-10</td>\n",
              "      <td>I absolutely L-O-V-E this oil. I have acne pro...</td>\n",
              "      <td>A must have!</td>\n",
              "      <td>lightMedium</td>\n",
              "      <td>green</td>\n",
              "      <td>combination</td>\n",
              "      <td>NaN</td>\n",
              "      <td>P379064</td>\n",
              "      <td>Lotus Balancing &amp; Hydrating Natural Face Treat...</td>\n",
              "      <td>Clarins</td>\n",
              "      <td>65.0</td>\n",
              "    </tr>\n",
              "    <tr>\n",
              "      <th>1</th>\n",
              "      <td>1</td>\n",
              "      <td>5478482359</td>\n",
              "      <td>3</td>\n",
              "      <td>1.0</td>\n",
              "      <td>0.333333</td>\n",
              "      <td>3</td>\n",
              "      <td>2</td>\n",
              "      <td>1</td>\n",
              "      <td>2021-12-17</td>\n",
              "      <td>I gave this 3 stars because it give me tiny li...</td>\n",
              "      <td>it keeps oily skin under control</td>\n",
              "      <td>mediumTan</td>\n",
              "      <td>brown</td>\n",
              "      <td>oily</td>\n",
              "      <td>black</td>\n",
              "      <td>P379064</td>\n",
              "      <td>Lotus Balancing &amp; Hydrating Natural Face Treat...</td>\n",
              "      <td>Clarins</td>\n",
              "      <td>65.0</td>\n",
              "    </tr>\n",
              "    <tr>\n",
              "      <th>2</th>\n",
              "      <td>2</td>\n",
              "      <td>29002209922</td>\n",
              "      <td>5</td>\n",
              "      <td>1.0</td>\n",
              "      <td>1.000000</td>\n",
              "      <td>2</td>\n",
              "      <td>0</td>\n",
              "      <td>2</td>\n",
              "      <td>2021-06-07</td>\n",
              "      <td>Works well as soon as I wash my face and pat d...</td>\n",
              "      <td>Worth the money!</td>\n",
              "      <td>lightMedium</td>\n",
              "      <td>brown</td>\n",
              "      <td>dry</td>\n",
              "      <td>black</td>\n",
              "      <td>P379064</td>\n",
              "      <td>Lotus Balancing &amp; Hydrating Natural Face Treat...</td>\n",
              "      <td>Clarins</td>\n",
              "      <td>65.0</td>\n",
              "    </tr>\n",
              "    <tr>\n",
              "      <th>3</th>\n",
              "      <td>3</td>\n",
              "      <td>7391078463</td>\n",
              "      <td>5</td>\n",
              "      <td>1.0</td>\n",
              "      <td>1.000000</td>\n",
              "      <td>2</td>\n",
              "      <td>0</td>\n",
              "      <td>2</td>\n",
              "      <td>2021-05-21</td>\n",
              "      <td>this oil helped with hydration and breakouts, ...</td>\n",
              "      <td>best face oil</td>\n",
              "      <td>lightMedium</td>\n",
              "      <td>brown</td>\n",
              "      <td>combination</td>\n",
              "      <td>blonde</td>\n",
              "      <td>P379064</td>\n",
              "      <td>Lotus Balancing &amp; Hydrating Natural Face Treat...</td>\n",
              "      <td>Clarins</td>\n",
              "      <td>65.0</td>\n",
              "    </tr>\n",
              "    <tr>\n",
              "      <th>4</th>\n",
              "      <td>4</td>\n",
              "      <td>1766313888</td>\n",
              "      <td>5</td>\n",
              "      <td>1.0</td>\n",
              "      <td>1.000000</td>\n",
              "      <td>13</td>\n",
              "      <td>0</td>\n",
              "      <td>13</td>\n",
              "      <td>2021-03-29</td>\n",
              "      <td>This is my first product review ever so that s...</td>\n",
              "      <td>Maskne miracle</td>\n",
              "      <td>mediumTan</td>\n",
              "      <td>brown</td>\n",
              "      <td>combination</td>\n",
              "      <td>black</td>\n",
              "      <td>P379064</td>\n",
              "      <td>Lotus Balancing &amp; Hydrating Natural Face Treat...</td>\n",
              "      <td>Clarins</td>\n",
              "      <td>65.0</td>\n",
              "    </tr>\n",
              "  </tbody>\n",
              "</table>\n",
              "</div>\n",
              "    <div class=\"colab-df-buttons\">\n",
              "\n",
              "  <div class=\"colab-df-container\">\n",
              "    <button class=\"colab-df-convert\" onclick=\"convertToInteractive('df-7baafccd-1bf1-4d90-8770-326138ed2324')\"\n",
              "            title=\"Convert this dataframe to an interactive table.\"\n",
              "            style=\"display:none;\">\n",
              "\n",
              "  <svg xmlns=\"http://www.w3.org/2000/svg\" height=\"24px\" viewBox=\"0 -960 960 960\">\n",
              "    <path d=\"M120-120v-720h720v720H120Zm60-500h600v-160H180v160Zm220 220h160v-160H400v160Zm0 220h160v-160H400v160ZM180-400h160v-160H180v160Zm440 0h160v-160H620v160ZM180-180h160v-160H180v160Zm440 0h160v-160H620v160Z\"/>\n",
              "  </svg>\n",
              "    </button>\n",
              "\n",
              "  <style>\n",
              "    .colab-df-container {\n",
              "      display:flex;\n",
              "      gap: 12px;\n",
              "    }\n",
              "\n",
              "    .colab-df-convert {\n",
              "      background-color: #E8F0FE;\n",
              "      border: none;\n",
              "      border-radius: 50%;\n",
              "      cursor: pointer;\n",
              "      display: none;\n",
              "      fill: #1967D2;\n",
              "      height: 32px;\n",
              "      padding: 0 0 0 0;\n",
              "      width: 32px;\n",
              "    }\n",
              "\n",
              "    .colab-df-convert:hover {\n",
              "      background-color: #E2EBFA;\n",
              "      box-shadow: 0px 1px 2px rgba(60, 64, 67, 0.3), 0px 1px 3px 1px rgba(60, 64, 67, 0.15);\n",
              "      fill: #174EA6;\n",
              "    }\n",
              "\n",
              "    .colab-df-buttons div {\n",
              "      margin-bottom: 4px;\n",
              "    }\n",
              "\n",
              "    [theme=dark] .colab-df-convert {\n",
              "      background-color: #3B4455;\n",
              "      fill: #D2E3FC;\n",
              "    }\n",
              "\n",
              "    [theme=dark] .colab-df-convert:hover {\n",
              "      background-color: #434B5C;\n",
              "      box-shadow: 0px 1px 3px 1px rgba(0, 0, 0, 0.15);\n",
              "      filter: drop-shadow(0px 1px 2px rgba(0, 0, 0, 0.3));\n",
              "      fill: #FFFFFF;\n",
              "    }\n",
              "  </style>\n",
              "\n",
              "    <script>\n",
              "      const buttonEl =\n",
              "        document.querySelector('#df-7baafccd-1bf1-4d90-8770-326138ed2324 button.colab-df-convert');\n",
              "      buttonEl.style.display =\n",
              "        google.colab.kernel.accessAllowed ? 'block' : 'none';\n",
              "\n",
              "      async function convertToInteractive(key) {\n",
              "        const element = document.querySelector('#df-7baafccd-1bf1-4d90-8770-326138ed2324');\n",
              "        const dataTable =\n",
              "          await google.colab.kernel.invokeFunction('convertToInteractive',\n",
              "                                                    [key], {});\n",
              "        if (!dataTable) return;\n",
              "\n",
              "        const docLinkHtml = 'Like what you see? Visit the ' +\n",
              "          '<a target=\"_blank\" href=https://colab.research.google.com/notebooks/data_table.ipynb>data table notebook</a>'\n",
              "          + ' to learn more about interactive tables.';\n",
              "        element.innerHTML = '';\n",
              "        dataTable['output_type'] = 'display_data';\n",
              "        await google.colab.output.renderOutput(dataTable, element);\n",
              "        const docLink = document.createElement('div');\n",
              "        docLink.innerHTML = docLinkHtml;\n",
              "        element.appendChild(docLink);\n",
              "      }\n",
              "    </script>\n",
              "  </div>\n",
              "\n",
              "\n",
              "<div id=\"df-a9fd3be0-4408-48c5-8f69-777e5e4e2425\">\n",
              "  <button class=\"colab-df-quickchart\" onclick=\"quickchart('df-a9fd3be0-4408-48c5-8f69-777e5e4e2425')\"\n",
              "            title=\"Suggest charts\"\n",
              "            style=\"display:none;\">\n",
              "\n",
              "<svg xmlns=\"http://www.w3.org/2000/svg\" height=\"24px\"viewBox=\"0 0 24 24\"\n",
              "     width=\"24px\">\n",
              "    <g>\n",
              "        <path d=\"M19 3H5c-1.1 0-2 .9-2 2v14c0 1.1.9 2 2 2h14c1.1 0 2-.9 2-2V5c0-1.1-.9-2-2-2zM9 17H7v-7h2v7zm4 0h-2V7h2v10zm4 0h-2v-4h2v4z\"/>\n",
              "    </g>\n",
              "</svg>\n",
              "  </button>\n",
              "\n",
              "<style>\n",
              "  .colab-df-quickchart {\n",
              "      --bg-color: #E8F0FE;\n",
              "      --fill-color: #1967D2;\n",
              "      --hover-bg-color: #E2EBFA;\n",
              "      --hover-fill-color: #174EA6;\n",
              "      --disabled-fill-color: #AAA;\n",
              "      --disabled-bg-color: #DDD;\n",
              "  }\n",
              "\n",
              "  [theme=dark] .colab-df-quickchart {\n",
              "      --bg-color: #3B4455;\n",
              "      --fill-color: #D2E3FC;\n",
              "      --hover-bg-color: #434B5C;\n",
              "      --hover-fill-color: #FFFFFF;\n",
              "      --disabled-bg-color: #3B4455;\n",
              "      --disabled-fill-color: #666;\n",
              "  }\n",
              "\n",
              "  .colab-df-quickchart {\n",
              "    background-color: var(--bg-color);\n",
              "    border: none;\n",
              "    border-radius: 50%;\n",
              "    cursor: pointer;\n",
              "    display: none;\n",
              "    fill: var(--fill-color);\n",
              "    height: 32px;\n",
              "    padding: 0;\n",
              "    width: 32px;\n",
              "  }\n",
              "\n",
              "  .colab-df-quickchart:hover {\n",
              "    background-color: var(--hover-bg-color);\n",
              "    box-shadow: 0 1px 2px rgba(60, 64, 67, 0.3), 0 1px 3px 1px rgba(60, 64, 67, 0.15);\n",
              "    fill: var(--button-hover-fill-color);\n",
              "  }\n",
              "\n",
              "  .colab-df-quickchart-complete:disabled,\n",
              "  .colab-df-quickchart-complete:disabled:hover {\n",
              "    background-color: var(--disabled-bg-color);\n",
              "    fill: var(--disabled-fill-color);\n",
              "    box-shadow: none;\n",
              "  }\n",
              "\n",
              "  .colab-df-spinner {\n",
              "    border: 2px solid var(--fill-color);\n",
              "    border-color: transparent;\n",
              "    border-bottom-color: var(--fill-color);\n",
              "    animation:\n",
              "      spin 1s steps(1) infinite;\n",
              "  }\n",
              "\n",
              "  @keyframes spin {\n",
              "    0% {\n",
              "      border-color: transparent;\n",
              "      border-bottom-color: var(--fill-color);\n",
              "      border-left-color: var(--fill-color);\n",
              "    }\n",
              "    20% {\n",
              "      border-color: transparent;\n",
              "      border-left-color: var(--fill-color);\n",
              "      border-top-color: var(--fill-color);\n",
              "    }\n",
              "    30% {\n",
              "      border-color: transparent;\n",
              "      border-left-color: var(--fill-color);\n",
              "      border-top-color: var(--fill-color);\n",
              "      border-right-color: var(--fill-color);\n",
              "    }\n",
              "    40% {\n",
              "      border-color: transparent;\n",
              "      border-right-color: var(--fill-color);\n",
              "      border-top-color: var(--fill-color);\n",
              "    }\n",
              "    60% {\n",
              "      border-color: transparent;\n",
              "      border-right-color: var(--fill-color);\n",
              "    }\n",
              "    80% {\n",
              "      border-color: transparent;\n",
              "      border-right-color: var(--fill-color);\n",
              "      border-bottom-color: var(--fill-color);\n",
              "    }\n",
              "    90% {\n",
              "      border-color: transparent;\n",
              "      border-bottom-color: var(--fill-color);\n",
              "    }\n",
              "  }\n",
              "</style>\n",
              "\n",
              "  <script>\n",
              "    async function quickchart(key) {\n",
              "      const quickchartButtonEl =\n",
              "        document.querySelector('#' + key + ' button');\n",
              "      quickchartButtonEl.disabled = true;  // To prevent multiple clicks.\n",
              "      quickchartButtonEl.classList.add('colab-df-spinner');\n",
              "      try {\n",
              "        const charts = await google.colab.kernel.invokeFunction(\n",
              "            'suggestCharts', [key], {});\n",
              "      } catch (error) {\n",
              "        console.error('Error during call to suggestCharts:', error);\n",
              "      }\n",
              "      quickchartButtonEl.classList.remove('colab-df-spinner');\n",
              "      quickchartButtonEl.classList.add('colab-df-quickchart-complete');\n",
              "    }\n",
              "    (() => {\n",
              "      let quickchartButtonEl =\n",
              "        document.querySelector('#df-a9fd3be0-4408-48c5-8f69-777e5e4e2425 button');\n",
              "      quickchartButtonEl.style.display =\n",
              "        google.colab.kernel.accessAllowed ? 'block' : 'none';\n",
              "    })();\n",
              "  </script>\n",
              "</div>\n",
              "\n",
              "    </div>\n",
              "  </div>\n"
            ],
            "text/plain": [
              "   Unnamed: 0    author_id  rating  is_recommended  helpfulness  \\\n",
              "0           0   1945004256       5             1.0     0.000000   \n",
              "1           1   5478482359       3             1.0     0.333333   \n",
              "2           2  29002209922       5             1.0     1.000000   \n",
              "3           3   7391078463       5             1.0     1.000000   \n",
              "4           4   1766313888       5             1.0     1.000000   \n",
              "\n",
              "   total_feedback_count  total_neg_feedback_count  total_pos_feedback_count  \\\n",
              "0                     2                         2                         0   \n",
              "1                     3                         2                         1   \n",
              "2                     2                         0                         2   \n",
              "3                     2                         0                         2   \n",
              "4                    13                         0                        13   \n",
              "\n",
              "  submission_time                                        review_text  \\\n",
              "0      2022-12-10  I absolutely L-O-V-E this oil. I have acne pro...   \n",
              "1      2021-12-17  I gave this 3 stars because it give me tiny li...   \n",
              "2      2021-06-07  Works well as soon as I wash my face and pat d...   \n",
              "3      2021-05-21  this oil helped with hydration and breakouts, ...   \n",
              "4      2021-03-29  This is my first product review ever so that s...   \n",
              "\n",
              "                       review_title    skin_tone eye_color    skin_type  \\\n",
              "0                      A must have!  lightMedium     green  combination   \n",
              "1  it keeps oily skin under control    mediumTan     brown         oily   \n",
              "2                  Worth the money!  lightMedium     brown          dry   \n",
              "3                     best face oil  lightMedium     brown  combination   \n",
              "4                    Maskne miracle    mediumTan     brown  combination   \n",
              "\n",
              "  hair_color product_id                                       product_name  \\\n",
              "0        NaN    P379064  Lotus Balancing & Hydrating Natural Face Treat...   \n",
              "1      black    P379064  Lotus Balancing & Hydrating Natural Face Treat...   \n",
              "2      black    P379064  Lotus Balancing & Hydrating Natural Face Treat...   \n",
              "3     blonde    P379064  Lotus Balancing & Hydrating Natural Face Treat...   \n",
              "4      black    P379064  Lotus Balancing & Hydrating Natural Face Treat...   \n",
              "\n",
              "  brand_name  price_usd  \n",
              "0    Clarins       65.0  \n",
              "1    Clarins       65.0  \n",
              "2    Clarins       65.0  \n",
              "3    Clarins       65.0  \n",
              "4    Clarins       65.0  "
            ]
          },
          "execution_count": 8,
          "metadata": {},
          "output_type": "execute_result"
        }
      ],
      "source": [
        "# look at the first 5 rows\n",
        "review_1250enddf.head()"
      ]
    },
    {
      "cell_type": "code",
      "execution_count": 9,
      "metadata": {
        "id": "2tPTdZIiWmDu"
      },
      "outputs": [],
      "source": [
        "# drop unecessary columns to our skincare investigation\n",
        "cols_to_drop = ['Unnamed: 0','hair_color','eye_color','skin_tone']\n",
        "review_250df.drop(cols_to_drop, axis=1, inplace=True)\n",
        "review_1250enddf.drop(cols_to_drop, axis=1, inplace=True)\n",
        "review_250_500df.drop(cols_to_drop, axis=1, inplace=True)\n",
        "review_500_750df.drop(cols_to_drop, axis=1, inplace=True)\n",
        "review_750_1250df.drop(cols_to_drop, axis=1, inplace=True)\n"
      ]
    },
    {
      "cell_type": "code",
      "execution_count": 10,
      "metadata": {
        "colab": {
          "base_uri": "https://localhost:8080/"
        },
        "id": "WVqAYflOQVHs",
        "outputId": "156ee806-3080-49fd-ed29-49f89f39fd65"
      },
      "outputs": [
        {
          "name": "stdout",
          "output_type": "stream",
          "text": [
            "Review tables shape:\n",
            "(602130, 15)\n",
            "(49977, 15)\n",
            "(206725, 15)\n",
            "(116262, 15)\n",
            "(119317, 15)\n"
          ]
        }
      ],
      "source": [
        "print('Review tables shape:')\n",
        "print(review_250df.shape)\n",
        "print(review_1250enddf.shape)\n",
        "print(review_250_500df.shape)\n",
        "print(review_500_750df.shape)\n",
        "print(review_750_1250df.shape)"
      ]
    },
    {
      "cell_type": "code",
      "execution_count": 11,
      "metadata": {
        "colab": {
          "base_uri": "https://localhost:8080/",
          "height": 479
        },
        "id": "CCcsj0RGbjj_",
        "outputId": "95b81567-2ebf-4cba-c688-dea135ef4e59"
      },
      "outputs": [
        {
          "data": {
            "application/vnd.google.colaboratory.intrinsic+json": {
              "type": "dataframe",
              "variable_name": "review_250df"
            },
            "text/html": [
              "\n",
              "  <div id=\"df-78b61f78-1232-4f0c-926e-ed4ed31f2cf0\" class=\"colab-df-container\">\n",
              "    <div>\n",
              "<style scoped>\n",
              "    .dataframe tbody tr th:only-of-type {\n",
              "        vertical-align: middle;\n",
              "    }\n",
              "\n",
              "    .dataframe tbody tr th {\n",
              "        vertical-align: top;\n",
              "    }\n",
              "\n",
              "    .dataframe thead th {\n",
              "        text-align: right;\n",
              "    }\n",
              "</style>\n",
              "<table border=\"1\" class=\"dataframe\">\n",
              "  <thead>\n",
              "    <tr style=\"text-align: right;\">\n",
              "      <th></th>\n",
              "      <th>author_id</th>\n",
              "      <th>rating</th>\n",
              "      <th>is_recommended</th>\n",
              "      <th>helpfulness</th>\n",
              "      <th>total_feedback_count</th>\n",
              "      <th>total_neg_feedback_count</th>\n",
              "      <th>total_pos_feedback_count</th>\n",
              "      <th>submission_time</th>\n",
              "      <th>review_text</th>\n",
              "      <th>review_title</th>\n",
              "      <th>skin_type</th>\n",
              "      <th>product_id</th>\n",
              "      <th>product_name</th>\n",
              "      <th>brand_name</th>\n",
              "      <th>price_usd</th>\n",
              "    </tr>\n",
              "  </thead>\n",
              "  <tbody>\n",
              "    <tr>\n",
              "      <th>0</th>\n",
              "      <td>1741593524</td>\n",
              "      <td>5</td>\n",
              "      <td>1.0</td>\n",
              "      <td>1.0</td>\n",
              "      <td>2</td>\n",
              "      <td>0</td>\n",
              "      <td>2</td>\n",
              "      <td>2023-02-01</td>\n",
              "      <td>I use this with the Nudestix “Citrus Clean Bal...</td>\n",
              "      <td>Taught me how to double cleanse!</td>\n",
              "      <td>dry</td>\n",
              "      <td>P504322</td>\n",
              "      <td>Gentle Hydra-Gel Face Cleanser</td>\n",
              "      <td>NUDESTIX</td>\n",
              "      <td>19.0</td>\n",
              "    </tr>\n",
              "    <tr>\n",
              "      <th>1</th>\n",
              "      <td>31423088263</td>\n",
              "      <td>1</td>\n",
              "      <td>0.0</td>\n",
              "      <td>NaN</td>\n",
              "      <td>0</td>\n",
              "      <td>0</td>\n",
              "      <td>0</td>\n",
              "      <td>2023-03-21</td>\n",
              "      <td>I bought this lip mask after reading the revie...</td>\n",
              "      <td>Disappointed</td>\n",
              "      <td>NaN</td>\n",
              "      <td>P420652</td>\n",
              "      <td>Lip Sleeping Mask Intense Hydration with Vitam...</td>\n",
              "      <td>LANEIGE</td>\n",
              "      <td>24.0</td>\n",
              "    </tr>\n",
              "    <tr>\n",
              "      <th>2</th>\n",
              "      <td>5061282401</td>\n",
              "      <td>5</td>\n",
              "      <td>1.0</td>\n",
              "      <td>NaN</td>\n",
              "      <td>0</td>\n",
              "      <td>0</td>\n",
              "      <td>0</td>\n",
              "      <td>2023-03-21</td>\n",
              "      <td>My review title says it all! I get so excited ...</td>\n",
              "      <td>New Favorite Routine</td>\n",
              "      <td>dry</td>\n",
              "      <td>P420652</td>\n",
              "      <td>Lip Sleeping Mask Intense Hydration with Vitam...</td>\n",
              "      <td>LANEIGE</td>\n",
              "      <td>24.0</td>\n",
              "    </tr>\n",
              "    <tr>\n",
              "      <th>3</th>\n",
              "      <td>6083038851</td>\n",
              "      <td>5</td>\n",
              "      <td>1.0</td>\n",
              "      <td>NaN</td>\n",
              "      <td>0</td>\n",
              "      <td>0</td>\n",
              "      <td>0</td>\n",
              "      <td>2023-03-20</td>\n",
              "      <td>I’ve always loved this formula for a long time...</td>\n",
              "      <td>Can't go wrong with any of them</td>\n",
              "      <td>combination</td>\n",
              "      <td>P420652</td>\n",
              "      <td>Lip Sleeping Mask Intense Hydration with Vitam...</td>\n",
              "      <td>LANEIGE</td>\n",
              "      <td>24.0</td>\n",
              "    </tr>\n",
              "    <tr>\n",
              "      <th>4</th>\n",
              "      <td>47056667835</td>\n",
              "      <td>5</td>\n",
              "      <td>1.0</td>\n",
              "      <td>NaN</td>\n",
              "      <td>0</td>\n",
              "      <td>0</td>\n",
              "      <td>0</td>\n",
              "      <td>2023-03-20</td>\n",
              "      <td>If you have dry cracked lips, this is a must h...</td>\n",
              "      <td>A must have !!!</td>\n",
              "      <td>combination</td>\n",
              "      <td>P420652</td>\n",
              "      <td>Lip Sleeping Mask Intense Hydration with Vitam...</td>\n",
              "      <td>LANEIGE</td>\n",
              "      <td>24.0</td>\n",
              "    </tr>\n",
              "  </tbody>\n",
              "</table>\n",
              "</div>\n",
              "    <div class=\"colab-df-buttons\">\n",
              "\n",
              "  <div class=\"colab-df-container\">\n",
              "    <button class=\"colab-df-convert\" onclick=\"convertToInteractive('df-78b61f78-1232-4f0c-926e-ed4ed31f2cf0')\"\n",
              "            title=\"Convert this dataframe to an interactive table.\"\n",
              "            style=\"display:none;\">\n",
              "\n",
              "  <svg xmlns=\"http://www.w3.org/2000/svg\" height=\"24px\" viewBox=\"0 -960 960 960\">\n",
              "    <path d=\"M120-120v-720h720v720H120Zm60-500h600v-160H180v160Zm220 220h160v-160H400v160Zm0 220h160v-160H400v160ZM180-400h160v-160H180v160Zm440 0h160v-160H620v160ZM180-180h160v-160H180v160Zm440 0h160v-160H620v160Z\"/>\n",
              "  </svg>\n",
              "    </button>\n",
              "\n",
              "  <style>\n",
              "    .colab-df-container {\n",
              "      display:flex;\n",
              "      gap: 12px;\n",
              "    }\n",
              "\n",
              "    .colab-df-convert {\n",
              "      background-color: #E8F0FE;\n",
              "      border: none;\n",
              "      border-radius: 50%;\n",
              "      cursor: pointer;\n",
              "      display: none;\n",
              "      fill: #1967D2;\n",
              "      height: 32px;\n",
              "      padding: 0 0 0 0;\n",
              "      width: 32px;\n",
              "    }\n",
              "\n",
              "    .colab-df-convert:hover {\n",
              "      background-color: #E2EBFA;\n",
              "      box-shadow: 0px 1px 2px rgba(60, 64, 67, 0.3), 0px 1px 3px 1px rgba(60, 64, 67, 0.15);\n",
              "      fill: #174EA6;\n",
              "    }\n",
              "\n",
              "    .colab-df-buttons div {\n",
              "      margin-bottom: 4px;\n",
              "    }\n",
              "\n",
              "    [theme=dark] .colab-df-convert {\n",
              "      background-color: #3B4455;\n",
              "      fill: #D2E3FC;\n",
              "    }\n",
              "\n",
              "    [theme=dark] .colab-df-convert:hover {\n",
              "      background-color: #434B5C;\n",
              "      box-shadow: 0px 1px 3px 1px rgba(0, 0, 0, 0.15);\n",
              "      filter: drop-shadow(0px 1px 2px rgba(0, 0, 0, 0.3));\n",
              "      fill: #FFFFFF;\n",
              "    }\n",
              "  </style>\n",
              "\n",
              "    <script>\n",
              "      const buttonEl =\n",
              "        document.querySelector('#df-78b61f78-1232-4f0c-926e-ed4ed31f2cf0 button.colab-df-convert');\n",
              "      buttonEl.style.display =\n",
              "        google.colab.kernel.accessAllowed ? 'block' : 'none';\n",
              "\n",
              "      async function convertToInteractive(key) {\n",
              "        const element = document.querySelector('#df-78b61f78-1232-4f0c-926e-ed4ed31f2cf0');\n",
              "        const dataTable =\n",
              "          await google.colab.kernel.invokeFunction('convertToInteractive',\n",
              "                                                    [key], {});\n",
              "        if (!dataTable) return;\n",
              "\n",
              "        const docLinkHtml = 'Like what you see? Visit the ' +\n",
              "          '<a target=\"_blank\" href=https://colab.research.google.com/notebooks/data_table.ipynb>data table notebook</a>'\n",
              "          + ' to learn more about interactive tables.';\n",
              "        element.innerHTML = '';\n",
              "        dataTable['output_type'] = 'display_data';\n",
              "        await google.colab.output.renderOutput(dataTable, element);\n",
              "        const docLink = document.createElement('div');\n",
              "        docLink.innerHTML = docLinkHtml;\n",
              "        element.appendChild(docLink);\n",
              "      }\n",
              "    </script>\n",
              "  </div>\n",
              "\n",
              "\n",
              "<div id=\"df-df46f20b-4997-4408-94e5-587a9bf0a4fb\">\n",
              "  <button class=\"colab-df-quickchart\" onclick=\"quickchart('df-df46f20b-4997-4408-94e5-587a9bf0a4fb')\"\n",
              "            title=\"Suggest charts\"\n",
              "            style=\"display:none;\">\n",
              "\n",
              "<svg xmlns=\"http://www.w3.org/2000/svg\" height=\"24px\"viewBox=\"0 0 24 24\"\n",
              "     width=\"24px\">\n",
              "    <g>\n",
              "        <path d=\"M19 3H5c-1.1 0-2 .9-2 2v14c0 1.1.9 2 2 2h14c1.1 0 2-.9 2-2V5c0-1.1-.9-2-2-2zM9 17H7v-7h2v7zm4 0h-2V7h2v10zm4 0h-2v-4h2v4z\"/>\n",
              "    </g>\n",
              "</svg>\n",
              "  </button>\n",
              "\n",
              "<style>\n",
              "  .colab-df-quickchart {\n",
              "      --bg-color: #E8F0FE;\n",
              "      --fill-color: #1967D2;\n",
              "      --hover-bg-color: #E2EBFA;\n",
              "      --hover-fill-color: #174EA6;\n",
              "      --disabled-fill-color: #AAA;\n",
              "      --disabled-bg-color: #DDD;\n",
              "  }\n",
              "\n",
              "  [theme=dark] .colab-df-quickchart {\n",
              "      --bg-color: #3B4455;\n",
              "      --fill-color: #D2E3FC;\n",
              "      --hover-bg-color: #434B5C;\n",
              "      --hover-fill-color: #FFFFFF;\n",
              "      --disabled-bg-color: #3B4455;\n",
              "      --disabled-fill-color: #666;\n",
              "  }\n",
              "\n",
              "  .colab-df-quickchart {\n",
              "    background-color: var(--bg-color);\n",
              "    border: none;\n",
              "    border-radius: 50%;\n",
              "    cursor: pointer;\n",
              "    display: none;\n",
              "    fill: var(--fill-color);\n",
              "    height: 32px;\n",
              "    padding: 0;\n",
              "    width: 32px;\n",
              "  }\n",
              "\n",
              "  .colab-df-quickchart:hover {\n",
              "    background-color: var(--hover-bg-color);\n",
              "    box-shadow: 0 1px 2px rgba(60, 64, 67, 0.3), 0 1px 3px 1px rgba(60, 64, 67, 0.15);\n",
              "    fill: var(--button-hover-fill-color);\n",
              "  }\n",
              "\n",
              "  .colab-df-quickchart-complete:disabled,\n",
              "  .colab-df-quickchart-complete:disabled:hover {\n",
              "    background-color: var(--disabled-bg-color);\n",
              "    fill: var(--disabled-fill-color);\n",
              "    box-shadow: none;\n",
              "  }\n",
              "\n",
              "  .colab-df-spinner {\n",
              "    border: 2px solid var(--fill-color);\n",
              "    border-color: transparent;\n",
              "    border-bottom-color: var(--fill-color);\n",
              "    animation:\n",
              "      spin 1s steps(1) infinite;\n",
              "  }\n",
              "\n",
              "  @keyframes spin {\n",
              "    0% {\n",
              "      border-color: transparent;\n",
              "      border-bottom-color: var(--fill-color);\n",
              "      border-left-color: var(--fill-color);\n",
              "    }\n",
              "    20% {\n",
              "      border-color: transparent;\n",
              "      border-left-color: var(--fill-color);\n",
              "      border-top-color: var(--fill-color);\n",
              "    }\n",
              "    30% {\n",
              "      border-color: transparent;\n",
              "      border-left-color: var(--fill-color);\n",
              "      border-top-color: var(--fill-color);\n",
              "      border-right-color: var(--fill-color);\n",
              "    }\n",
              "    40% {\n",
              "      border-color: transparent;\n",
              "      border-right-color: var(--fill-color);\n",
              "      border-top-color: var(--fill-color);\n",
              "    }\n",
              "    60% {\n",
              "      border-color: transparent;\n",
              "      border-right-color: var(--fill-color);\n",
              "    }\n",
              "    80% {\n",
              "      border-color: transparent;\n",
              "      border-right-color: var(--fill-color);\n",
              "      border-bottom-color: var(--fill-color);\n",
              "    }\n",
              "    90% {\n",
              "      border-color: transparent;\n",
              "      border-bottom-color: var(--fill-color);\n",
              "    }\n",
              "  }\n",
              "</style>\n",
              "\n",
              "  <script>\n",
              "    async function quickchart(key) {\n",
              "      const quickchartButtonEl =\n",
              "        document.querySelector('#' + key + ' button');\n",
              "      quickchartButtonEl.disabled = true;  // To prevent multiple clicks.\n",
              "      quickchartButtonEl.classList.add('colab-df-spinner');\n",
              "      try {\n",
              "        const charts = await google.colab.kernel.invokeFunction(\n",
              "            'suggestCharts', [key], {});\n",
              "      } catch (error) {\n",
              "        console.error('Error during call to suggestCharts:', error);\n",
              "      }\n",
              "      quickchartButtonEl.classList.remove('colab-df-spinner');\n",
              "      quickchartButtonEl.classList.add('colab-df-quickchart-complete');\n",
              "    }\n",
              "    (() => {\n",
              "      let quickchartButtonEl =\n",
              "        document.querySelector('#df-df46f20b-4997-4408-94e5-587a9bf0a4fb button');\n",
              "      quickchartButtonEl.style.display =\n",
              "        google.colab.kernel.accessAllowed ? 'block' : 'none';\n",
              "    })();\n",
              "  </script>\n",
              "</div>\n",
              "\n",
              "    </div>\n",
              "  </div>\n"
            ],
            "text/plain": [
              "     author_id  rating  is_recommended  helpfulness  total_feedback_count  \\\n",
              "0   1741593524       5             1.0          1.0                     2   \n",
              "1  31423088263       1             0.0          NaN                     0   \n",
              "2   5061282401       5             1.0          NaN                     0   \n",
              "3   6083038851       5             1.0          NaN                     0   \n",
              "4  47056667835       5             1.0          NaN                     0   \n",
              "\n",
              "   total_neg_feedback_count  total_pos_feedback_count submission_time  \\\n",
              "0                         0                         2      2023-02-01   \n",
              "1                         0                         0      2023-03-21   \n",
              "2                         0                         0      2023-03-21   \n",
              "3                         0                         0      2023-03-20   \n",
              "4                         0                         0      2023-03-20   \n",
              "\n",
              "                                         review_text  \\\n",
              "0  I use this with the Nudestix “Citrus Clean Bal...   \n",
              "1  I bought this lip mask after reading the revie...   \n",
              "2  My review title says it all! I get so excited ...   \n",
              "3  I’ve always loved this formula for a long time...   \n",
              "4  If you have dry cracked lips, this is a must h...   \n",
              "\n",
              "                       review_title    skin_type product_id  \\\n",
              "0  Taught me how to double cleanse!          dry    P504322   \n",
              "1                      Disappointed          NaN    P420652   \n",
              "2              New Favorite Routine          dry    P420652   \n",
              "3   Can't go wrong with any of them  combination    P420652   \n",
              "4                   A must have !!!  combination    P420652   \n",
              "\n",
              "                                        product_name brand_name  price_usd  \n",
              "0                     Gentle Hydra-Gel Face Cleanser   NUDESTIX       19.0  \n",
              "1  Lip Sleeping Mask Intense Hydration with Vitam...    LANEIGE       24.0  \n",
              "2  Lip Sleeping Mask Intense Hydration with Vitam...    LANEIGE       24.0  \n",
              "3  Lip Sleeping Mask Intense Hydration with Vitam...    LANEIGE       24.0  \n",
              "4  Lip Sleeping Mask Intense Hydration with Vitam...    LANEIGE       24.0  "
            ]
          },
          "execution_count": 11,
          "metadata": {},
          "output_type": "execute_result"
        }
      ],
      "source": [
        "# look at the first 5 rows\n",
        "review_250df.head()"
      ]
    },
    {
      "cell_type": "markdown",
      "metadata": {
        "id": "BldPUD7_0pkM"
      },
      "source": [
        "# Exploratory Data Analysis"
      ]
    },
    {
      "cell_type": "markdown",
      "metadata": {
        "id": "Nnt_7B7JM5Vx"
      },
      "source": [
        "Take a look at the product category present in product_df dataframe, we are only interested in skincare product. Therefore, it would be beneficial to remove those that are not in our desired category."
      ]
    },
    {
      "cell_type": "code",
      "execution_count": 12,
      "metadata": {
        "colab": {
          "base_uri": "https://localhost:8080/",
          "height": 497
        },
        "id": "vJHru56_YBDU",
        "outputId": "8fbe69ad-c12f-4490-f81b-c76ec6aa3aa9"
      },
      "outputs": [
        {
          "data": {
            "image/png": "[encoded data removed]",
            "text/plain": [
              "<Figure size 1000x600 with 1 Axes>"
            ]
          },
          "metadata": {},
          "output_type": "display_data"
        }
      ],
      "source": [
        "# bar plot of products in dataframe\n",
        "counts = product_df['primary_category'].value_counts()\n",
        "percentages = (counts / counts.sum())*100\n",
        "\n",
        "plt.figure(figsize=(10, 6))\n",
        "percentages.plot(kind='bar', title='Percentage Distribution of Products by their Primary Category',color='blue',alpha=.5)\n",
        "plt.ylabel('Percentage')\n",
        "plt.xlabel('Primary Category')\n",
        "plt.show()"
      ]
    },
    {
      "cell_type": "markdown",
      "metadata": {
        "id": "3Y0VViS6NTLR"
      },
      "source": [
        "It is good to see that the majority of products present are skincare, now we will go ahead and remove all the other categories."
      ]
    },
    {
      "cell_type": "code",
      "execution_count": 13,
      "metadata": {
        "colab": {
          "base_uri": "https://localhost:8080/"
        },
        "id": "qt8vupc3XTv7",
        "outputId": "a37a653a-3e32-4164-dfdf-c87007ae6de2"
      },
      "outputs": [
        {
          "name": "stdout",
          "output_type": "stream",
          "text": [
            "(2420, 27)\n"
          ]
        }
      ],
      "source": [
        "# drop all rows that are not skincare as primary category\n",
        "product_df= product_df[product_df['primary_category']=='Skincare']\n",
        "print(product_df.shape)"
      ]
    },
    {
      "cell_type": "code",
      "execution_count": 14,
      "metadata": {
        "colab": {
          "base_uri": "https://localhost:8080/"
        },
        "id": "SDShEZq0Z5KT",
        "outputId": "ddbb4672-ad70-4cc7-ed72-c080442a84aa"
      },
      "outputs": [
        {
          "data": {
            "text/plain": [
              "Index(['product_id', 'product_name', 'brand_id', 'brand_name', 'loves_count',\n",
              "       'rating', 'reviews', 'size', 'variation_type', 'variation_value',\n",
              "       'variation_desc', 'ingredients', 'price_usd', 'value_price_usd',\n",
              "       'sale_price_usd', 'limited_edition', 'new', 'online_only',\n",
              "       'out_of_stock', 'sephora_exclusive', 'highlights', 'primary_category',\n",
              "       'secondary_category', 'tertiary_category', 'child_count',\n",
              "       'child_max_price', 'child_min_price'],\n",
              "      dtype='object')"
            ]
          },
          "execution_count": 14,
          "metadata": {},
          "output_type": "execute_result"
        }
      ],
      "source": [
        "# observe columns after isolation\n",
        "product_df.columns"
      ]
    },
    {
      "cell_type": "code",
      "execution_count": 15,
      "metadata": {
        "colab": {
          "base_uri": "https://localhost:8080/"
        },
        "id": "JX4FaY6HOp78",
        "outputId": "a772b0b0-d9bd-4585-d5b1-3c0313b0d382"
      },
      "outputs": [
        {
          "name": "stderr",
          "output_type": "stream",
          "text": [
            "<ipython-input-15-8fad8f2edc84>:2: SettingWithCopyWarning: \n",
            "A value is trying to be set on a copy of a slice from a DataFrame\n",
            "\n",
            "See the caveats in the documentation: https://pandas.pydata.org/pandas-docs/stable/user_guide/indexing.html#returning-a-view-versus-a-copy\n",
            "  product_df.rename(columns={'reviews':'num_reviews',\n"
          ]
        }
      ],
      "source": [
        "# change name of column reviews\n",
        "product_df.rename(columns={'reviews':'num_reviews',\n",
        "                          'price_usd':'original_price_usd',\n",
        "                           'rating':'average_rating'}, inplace=True)"
      ]
    },
    {
      "cell_type": "markdown",
      "metadata": {
        "id": "asv796xNUmz9"
      },
      "source": [
        "The 'wellness', 'high tech tools' and 'self tanners', secondary category of products is not within the scope of our current investigation. This category includes items like supplements and tools such as rollers. Our primary research and analysis are centered on products like creams, serums, toners, etc., which are chemically formulated to be applied to the face and address specific skincare concerns over time. As a result, we won't be conducting an in-depth examination of the 'wellness','high tech tools', and 'self tanners' categories at this time."
      ]
    },
    {
      "cell_type": "code",
      "execution_count": 16,
      "metadata": {
        "id": "lmFurMNPXRBD"
      },
      "outputs": [],
      "source": [
        "# drop rows in secondary category products_df we wont be using\n",
        "values_to_drop = ['Self Tanners','High Tech Tools','Wellness','Shop by Concern','Mini Size','Value & Gift Sets']\n",
        "product_df = product_df[~product_df['secondary_category'].isin(values_to_drop)]"
      ]
    },
    {
      "cell_type": "markdown",
      "metadata": {
        "id": "W8B3Ls14pWo2"
      },
      "source": [
        "Combining similar categories may enhance the clarity of analysis and visualization. \"Lip Balms & Treatments\" are typically regarded as forms of treatment, and its differentiation from the \"Treatments\" category does not substantially impact the analysis, grouping them together could be beneficial."
      ]
    },
    {
      "cell_type": "code",
      "execution_count": 17,
      "metadata": {
        "id": "xY7oRvVGn5qq"
      },
      "outputs": [],
      "source": [
        "# combining treatments\n",
        "categories_to_rename = ['Treatments', 'Lip Balms & Treatments']\n",
        "product_df['secondary_category'] = product_df['secondary_category'].replace(categories_to_rename, 'Treatments & Serums')"
      ]
    },
    {
      "cell_type": "code",
      "execution_count": 18,
      "metadata": {
        "colab": {
          "base_uri": "https://localhost:8080/",
          "height": 528
        },
        "id": "dNsbpnwdRL08",
        "outputId": "dbd0cd98-03ae-42f5-f7e4-6b5057946bed"
      },
      "outputs": [
        {
          "data": {
            "image/png": "[encoded data removed]",
            "text/plain": [
              "<Figure size 1000x600 with 1 Axes>"
            ]
          },
          "metadata": {},
          "output_type": "display_data"
        }
      ],
      "source": [
        "# secondary category of product distribution\n",
        "counts = product_df['secondary_category'].value_counts()\n",
        "percentages = (counts / counts.sum())*100\n",
        "\n",
        "plt.figure(figsize=(10, 6))\n",
        "percentages.plot(kind='bar', title='Percentage Distribution of Products by their Secondary Category',color='blue',alpha=.5)\n",
        "plt.ylabel('Percentage')\n",
        "plt.xlabel('Secondary Category')\n",
        "plt.show()"
      ]
    },
    {
      "cell_type": "code",
      "execution_count": 19,
      "metadata": {
        "id": "Pu1M-3Iwc3Jt"
      },
      "outputs": [],
      "source": [
        "# drop rows in tertiary category products_df we wont be using\n",
        "values_to_drop = ['Facial Rollers','BB & CC Creams','Face Wipes','Makeup Removers','Holistic Wellness', 'Teeth Whitening','Blotting Papers','Hair Removal','Beauty Supplements']\n",
        "product_df = product_df[~product_df['tertiary_category'].isin(values_to_drop)]"
      ]
    },
    {
      "cell_type": "code",
      "execution_count": 20,
      "metadata": {
        "colab": {
          "base_uri": "https://localhost:8080/",
          "height": 550
        },
        "id": "2hFHd5hwYGEB",
        "outputId": "a2736e18-bb79-4d41-bced-a87663146fc3"
      },
      "outputs": [
        {
          "data": {
            "image/png": "[encoded data removed]",
            "text/plain": [
              "<Figure size 1000x600 with 1 Axes>"
            ]
          },
          "metadata": {},
          "output_type": "display_data"
        }
      ],
      "source": [
        "# tertiary category of product distribution\n",
        "counts = product_df['tertiary_category'].value_counts()\n",
        "percentages = (counts / counts.sum())*100\n",
        "\n",
        "plt.figure(figsize=(10, 6))\n",
        "percentages.plot(kind='bar', title='Percentage Distribution of Products by their Tertiary Category',color='blue',alpha=.5)\n",
        "plt.ylabel('Percentage')\n",
        "plt.xlabel('Tertiary Category')\n",
        "plt.show()"
      ]
    },
    {
      "cell_type": "markdown",
      "metadata": {
        "id": "VcQNad6sjoC0"
      },
      "source": [
        "*Note: While products may be marketed for specific areas of the body, it's important to note that they often contain ingredients that address broader skincare concerns.*"
      ]
    },
    {
      "cell_type": "code",
      "execution_count": 21,
      "metadata": {
        "colab": {
          "base_uri": "https://localhost:8080/",
          "height": 109
        },
        "id": "8VC3Oq-mmUem",
        "outputId": "5a30c0d8-fe8b-4c78-d8eb-a88acc4b548c"
      },
      "outputs": [
        {
          "data": {
            "application/vnd.google.colaboratory.intrinsic+json": {
              "type": "dataframe",
              "variable_name": "duplicated_products"
            },
            "text/html": [
              "\n",
              "  <div id=\"df-647db8bc-fcbd-49fb-b4ad-d18362fd85d9\" class=\"colab-df-container\">\n",
              "    <div>\n",
              "<style scoped>\n",
              "    .dataframe tbody tr th:only-of-type {\n",
              "        vertical-align: middle;\n",
              "    }\n",
              "\n",
              "    .dataframe tbody tr th {\n",
              "        vertical-align: top;\n",
              "    }\n",
              "\n",
              "    .dataframe thead th {\n",
              "        text-align: right;\n",
              "    }\n",
              "</style>\n",
              "<table border=\"1\" class=\"dataframe\">\n",
              "  <thead>\n",
              "    <tr style=\"text-align: right;\">\n",
              "      <th></th>\n",
              "      <th>product_id</th>\n",
              "      <th>product_name</th>\n",
              "      <th>brand_id</th>\n",
              "      <th>brand_name</th>\n",
              "      <th>loves_count</th>\n",
              "      <th>average_rating</th>\n",
              "      <th>num_reviews</th>\n",
              "      <th>size</th>\n",
              "      <th>variation_type</th>\n",
              "      <th>variation_value</th>\n",
              "      <th>...</th>\n",
              "      <th>online_only</th>\n",
              "      <th>out_of_stock</th>\n",
              "      <th>sephora_exclusive</th>\n",
              "      <th>highlights</th>\n",
              "      <th>primary_category</th>\n",
              "      <th>secondary_category</th>\n",
              "      <th>tertiary_category</th>\n",
              "      <th>child_count</th>\n",
              "      <th>child_max_price</th>\n",
              "      <th>child_min_price</th>\n",
              "    </tr>\n",
              "  </thead>\n",
              "  <tbody>\n",
              "  </tbody>\n",
              "</table>\n",
              "<p>0 rows × 27 columns</p>\n",
              "</div>\n",
              "    <div class=\"colab-df-buttons\">\n",
              "\n",
              "  <div class=\"colab-df-container\">\n",
              "    <button class=\"colab-df-convert\" onclick=\"convertToInteractive('df-647db8bc-fcbd-49fb-b4ad-d18362fd85d9')\"\n",
              "            title=\"Convert this dataframe to an interactive table.\"\n",
              "            style=\"display:none;\">\n",
              "\n",
              "  <svg xmlns=\"http://www.w3.org/2000/svg\" height=\"24px\" viewBox=\"0 -960 960 960\">\n",
              "    <path d=\"M120-120v-720h720v720H120Zm60-500h600v-160H180v160Zm220 220h160v-160H400v160Zm0 220h160v-160H400v160ZM180-400h160v-160H180v160Zm440 0h160v-160H620v160ZM180-180h160v-160H180v160Zm440 0h160v-160H620v160Z\"/>\n",
              "  </svg>\n",
              "    </button>\n",
              "\n",
              "  <style>\n",
              "    .colab-df-container {\n",
              "      display:flex;\n",
              "      gap: 12px;\n",
              "    }\n",
              "\n",
              "    .colab-df-convert {\n",
              "      background-color: #E8F0FE;\n",
              "      border: none;\n",
              "      border-radius: 50%;\n",
              "      cursor: pointer;\n",
              "      display: none;\n",
              "      fill: #1967D2;\n",
              "      height: 32px;\n",
              "      padding: 0 0 0 0;\n",
              "      width: 32px;\n",
              "    }\n",
              "\n",
              "    .colab-df-convert:hover {\n",
              "      background-color: #E2EBFA;\n",
              "      box-shadow: 0px 1px 2px rgba(60, 64, 67, 0.3), 0px 1px 3px 1px rgba(60, 64, 67, 0.15);\n",
              "      fill: #174EA6;\n",
              "    }\n",
              "\n",
              "    .colab-df-buttons div {\n",
              "      margin-bottom: 4px;\n",
              "    }\n",
              "\n",
              "    [theme=dark] .colab-df-convert {\n",
              "      background-color: #3B4455;\n",
              "      fill: #D2E3FC;\n",
              "    }\n",
              "\n",
              "    [theme=dark] .colab-df-convert:hover {\n",
              "      background-color: #434B5C;\n",
              "      box-shadow: 0px 1px 3px 1px rgba(0, 0, 0, 0.15);\n",
              "      filter: drop-shadow(0px 1px 2px rgba(0, 0, 0, 0.3));\n",
              "      fill: #FFFFFF;\n",
              "    }\n",
              "  </style>\n",
              "\n",
              "    <script>\n",
              "      const buttonEl =\n",
              "        document.querySelector('#df-647db8bc-fcbd-49fb-b4ad-d18362fd85d9 button.colab-df-convert');\n",
              "      buttonEl.style.display =\n",
              "        google.colab.kernel.accessAllowed ? 'block' : 'none';\n",
              "\n",
              "      async function convertToInteractive(key) {\n",
              "        const element = document.querySelector('#df-647db8bc-fcbd-49fb-b4ad-d18362fd85d9');\n",
              "        const dataTable =\n",
              "          await google.colab.kernel.invokeFunction('convertToInteractive',\n",
              "                                                    [key], {});\n",
              "        if (!dataTable) return;\n",
              "\n",
              "        const docLinkHtml = 'Like what you see? Visit the ' +\n",
              "          '<a target=\"_blank\" href=https://colab.research.google.com/notebooks/data_table.ipynb>data table notebook</a>'\n",
              "          + ' to learn more about interactive tables.';\n",
              "        element.innerHTML = '';\n",
              "        dataTable['output_type'] = 'display_data';\n",
              "        await google.colab.output.renderOutput(dataTable, element);\n",
              "        const docLink = document.createElement('div');\n",
              "        docLink.innerHTML = docLinkHtml;\n",
              "        element.appendChild(docLink);\n",
              "      }\n",
              "    </script>\n",
              "  </div>\n",
              "\n",
              "\n",
              "  <div id=\"id_bed37917-e49b-4c2c-89ca-26de8b546bf1\">\n",
              "    <style>\n",
              "      .colab-df-generate {\n",
              "        background-color: #E8F0FE;\n",
              "        border: none;\n",
              "        border-radius: 50%;\n",
              "        cursor: pointer;\n",
              "        display: none;\n",
              "        fill: #1967D2;\n",
              "        height: 32px;\n",
              "        padding: 0 0 0 0;\n",
              "        width: 32px;\n",
              "      }\n",
              "\n",
              "      .colab-df-generate:hover {\n",
              "        background-color: #E2EBFA;\n",
              "        box-shadow: 0px 1px 2px rgba(60, 64, 67, 0.3), 0px 1px 3px 1px rgba(60, 64, 67, 0.15);\n",
              "        fill: #174EA6;\n",
              "      }\n",
              "\n",
              "      [theme=dark] .colab-df-generate {\n",
              "        background-color: #3B4455;\n",
              "        fill: #D2E3FC;\n",
              "      }\n",
              "\n",
              "      [theme=dark] .colab-df-generate:hover {\n",
              "        background-color: #434B5C;\n",
              "        box-shadow: 0px 1px 3px 1px rgba(0, 0, 0, 0.15);\n",
              "        filter: drop-shadow(0px 1px 2px rgba(0, 0, 0, 0.3));\n",
              "        fill: #FFFFFF;\n",
              "      }\n",
              "    </style>\n",
              "    <button class=\"colab-df-generate\" onclick=\"generateWithVariable('duplicated_products')\"\n",
              "            title=\"Generate code using this dataframe.\"\n",
              "            style=\"display:none;\">\n",
              "\n",
              "  <svg xmlns=\"http://www.w3.org/2000/svg\" height=\"24px\"viewBox=\"0 0 24 24\"\n",
              "       width=\"24px\">\n",
              "    <path d=\"M7,19H8.4L18.45,9,17,7.55,7,17.6ZM5,21V16.75L18.45,3.32a2,2,0,0,1,2.83,0l1.4,1.43a1.91,1.91,0,0,1,.58,1.4,1.91,1.91,0,0,1-.58,1.4L9.25,21ZM18.45,9,17,7.55Zm-12,3A5.31,5.31,0,0,0,4.9,8.1,5.31,5.31,0,0,0,1,6.5,5.31,5.31,0,0,0,4.9,4.9,5.31,5.31,0,0,0,6.5,1,5.31,5.31,0,0,0,8.1,4.9,5.31,5.31,0,0,0,12,6.5,5.46,5.46,0,0,0,6.5,12Z\"/>\n",
              "  </svg>\n",
              "    </button>\n",
              "    <script>\n",
              "      (() => {\n",
              "      const buttonEl =\n",
              "        document.querySelector('#id_bed37917-e49b-4c2c-89ca-26de8b546bf1 button.colab-df-generate');\n",
              "      buttonEl.style.display =\n",
              "        google.colab.kernel.accessAllowed ? 'block' : 'none';\n",
              "\n",
              "      buttonEl.onclick = () => {\n",
              "        google.colab.notebook.generateWithVariable('duplicated_products');\n",
              "      }\n",
              "      })();\n",
              "    </script>\n",
              "  </div>\n",
              "\n",
              "    </div>\n",
              "  </div>\n"
            ],
            "text/plain": [
              "Empty DataFrame\n",
              "Columns: [product_id, product_name, brand_id, brand_name, loves_count, average_rating, num_reviews, size, variation_type, variation_value, variation_desc, ingredients, original_price_usd, value_price_usd, sale_price_usd, limited_edition, new, online_only, out_of_stock, sephora_exclusive, highlights, primary_category, secondary_category, tertiary_category, child_count, child_max_price, child_min_price]\n",
              "Index: []\n",
              "\n",
              "[0 rows x 27 columns]"
            ]
          },
          "execution_count": 21,
          "metadata": {},
          "output_type": "execute_result"
        }
      ],
      "source": [
        "# check duplicated in products table -> product ids\n",
        "duplicated_products = product_df[product_df.duplicated(['product_id'])]\n",
        "duplicated_products"
      ]
    },
    {
      "cell_type": "code",
      "execution_count": 22,
      "metadata": {
        "id": "8X-AV4o9h0Yj"
      },
      "outputs": [],
      "source": [
        "product_df['average_rating'] = product_df['average_rating'].round(1)"
      ]
    },
    {
      "cell_type": "code",
      "execution_count": 23,
      "metadata": {
        "colab": {
          "base_uri": "https://localhost:8080/"
        },
        "id": "vIgR_C2yrufX",
        "outputId": "8d927d6d-b9b3-423f-af40-476f0c7610e0"
      },
      "outputs": [
        {
          "data": {
            "text/plain": [
              "value_price_usd       99.413333\n",
              "variation_desc        99.360000\n",
              "sale_price_usd        98.613333\n",
              "child_max_price       81.706667\n",
              "child_min_price       81.706667\n",
              "highlights            16.746667\n",
              "variation_value        6.026667\n",
              "variation_type         4.533333\n",
              "tertiary_category      3.626667\n",
              "size                   3.146667\n",
              "average_rating         1.920000\n",
              "num_reviews            1.920000\n",
              "ingredients            1.706667\n",
              "sephora_exclusive      0.000000\n",
              "brand_id               0.000000\n",
              "child_count            0.000000\n",
              "secondary_category     0.000000\n",
              "primary_category       0.000000\n",
              "new                    0.000000\n",
              "out_of_stock           0.000000\n",
              "online_only            0.000000\n",
              "limited_edition        0.000000\n",
              "brand_name             0.000000\n",
              "product_name           0.000000\n",
              "original_price_usd     0.000000\n",
              "loves_count            0.000000\n",
              "product_id             0.000000\n",
              "dtype: float64"
            ]
          },
          "execution_count": 23,
          "metadata": {},
          "output_type": "execute_result"
        }
      ],
      "source": [
        "# missing values on products table\n",
        "sum_na = product_df.isna().sum()\n",
        "percent_missing = sum_na/len(product_df)*100\n",
        "percent_missing.sort_values(ascending=False)"
      ]
    },
    {
      "cell_type": "code",
      "execution_count": 24,
      "metadata": {
        "colab": {
          "base_uri": "https://localhost:8080/"
        },
        "id": "4t9-dpbAJsiw",
        "outputId": "e6e8eac2-9c04-4814-97f0-e0efd935dc29"
      },
      "outputs": [
        {
          "data": {
            "text/plain": [
              "1875"
            ]
          },
          "execution_count": 24,
          "metadata": {},
          "output_type": "execute_result"
        }
      ],
      "source": [
        "product_df['product_id'].nunique()"
      ]
    },
    {
      "cell_type": "code",
      "execution_count": 25,
      "metadata": {
        "id": "OjUbmYPZ5JBN"
      },
      "outputs": [],
      "source": [
        "# Concatenate all review DataFrames vertically\n",
        "all_reviews = pd.concat([review_250df, review_1250enddf, review_250_500df, review_500_750df, review_750_1250df], ignore_index=True)"
      ]
    },
    {
      "cell_type": "code",
      "execution_count": 26,
      "metadata": {
        "id": "hNAmaiFNgczh"
      },
      "outputs": [],
      "source": [
        "# get rid of products with no ingredients\n",
        "product_df = product_df[product_df['ingredients'].notna()]"
      ]
    },
    {
      "cell_type": "code",
      "execution_count": 27,
      "metadata": {
        "colab": {
          "base_uri": "https://localhost:8080/"
        },
        "id": "MZk9XhJSsswr",
        "outputId": "cb8a9f94-bd21-4ac4-e329-a733db97754d"
      },
      "outputs": [
        {
          "data": {
            "text/plain": [
              "helpfulness                 51.314543\n",
              "review_title                28.385497\n",
              "is_recommended              15.349626\n",
              "skin_type                   10.193337\n",
              "review_text                  0.131943\n",
              "author_id                    0.000000\n",
              "rating                       0.000000\n",
              "total_feedback_count         0.000000\n",
              "total_neg_feedback_count     0.000000\n",
              "total_pos_feedback_count     0.000000\n",
              "submission_time              0.000000\n",
              "product_id                   0.000000\n",
              "product_name                 0.000000\n",
              "brand_name                   0.000000\n",
              "price_usd                    0.000000\n",
              "dtype: float64"
            ]
          },
          "execution_count": 27,
          "metadata": {},
          "output_type": "execute_result"
        }
      ],
      "source": [
        "# missing values on review table\n",
        "sum_na = all_reviews.isna().sum()\n",
        "percent_missing = sum_na/len(all_reviews)*100\n",
        "percent_missing.sort_values(ascending=False)"
      ]
    },
    {
      "cell_type": "code",
      "execution_count": 28,
      "metadata": {
        "colab": {
          "base_uri": "https://localhost:8080/"
        },
        "id": "QRUBmJnK9Y2B",
        "outputId": "fa8e5a31-7692-428e-8d9d-d84195088d69"
      },
      "outputs": [
        {
          "name": "stdout",
          "output_type": "stream",
          "text": [
            "Number of missing skin_type values after imputation: 0\n"
          ]
        }
      ],
      "source": [
        "# impute skin_type by most common\n",
        "mode_skin_type = all_reviews['skin_type'].mode()[0]  # Get the most common skin_type value\n",
        "all_reviews['skin_type'].fillna(mode_skin_type, inplace=True)\n",
        "\n",
        "# Check if all missing skin_type values have been imputed\n",
        "missing_skin_type_count = all_reviews['skin_type'].isnull().sum()\n",
        "print(f\"Number of missing skin_type values after imputation: {missing_skin_type_count}\")"
      ]
    },
    {
      "cell_type": "code",
      "execution_count": 29,
      "metadata": {
        "colab": {
          "base_uri": "https://localhost:8080/",
          "height": 513
        },
        "id": "N3Tmfuy263r6",
        "outputId": "ce6f2fd3-5319-4f7c-a288-e8dd8a79413a"
      },
      "outputs": [
        {
          "name": "stdout",
          "output_type": "stream",
          "text": [
            "Shape of Concatenated Reviews Dataframe: (1094411, 15)\n",
            "First 5 rows:\n"
          ]
        },
        {
          "data": {
            "application/vnd.google.colaboratory.intrinsic+json": {
              "type": "dataframe",
              "variable_name": "all_reviews"
            },
            "text/html": [
              "\n",
              "  <div id=\"df-53ac724e-91ea-4421-b2db-286dbfb5a2c8\" class=\"colab-df-container\">\n",
              "    <div>\n",
              "<style scoped>\n",
              "    .dataframe tbody tr th:only-of-type {\n",
              "        vertical-align: middle;\n",
              "    }\n",
              "\n",
              "    .dataframe tbody tr th {\n",
              "        vertical-align: top;\n",
              "    }\n",
              "\n",
              "    .dataframe thead th {\n",
              "        text-align: right;\n",
              "    }\n",
              "</style>\n",
              "<table border=\"1\" class=\"dataframe\">\n",
              "  <thead>\n",
              "    <tr style=\"text-align: right;\">\n",
              "      <th></th>\n",
              "      <th>author_id</th>\n",
              "      <th>rating</th>\n",
              "      <th>is_recommended</th>\n",
              "      <th>helpfulness</th>\n",
              "      <th>total_feedback_count</th>\n",
              "      <th>total_neg_feedback_count</th>\n",
              "      <th>total_pos_feedback_count</th>\n",
              "      <th>submission_time</th>\n",
              "      <th>review_text</th>\n",
              "      <th>review_title</th>\n",
              "      <th>skin_type</th>\n",
              "      <th>product_id</th>\n",
              "      <th>product_name</th>\n",
              "      <th>brand_name</th>\n",
              "      <th>price_usd</th>\n",
              "    </tr>\n",
              "  </thead>\n",
              "  <tbody>\n",
              "    <tr>\n",
              "      <th>0</th>\n",
              "      <td>1741593524</td>\n",
              "      <td>5</td>\n",
              "      <td>1.0</td>\n",
              "      <td>1.0</td>\n",
              "      <td>2</td>\n",
              "      <td>0</td>\n",
              "      <td>2</td>\n",
              "      <td>2023-02-01</td>\n",
              "      <td>I use this with the Nudestix “Citrus Clean Bal...</td>\n",
              "      <td>Taught me how to double cleanse!</td>\n",
              "      <td>dry</td>\n",
              "      <td>P504322</td>\n",
              "      <td>Gentle Hydra-Gel Face Cleanser</td>\n",
              "      <td>NUDESTIX</td>\n",
              "      <td>19.0</td>\n",
              "    </tr>\n",
              "    <tr>\n",
              "      <th>1</th>\n",
              "      <td>31423088263</td>\n",
              "      <td>1</td>\n",
              "      <td>0.0</td>\n",
              "      <td>NaN</td>\n",
              "      <td>0</td>\n",
              "      <td>0</td>\n",
              "      <td>0</td>\n",
              "      <td>2023-03-21</td>\n",
              "      <td>I bought this lip mask after reading the revie...</td>\n",
              "      <td>Disappointed</td>\n",
              "      <td>combination</td>\n",
              "      <td>P420652</td>\n",
              "      <td>Lip Sleeping Mask Intense Hydration with Vitam...</td>\n",
              "      <td>LANEIGE</td>\n",
              "      <td>24.0</td>\n",
              "    </tr>\n",
              "    <tr>\n",
              "      <th>2</th>\n",
              "      <td>5061282401</td>\n",
              "      <td>5</td>\n",
              "      <td>1.0</td>\n",
              "      <td>NaN</td>\n",
              "      <td>0</td>\n",
              "      <td>0</td>\n",
              "      <td>0</td>\n",
              "      <td>2023-03-21</td>\n",
              "      <td>My review title says it all! I get so excited ...</td>\n",
              "      <td>New Favorite Routine</td>\n",
              "      <td>dry</td>\n",
              "      <td>P420652</td>\n",
              "      <td>Lip Sleeping Mask Intense Hydration with Vitam...</td>\n",
              "      <td>LANEIGE</td>\n",
              "      <td>24.0</td>\n",
              "    </tr>\n",
              "    <tr>\n",
              "      <th>3</th>\n",
              "      <td>6083038851</td>\n",
              "      <td>5</td>\n",
              "      <td>1.0</td>\n",
              "      <td>NaN</td>\n",
              "      <td>0</td>\n",
              "      <td>0</td>\n",
              "      <td>0</td>\n",
              "      <td>2023-03-20</td>\n",
              "      <td>I’ve always loved this formula for a long time...</td>\n",
              "      <td>Can't go wrong with any of them</td>\n",
              "      <td>combination</td>\n",
              "      <td>P420652</td>\n",
              "      <td>Lip Sleeping Mask Intense Hydration with Vitam...</td>\n",
              "      <td>LANEIGE</td>\n",
              "      <td>24.0</td>\n",
              "    </tr>\n",
              "    <tr>\n",
              "      <th>4</th>\n",
              "      <td>47056667835</td>\n",
              "      <td>5</td>\n",
              "      <td>1.0</td>\n",
              "      <td>NaN</td>\n",
              "      <td>0</td>\n",
              "      <td>0</td>\n",
              "      <td>0</td>\n",
              "      <td>2023-03-20</td>\n",
              "      <td>If you have dry cracked lips, this is a must h...</td>\n",
              "      <td>A must have !!!</td>\n",
              "      <td>combination</td>\n",
              "      <td>P420652</td>\n",
              "      <td>Lip Sleeping Mask Intense Hydration with Vitam...</td>\n",
              "      <td>LANEIGE</td>\n",
              "      <td>24.0</td>\n",
              "    </tr>\n",
              "  </tbody>\n",
              "</table>\n",
              "</div>\n",
              "    <div class=\"colab-df-buttons\">\n",
              "\n",
              "  <div class=\"colab-df-container\">\n",
              "    <button class=\"colab-df-convert\" onclick=\"convertToInteractive('df-53ac724e-91ea-4421-b2db-286dbfb5a2c8')\"\n",
              "            title=\"Convert this dataframe to an interactive table.\"\n",
              "            style=\"display:none;\">\n",
              "\n",
              "  <svg xmlns=\"http://www.w3.org/2000/svg\" height=\"24px\" viewBox=\"0 -960 960 960\">\n",
              "    <path d=\"M120-120v-720h720v720H120Zm60-500h600v-160H180v160Zm220 220h160v-160H400v160Zm0 220h160v-160H400v160ZM180-400h160v-160H180v160Zm440 0h160v-160H620v160ZM180-180h160v-160H180v160Zm440 0h160v-160H620v160Z\"/>\n",
              "  </svg>\n",
              "    </button>\n",
              "\n",
              "  <style>\n",
              "    .colab-df-container {\n",
              "      display:flex;\n",
              "      gap: 12px;\n",
              "    }\n",
              "\n",
              "    .colab-df-convert {\n",
              "      background-color: #E8F0FE;\n",
              "      border: none;\n",
              "      border-radius: 50%;\n",
              "      cursor: pointer;\n",
              "      display: none;\n",
              "      fill: #1967D2;\n",
              "      height: 32px;\n",
              "      padding: 0 0 0 0;\n",
              "      width: 32px;\n",
              "    }\n",
              "\n",
              "    .colab-df-convert:hover {\n",
              "      background-color: #E2EBFA;\n",
              "      box-shadow: 0px 1px 2px rgba(60, 64, 67, 0.3), 0px 1px 3px 1px rgba(60, 64, 67, 0.15);\n",
              "      fill: #174EA6;\n",
              "    }\n",
              "\n",
              "    .colab-df-buttons div {\n",
              "      margin-bottom: 4px;\n",
              "    }\n",
              "\n",
              "    [theme=dark] .colab-df-convert {\n",
              "      background-color: #3B4455;\n",
              "      fill: #D2E3FC;\n",
              "    }\n",
              "\n",
              "    [theme=dark] .colab-df-convert:hover {\n",
              "      background-color: #434B5C;\n",
              "      box-shadow: 0px 1px 3px 1px rgba(0, 0, 0, 0.15);\n",
              "      filter: drop-shadow(0px 1px 2px rgba(0, 0, 0, 0.3));\n",
              "      fill: #FFFFFF;\n",
              "    }\n",
              "  </style>\n",
              "\n",
              "    <script>\n",
              "      const buttonEl =\n",
              "        document.querySelector('#df-53ac724e-91ea-4421-b2db-286dbfb5a2c8 button.colab-df-convert');\n",
              "      buttonEl.style.display =\n",
              "        google.colab.kernel.accessAllowed ? 'block' : 'none';\n",
              "\n",
              "      async function convertToInteractive(key) {\n",
              "        const element = document.querySelector('#df-53ac724e-91ea-4421-b2db-286dbfb5a2c8');\n",
              "        const dataTable =\n",
              "          await google.colab.kernel.invokeFunction('convertToInteractive',\n",
              "                                                    [key], {});\n",
              "        if (!dataTable) return;\n",
              "\n",
              "        const docLinkHtml = 'Like what you see? Visit the ' +\n",
              "          '<a target=\"_blank\" href=https://colab.research.google.com/notebooks/data_table.ipynb>data table notebook</a>'\n",
              "          + ' to learn more about interactive tables.';\n",
              "        element.innerHTML = '';\n",
              "        dataTable['output_type'] = 'display_data';\n",
              "        await google.colab.output.renderOutput(dataTable, element);\n",
              "        const docLink = document.createElement('div');\n",
              "        docLink.innerHTML = docLinkHtml;\n",
              "        element.appendChild(docLink);\n",
              "      }\n",
              "    </script>\n",
              "  </div>\n",
              "\n",
              "\n",
              "<div id=\"df-0c380242-6e61-46c0-b199-992790221e0c\">\n",
              "  <button class=\"colab-df-quickchart\" onclick=\"quickchart('df-0c380242-6e61-46c0-b199-992790221e0c')\"\n",
              "            title=\"Suggest charts\"\n",
              "            style=\"display:none;\">\n",
              "\n",
              "<svg xmlns=\"http://www.w3.org/2000/svg\" height=\"24px\"viewBox=\"0 0 24 24\"\n",
              "     width=\"24px\">\n",
              "    <g>\n",
              "        <path d=\"M19 3H5c-1.1 0-2 .9-2 2v14c0 1.1.9 2 2 2h14c1.1 0 2-.9 2-2V5c0-1.1-.9-2-2-2zM9 17H7v-7h2v7zm4 0h-2V7h2v10zm4 0h-2v-4h2v4z\"/>\n",
              "    </g>\n",
              "</svg>\n",
              "  </button>\n",
              "\n",
              "<style>\n",
              "  .colab-df-quickchart {\n",
              "      --bg-color: #E8F0FE;\n",
              "      --fill-color: #1967D2;\n",
              "      --hover-bg-color: #E2EBFA;\n",
              "      --hover-fill-color: #174EA6;\n",
              "      --disabled-fill-color: #AAA;\n",
              "      --disabled-bg-color: #DDD;\n",
              "  }\n",
              "\n",
              "  [theme=dark] .colab-df-quickchart {\n",
              "      --bg-color: #3B4455;\n",
              "      --fill-color: #D2E3FC;\n",
              "      --hover-bg-color: #434B5C;\n",
              "      --hover-fill-color: #FFFFFF;\n",
              "      --disabled-bg-color: #3B4455;\n",
              "      --disabled-fill-color: #666;\n",
              "  }\n",
              "\n",
              "  .colab-df-quickchart {\n",
              "    background-color: var(--bg-color);\n",
              "    border: none;\n",
              "    border-radius: 50%;\n",
              "    cursor: pointer;\n",
              "    display: none;\n",
              "    fill: var(--fill-color);\n",
              "    height: 32px;\n",
              "    padding: 0;\n",
              "    width: 32px;\n",
              "  }\n",
              "\n",
              "  .colab-df-quickchart:hover {\n",
              "    background-color: var(--hover-bg-color);\n",
              "    box-shadow: 0 1px 2px rgba(60, 64, 67, 0.3), 0 1px 3px 1px rgba(60, 64, 67, 0.15);\n",
              "    fill: var(--button-hover-fill-color);\n",
              "  }\n",
              "\n",
              "  .colab-df-quickchart-complete:disabled,\n",
              "  .colab-df-quickchart-complete:disabled:hover {\n",
              "    background-color: var(--disabled-bg-color);\n",
              "    fill: var(--disabled-fill-color);\n",
              "    box-shadow: none;\n",
              "  }\n",
              "\n",
              "  .colab-df-spinner {\n",
              "    border: 2px solid var(--fill-color);\n",
              "    border-color: transparent;\n",
              "    border-bottom-color: var(--fill-color);\n",
              "    animation:\n",
              "      spin 1s steps(1) infinite;\n",
              "  }\n",
              "\n",
              "  @keyframes spin {\n",
              "    0% {\n",
              "      border-color: transparent;\n",
              "      border-bottom-color: var(--fill-color);\n",
              "      border-left-color: var(--fill-color);\n",
              "    }\n",
              "    20% {\n",
              "      border-color: transparent;\n",
              "      border-left-color: var(--fill-color);\n",
              "      border-top-color: var(--fill-color);\n",
              "    }\n",
              "    30% {\n",
              "      border-color: transparent;\n",
              "      border-left-color: var(--fill-color);\n",
              "      border-top-color: var(--fill-color);\n",
              "      border-right-color: var(--fill-color);\n",
              "    }\n",
              "    40% {\n",
              "      border-color: transparent;\n",
              "      border-right-color: var(--fill-color);\n",
              "      border-top-color: var(--fill-color);\n",
              "    }\n",
              "    60% {\n",
              "      border-color: transparent;\n",
              "      border-right-color: var(--fill-color);\n",
              "    }\n",
              "    80% {\n",
              "      border-color: transparent;\n",
              "      border-right-color: var(--fill-color);\n",
              "      border-bottom-color: var(--fill-color);\n",
              "    }\n",
              "    90% {\n",
              "      border-color: transparent;\n",
              "      border-bottom-color: var(--fill-color);\n",
              "    }\n",
              "  }\n",
              "</style>\n",
              "\n",
              "  <script>\n",
              "    async function quickchart(key) {\n",
              "      const quickchartButtonEl =\n",
              "        document.querySelector('#' + key + ' button');\n",
              "      quickchartButtonEl.disabled = true;  // To prevent multiple clicks.\n",
              "      quickchartButtonEl.classList.add('colab-df-spinner');\n",
              "      try {\n",
              "        const charts = await google.colab.kernel.invokeFunction(\n",
              "            'suggestCharts', [key], {});\n",
              "      } catch (error) {\n",
              "        console.error('Error during call to suggestCharts:', error);\n",
              "      }\n",
              "      quickchartButtonEl.classList.remove('colab-df-spinner');\n",
              "      quickchartButtonEl.classList.add('colab-df-quickchart-complete');\n",
              "    }\n",
              "    (() => {\n",
              "      let quickchartButtonEl =\n",
              "        document.querySelector('#df-0c380242-6e61-46c0-b199-992790221e0c button');\n",
              "      quickchartButtonEl.style.display =\n",
              "        google.colab.kernel.accessAllowed ? 'block' : 'none';\n",
              "    })();\n",
              "  </script>\n",
              "</div>\n",
              "\n",
              "    </div>\n",
              "  </div>\n"
            ],
            "text/plain": [
              "     author_id  rating  is_recommended  helpfulness  total_feedback_count  \\\n",
              "0   1741593524       5             1.0          1.0                     2   \n",
              "1  31423088263       1             0.0          NaN                     0   \n",
              "2   5061282401       5             1.0          NaN                     0   \n",
              "3   6083038851       5             1.0          NaN                     0   \n",
              "4  47056667835       5             1.0          NaN                     0   \n",
              "\n",
              "   total_neg_feedback_count  total_pos_feedback_count submission_time  \\\n",
              "0                         0                         2      2023-02-01   \n",
              "1                         0                         0      2023-03-21   \n",
              "2                         0                         0      2023-03-21   \n",
              "3                         0                         0      2023-03-20   \n",
              "4                         0                         0      2023-03-20   \n",
              "\n",
              "                                         review_text  \\\n",
              "0  I use this with the Nudestix “Citrus Clean Bal...   \n",
              "1  I bought this lip mask after reading the revie...   \n",
              "2  My review title says it all! I get so excited ...   \n",
              "3  I’ve always loved this formula for a long time...   \n",
              "4  If you have dry cracked lips, this is a must h...   \n",
              "\n",
              "                       review_title    skin_type product_id  \\\n",
              "0  Taught me how to double cleanse!          dry    P504322   \n",
              "1                      Disappointed  combination    P420652   \n",
              "2              New Favorite Routine          dry    P420652   \n",
              "3   Can't go wrong with any of them  combination    P420652   \n",
              "4                   A must have !!!  combination    P420652   \n",
              "\n",
              "                                        product_name brand_name  price_usd  \n",
              "0                     Gentle Hydra-Gel Face Cleanser   NUDESTIX       19.0  \n",
              "1  Lip Sleeping Mask Intense Hydration with Vitam...    LANEIGE       24.0  \n",
              "2  Lip Sleeping Mask Intense Hydration with Vitam...    LANEIGE       24.0  \n",
              "3  Lip Sleeping Mask Intense Hydration with Vitam...    LANEIGE       24.0  \n",
              "4  Lip Sleeping Mask Intense Hydration with Vitam...    LANEIGE       24.0  "
            ]
          },
          "execution_count": 29,
          "metadata": {},
          "output_type": "execute_result"
        }
      ],
      "source": [
        "print(f'Shape of Concatenated Reviews Dataframe: {all_reviews.shape}\\nFirst 5 rows:')\n",
        "all_reviews.head()"
      ]
    },
    {
      "cell_type": "code",
      "execution_count": 30,
      "metadata": {
        "id": "q7DT_WDaD8O0"
      },
      "outputs": [],
      "source": [
        "# renaming of columns to prevent overlap with purchase\n",
        "all_reviews.rename(columns={'price_usd':'purchase_price_usd',\n",
        "                           'rating':'author_rating'}, inplace=True)"
      ]
    },
    {
      "cell_type": "code",
      "execution_count": 31,
      "metadata": {
        "id": "HrXl82k-f48q"
      },
      "outputs": [],
      "source": [
        "# merge product table and review table\n",
        "cols_join = ['product_id','product_name','brand_name']\n",
        "merged_df = pd.merge(product_df, all_reviews, on=cols_join, how='inner')"
      ]
    },
    {
      "cell_type": "markdown",
      "metadata": {
        "id": "VKFJeN9MMFzZ"
      },
      "source": [
        "We will perform an **INNER JOIN** to retain only those products that have received reviews. The reviews table contains more reviewed products than the total number of products in our products table. Initially, I filtered products from the products table based on their secondary and tertiary categories to identify those relevant to skincare for our analysis. Consequently, there is a possibility that we have reviews on the reviews table for products that do not fall within the scope of our skincare investigation.\n"
      ]
    },
    {
      "cell_type": "code",
      "execution_count": 32,
      "metadata": {
        "colab": {
          "base_uri": "https://localhost:8080/"
        },
        "id": "NZRXM8DkwLE5",
        "outputId": "4870a215-2e5d-4927-cdd6-14ad9f126008"
      },
      "outputs": [
        {
          "name": "stdout",
          "output_type": "stream",
          "text": [
            "Shape of Merged Product and Review Table:\n",
            "(930452, 39)\n",
            "Column names:\n"
          ]
        },
        {
          "data": {
            "text/plain": [
              "Index(['product_id', 'product_name', 'brand_id', 'brand_name', 'loves_count',\n",
              "       'average_rating', 'num_reviews', 'size', 'variation_type',\n",
              "       'variation_value', 'variation_desc', 'ingredients',\n",
              "       'original_price_usd', 'value_price_usd', 'sale_price_usd',\n",
              "       'limited_edition', 'new', 'online_only', 'out_of_stock',\n",
              "       'sephora_exclusive', 'highlights', 'primary_category',\n",
              "       'secondary_category', 'tertiary_category', 'child_count',\n",
              "       'child_max_price', 'child_min_price', 'author_id', 'author_rating',\n",
              "       'is_recommended', 'helpfulness', 'total_feedback_count',\n",
              "       'total_neg_feedback_count', 'total_pos_feedback_count',\n",
              "       'submission_time', 'review_text', 'review_title', 'skin_type',\n",
              "       'purchase_price_usd'],\n",
              "      dtype='object')"
            ]
          },
          "execution_count": 32,
          "metadata": {},
          "output_type": "execute_result"
        }
      ],
      "source": [
        "# new shape of merged tables\n",
        "print(f'Shape of Merged Product and Review Table:\\n{merged_df.shape}\\nColumn names:')\n",
        "merged_df.columns"
      ]
    },
    {
      "cell_type": "code",
      "execution_count": 33,
      "metadata": {
        "colab": {
          "base_uri": "https://localhost:8080/"
        },
        "id": "e991Y5WjaBJ4",
        "outputId": "1c153d63-658f-4000-a26a-425bbdadef03"
      },
      "outputs": [
        {
          "name": "stdout",
          "output_type": "stream",
          "text": [
            "4791\n"
          ]
        }
      ],
      "source": [
        "# remove duplicates\n",
        "# those authors who have reviews the same product more than once\n",
        "print(merged_df.duplicated(subset=['author_id', 'product_id']).sum())\n",
        "merged_df = merged_df.drop_duplicates(subset=['author_id', 'product_id'])"
      ]
    },
    {
      "cell_type": "code",
      "execution_count": 34,
      "metadata": {
        "colab": {
          "base_uri": "https://localhost:8080/"
        },
        "id": "WwKBtUCWyXnO",
        "outputId": "84505952-39a3-4e25-e176-88d3f121d42f"
      },
      "outputs": [
        {
          "data": {
            "text/plain": [
              "variation_desc              99.127002\n",
              "sale_price_usd              99.010869\n",
              "value_price_usd             97.572653\n",
              "child_max_price             55.501420\n",
              "child_min_price             55.501420\n",
              "helpfulness                 52.066793\n",
              "review_title                28.408348\n",
              "is_recommended              15.442478\n",
              "highlights                  10.713749\n",
              "tertiary_category            6.616461\n",
              "variation_value              4.156813\n",
              "variation_type               3.468008\n",
              "size                         2.541211\n",
              "review_text                  0.129745\n",
              "author_id                    0.000000\n",
              "author_rating                0.000000\n",
              "product_id                   0.000000\n",
              "total_neg_feedback_count     0.000000\n",
              "total_feedback_count         0.000000\n",
              "total_pos_feedback_count     0.000000\n",
              "submission_time              0.000000\n",
              "skin_type                    0.000000\n",
              "child_count                  0.000000\n",
              "sephora_exclusive            0.000000\n",
              "secondary_category           0.000000\n",
              "primary_category             0.000000\n",
              "product_name                 0.000000\n",
              "out_of_stock                 0.000000\n",
              "online_only                  0.000000\n",
              "new                          0.000000\n",
              "limited_edition              0.000000\n",
              "original_price_usd           0.000000\n",
              "ingredients                  0.000000\n",
              "num_reviews                  0.000000\n",
              "average_rating               0.000000\n",
              "loves_count                  0.000000\n",
              "brand_name                   0.000000\n",
              "brand_id                     0.000000\n",
              "purchase_price_usd           0.000000\n",
              "dtype: float64"
            ]
          },
          "execution_count": 34,
          "metadata": {},
          "output_type": "execute_result"
        }
      ],
      "source": [
        "# missing values on review table\n",
        "sum_na = merged_df.isna().sum()\n",
        "percent_missing = sum_na/len(merged_df)*100\n",
        "percent_missing.sort_values(ascending=False)"
      ]
    },
    {
      "cell_type": "code",
      "execution_count": 35,
      "metadata": {
        "colab": {
          "base_uri": "https://localhost:8080/",
          "height": 469
        },
        "id": "QdFDUyMxrVAc",
        "outputId": "62f77f02-3a9a-416f-d5b0-c5318890f396"
      },
      "outputs": [
        {
          "data": {
            "image/png": "[encoded data removed]",
            "text/plain": [
              "<Figure size 1000x600 with 1 Axes>"
            ]
          },
          "metadata": {},
          "output_type": "display_data"
        }
      ],
      "source": [
        "# Calculate the total number of reviews\n",
        "total_reviews = len(merged_df)\n",
        "\n",
        "# Calculate the percentage of reviews for each skin type\n",
        "skin_type_counts = merged_df['skin_type'].value_counts()\n",
        "skin_type_percentage = (skin_type_counts / total_reviews) * 100\n",
        "\n",
        "# Plot the percentage of reviews by skin type\n",
        "plt.figure(figsize=(10, 6))\n",
        "sns.barplot(x=skin_type_percentage.index, y=skin_type_percentage.values,color='blue',alpha=.5)\n",
        "\n",
        "plt.title('Percentage of Reviews by Skin Type')\n",
        "plt.xlabel('Skin Type')\n",
        "plt.ylabel('Percentage of Reviews (%)')\n",
        "plt.xticks(rotation=45)\n",
        "plt.show()"
      ]
    },
    {
      "cell_type": "code",
      "execution_count": 36,
      "metadata": {
        "colab": {
          "base_uri": "https://localhost:8080/",
          "height": 670
        },
        "id": "LUohlPltrKju",
        "outputId": "331e6082-9571-4e0e-fa8f-07dbd9039049"
      },
      "outputs": [
        {
          "data": {
            "image/png": "[encoded data removed]",
            "text/plain": [
              "<Figure size 1000x1000 with 20 Axes>"
            ]
          },
          "metadata": {},
          "output_type": "display_data"
        }
      ],
      "source": [
        "numerical_cols = ['loves_count', 'average_rating', 'num_reviews', 'original_price_usd']\n",
        "\n",
        "\n",
        "# Pair Plots\n",
        "pair_plot = sns.pairplot(merged_df[numerical_cols])\n",
        "pair_plot.fig.suptitle('Pair Plot of Numerical Variables', y=1.02, alpha =0.5)\n",
        "plt.show()\n"
      ]
    },
    {
      "cell_type": "code",
      "execution_count": 37,
      "metadata": {
        "colab": {
          "base_uri": "https://localhost:8080/"
        },
        "id": "hzQvWAPFzo92",
        "outputId": "8799e43c-fbf5-48ac-8b9f-7b520be03726"
      },
      "outputs": [
        {
          "name": "stdout",
          "output_type": "stream",
          "text": [
            "0 472401\n",
            "1 166535\n",
            "2 83319\n",
            "3 48217\n",
            "4 30645\n",
            "5 20617\n",
            "6 14697\n",
            "7 10919\n",
            "8 8463\n",
            "9 6827\n",
            "10 5584\n",
            "11 4724\n",
            "12 4082\n",
            "13 3570\n",
            "14 3153\n",
            "15 2830\n",
            "16 2562\n",
            "17 2346\n",
            "18 2134\n",
            "19 1974\n"
          ]
        }
      ],
      "source": [
        "for i in range(20):\n",
        "  print(i,np.sum(merged_df['author_id'].value_counts() > i))"
      ]
    },
    {
      "cell_type": "code",
      "execution_count": 38,
      "metadata": {
        "colab": {
          "base_uri": "https://localhost:8080/",
          "height": 426
        },
        "id": "w6yJdrzNxS17",
        "outputId": "22fe87eb-5788-4481-e53a-ea78f44d4d1a"
      },
      "outputs": [
        {
          "data": {
            "image/png": "[encoded data removed]",
            "text/plain": [
              "<Figure size 1000x600 with 1 Axes>"
            ]
          },
          "metadata": {},
          "output_type": "display_data"
        }
      ],
      "source": [
        "# Define the upper threshold\n",
        "upper_threshold = 20\n",
        "\n",
        "# Calculate the count of reviews per unique author\n",
        "author_review_counts = merged_df['author_id'].value_counts()\n",
        "\n",
        "# Filter out authors with more than the upper threshold\n",
        "author_review_counts_filtered = author_review_counts[author_review_counts <= upper_threshold]\n",
        "\n",
        "# Calculate percentages\n",
        "total_authors = len(merged_df['author_id'].unique())\n",
        "percentages = (author_review_counts_filtered.value_counts() / total_authors) * 100\n",
        "\n",
        "# Plot the histogram or bar plot\n",
        "plt.figure(figsize=(10, 6))\n",
        "percentages.plot(kind='bar', color='blue', alpha = 0.5)\n",
        "plt.title(f'Distribution of Number of Reviews per Unique Author (Threshold = {upper_threshold})')\n",
        "plt.xlabel('Number of Reviews')\n",
        "plt.ylabel('Percentage of Authors')\n",
        "plt.xticks(rotation=0)\n",
        "plt.show()\n"
      ]
    },
    {
      "cell_type": "code",
      "execution_count": 39,
      "metadata": {
        "colab": {
          "base_uri": "https://localhost:8080/"
        },
        "id": "ZJG3UeF-O3Ey",
        "outputId": "c975bb1d-1577-417d-ee48-a48c9c15f4b6"
      },
      "outputs": [
        {
          "name": "stdout",
          "output_type": "stream",
          "text": [
            "Number of users with exactly five reviews: 10028\n"
          ]
        }
      ],
      "source": [
        "reviews_count = merged_df['author_id'].value_counts()\n",
        "users_with_five_reviews = reviews_count[reviews_count == 5].index.tolist()\n",
        "\n",
        "# Filter for users with exactly five reviews\n",
        "five_reviews_df = merged_df[merged_df['author_id'].isin(users_with_five_reviews)]\n",
        "five_reviews_count = len(five_reviews_df['author_id'].unique())\n",
        "print(\"Number of users with exactly five reviews:\", five_reviews_count)"
      ]
    },
    {
      "cell_type": "code",
      "execution_count": 40,
      "metadata": {
        "colab": {
          "base_uri": "https://localhost:8080/"
        },
        "id": "NsX1iMyiRDTf",
        "outputId": "07f9de91-906b-413e-a3ab-79d3e3c4626f"
      },
      "outputs": [
        {
          "data": {
            "text/plain": [
              "(50140, 39)"
            ]
          },
          "execution_count": 40,
          "metadata": {},
          "output_type": "execute_result"
        }
      ],
      "source": [
        "five_reviews_df.shape"
      ]
    },
    {
      "cell_type": "code",
      "execution_count": 41,
      "metadata": {
        "colab": {
          "base_uri": "https://localhost:8080/"
        },
        "id": "IMfdQcaPQkxs",
        "outputId": "f1372cdb-0872-4fcc-dde8-880fd6125dfb"
      },
      "outputs": [
        {
          "data": {
            "text/plain": [
              "Index(['product_id', 'product_name', 'brand_id', 'brand_name', 'loves_count',\n",
              "       'average_rating', 'num_reviews', 'size', 'variation_type',\n",
              "       'variation_value', 'variation_desc', 'ingredients',\n",
              "       'original_price_usd', 'value_price_usd', 'sale_price_usd',\n",
              "       'limited_edition', 'new', 'online_only', 'out_of_stock',\n",
              "       'sephora_exclusive', 'highlights', 'primary_category',\n",
              "       'secondary_category', 'tertiary_category', 'child_count',\n",
              "       'child_max_price', 'child_min_price', 'author_id', 'author_rating',\n",
              "       'is_recommended', 'helpfulness', 'total_feedback_count',\n",
              "       'total_neg_feedback_count', 'total_pos_feedback_count',\n",
              "       'submission_time', 'review_text', 'review_title', 'skin_type',\n",
              "       'purchase_price_usd'],\n",
              "      dtype='object')"
            ]
          },
          "execution_count": 41,
          "metadata": {},
          "output_type": "execute_result"
        }
      ],
      "source": [
        "five_reviews_df.columns"
      ]
    },
    {
      "cell_type": "markdown",
      "metadata": {
        "id": "aVf3dlgLfgLM"
      },
      "source": [
        "# Modeling"
      ]
    },
    {
      "cell_type": "code",
      "execution_count": 42,
      "metadata": {
        "id": "rwmB_L0WkpEz"
      },
      "outputs": [],
      "source": [
        "from sklearn.metrics.pairwise import cosine_similarity"
      ]
    },
    {
      "cell_type": "code",
      "execution_count": 43,
      "metadata": {
        "id": "jZjF0vI0EFSC"
      },
      "outputs": [],
      "source": [
        "# Remove users whose IDs start with 'orderGen'\n",
        "five_reviews_df = five_reviews_df[~five_reviews_df['author_id'].str.startswith('orderGen')]\n",
        "five_reviews_df = five_reviews_df[~five_reviews_df['author_id'].str.startswith('dummyUser')]"
      ]
    },
    {
      "cell_type": "code",
      "execution_count": 44,
      "metadata": {
        "id": "VJj5l4He-TCM"
      },
      "outputs": [],
      "source": [
        "five_reviews_df['author_id'] = five_reviews_df['author_id'].astype('int64')\n",
        "five_reviews_df['product_id'] = five_reviews_df['product_id'].str.replace('P', '').astype('int64')"
      ]
    },
    {
      "cell_type": "code",
      "execution_count": 45,
      "metadata": {
        "id": "MA1zF4t7wgru"
      },
      "outputs": [],
      "source": [
        "# product_id = 480612\n",
        "# product_name = product_name_dict.get(product_id)\n",
        "# if product_name:\n",
        "#     print(f\"The product name for ID {product_id} is: {product_name}\")\n",
        "# else:\n",
        "#     print(f\"No product found for ID {product_id}\")\n"
      ]
    },
    {
      "cell_type": "code",
      "execution_count": 46,
      "metadata": {
        "id": "2p8RajrBJ4Tl"
      },
      "outputs": [],
      "source": [
        "# Data Preparation\n",
        "col = ['author_id', 'product_name','product_id','author_rating', 'average_rating','secondary_category','skin_type','ingredients','num_reviews','original_price_usd']\n",
        "data = five_reviews_df[col].copy()\n",
        "\n",
        "df_sorted = data.sort_values(by='author_id')\n",
        "\n",
        "#df_sorted.to_csv('df_sorted.csv', index=False)"
      ]
    },
    {
      "cell_type": "code",
      "execution_count": 47,
      "metadata": {
        "colab": {
          "base_uri": "https://localhost:8080/"
        },
        "id": "ohZogfQWk2Sb",
        "outputId": "7d876be3-00e6-47d0-9d6f-99fd737269b5"
      },
      "outputs": [
        {
          "data": {
            "text/plain": [
              "908774    ['Water/Aqua/Eau, Cellulose, Butylene Glycol, ...\n",
              "661653    ['Pure White Petrolatum (Surgical Grade), Cott...\n",
              "709334    ['Galactomyces Ferment Filtrate*, Butylene Gly...\n",
              "258093    ['Water/Aqua/Eau, Dimethicone, Bifida Ferment ...\n",
              "828619    ['Triisostearin, Polyglyceryl-2 Triisostearate...\n",
              "Name: ingredients, dtype: object"
            ]
          },
          "execution_count": 47,
          "metadata": {},
          "output_type": "execute_result"
        }
      ],
      "source": [
        "data['ingredients'].sample(5)"
      ]
    },
    {
      "cell_type": "code",
      "execution_count": 48,
      "metadata": {
        "id": "LljdKX8nI0S5"
      },
      "outputs": [],
      "source": [
        "import re\n",
        "\n",
        "def clean_ingredients(ingredients):\n",
        "    cleaned_ingredients_list = []\n",
        "    water_words = ['water', 'aqua', 'eau','wateraquaeau','aquawatereau','wateraqua']\n",
        "\n",
        "    for ingredient in ingredients:\n",
        "        # Remove parentheses and their contents\n",
        "        cleaned_ingredient = re.sub(r'\\([^)]*\\)', '', ingredient)\n",
        "        # Remove numbers\n",
        "        cleaned_ingredient = re.sub(r'\\d+', '', cleaned_ingredient)\n",
        "        # Remove unnecessary characters after removing parentheses\n",
        "        cleaned_ingredient = re.sub(r'[^\\w\\s]', '', cleaned_ingredient)\n",
        "\n",
        "        # Split into individual words\n",
        "        cleaned_ingredient = cleaned_ingredient.split()\n",
        "\n",
        "        # Lowercase all words\n",
        "        cleaned_ingredient = [word.lower() for word in cleaned_ingredient]\n",
        "\n",
        "        # Remove water-related words\n",
        "        cleaned_ingredient = [word for word in cleaned_ingredient if word not in water_words]\n",
        "\n",
        "        # Keep only the last 5\n",
        "        if len(cleaned_ingredient) > 10:\n",
        "            cleaned_ingredient = cleaned_ingredient[:5] + cleaned_ingredient[-5:]\n",
        "            #cleaned_ingredient = cleaned_ingredient[-5:]\n",
        "        cleaned_ingredients_list.append(cleaned_ingredient)\n",
        "\n",
        "    return cleaned_ingredients_list\n",
        "cleaned_ingredients_list = clean_ingredients(data['ingredients'])\n",
        "ingredient_strings = [' '.join(ingredient) for ingredient in cleaned_ingredients_list]\n",
        "\n",
        "data['cleaned_ingredients'] = ingredient_strings\n",
        "# data['cleaned_ingredients'].head()"
      ]
    },
    {
      "cell_type": "code",
      "execution_count": 49,
      "metadata": {
        "colab": {
          "base_uri": "https://localhost:8080/",
          "height": 224
        },
        "id": "x4jqu5078AKI",
        "outputId": "c84bb677-5a43-48d5-edce-c025fcd14d41"
      },
      "outputs": [
        {
          "data": {
            "image/png": "[encoded data removed]",
            "text/plain": [
              "<Figure size 1800x600 with 3 Axes>"
            ]
          },
          "metadata": {},
          "output_type": "display_data"
        }
      ],
      "source": [
        "fig, axes = plt.subplots(1, 3, figsize=(18, 6))\n",
        "\n",
        "sns.histplot(data['average_rating'], kde=True, ax=axes[0])\n",
        "axes[0].set_title('Distribution of Average Rating')\n",
        "axes[0].set_xlabel('Average Rating')\n",
        "axes[0].set_ylabel('Frequency')\n",
        "\n",
        "sns.histplot(data['author_rating'], kde=True, ax=axes[1])\n",
        "axes[1].set_title('Distribution of Author Rating')\n",
        "axes[1].set_xlabel('Author Rating')\n",
        "axes[1].set_ylabel('Frequency')\n",
        "\n",
        "sns.histplot(data['num_reviews'], kde=True, ax=axes[2])\n",
        "axes[2].set_title('Distribution of Number of Reviews')\n",
        "axes[2].set_xlabel('Number of Reviews')\n",
        "axes[2].set_ylabel('Frequency')\n",
        "\n",
        "plt.tight_layout()\n",
        "plt.show()\n"
      ]
    },
    {
      "cell_type": "code",
      "execution_count": 51,
      "metadata": {
        "colab": {
          "base_uri": "https://localhost:8080/"
        },
        "id": "Bl6MIgalhNbU",
        "outputId": "125dd2a6-8812-4a60-d6cf-e226965e5ac1"
      },
      "outputs": [
        {
          "name": "stdout",
          "output_type": "stream",
          "text": [
            "<class 'pandas.core.frame.DataFrame'>\n",
            "Int64Index: 50140 entries, 21 to 930423\n",
            "Data columns (total 11 columns):\n",
            " #   Column               Non-Null Count  Dtype  \n",
            "---  ------               --------------  -----  \n",
            " 0   author_id            50140 non-null  int64  \n",
            " 1   product_name         50140 non-null  object \n",
            " 2   product_id           50140 non-null  int64  \n",
            " 3   author_rating        50140 non-null  int64  \n",
            " 4   average_rating       50140 non-null  float64\n",
            " 5   secondary_category   50140 non-null  object \n",
            " 6   skin_type            50140 non-null  object \n",
            " 7   ingredients          50140 non-null  object \n",
            " 8   num_reviews          50140 non-null  float64\n",
            " 9   original_price_usd   50140 non-null  float64\n",
            " 10  cleaned_ingredients  50140 non-null  object \n",
            "dtypes: float64(3), int64(3), object(5)\n",
            "memory usage: 4.6+ MB\n"
          ]
        }
      ],
      "source": [
        "data.info()"
      ]
    },
    {
      "cell_type": "code",
      "execution_count": 52,
      "metadata": {
        "id": "fxvksD04ofQ2"
      },
      "outputs": [],
      "source": [
        "from scipy import sparse\n",
        "from scipy.sparse import coo_matrix\n",
        "\n",
        "from sklearn.feature_extraction.text import TfidfVectorizer\n",
        "from sklearn.preprocessing import LabelEncoder\n",
        "from sklearn.model_selection import ParameterGrid, train_test_split\n",
        "from sklearn.metrics import accuracy_score\n",
        "\n",
        "from surprise import Dataset as SurpriseDataset, Reader, SVD, KNNBasic\n",
        "from surprise.model_selection import cross_validate\n",
        "\n",
        "from lightfm import LightFM\n",
        "from lightfm.data import Dataset\n",
        "from lightfm.evaluation import precision_at_k, auc_score, recall_at_k\n",
        "from lightfm.cross_validation import random_train_test_split\n",
        "!pip install lightfm\n",
        "!pip install surprise"
      ]
    },
    {
      "cell_type": "code",
      "execution_count": 53,
      "metadata": {
        "colab": {
          "base_uri": "https://localhost:8080/"
        },
        "id": "pCiLpj630ufP",
        "outputId": "7b78f523-63ea-42be-ba93-9412a81b3b93"
      },
      "outputs": [
        {
          "name": "stdout",
          "output_type": "stream",
          "text": [
            "Skin_type Map:\n",
            "{'combination': 0, 'dry': 1, 'normal': 2, 'oily': 3}\n",
            "\n",
            "Secondary_category Map:\n",
            "{'Cleansers': 0, 'Eye Care': 1, 'Masks': 2, 'Moisturizers': 3, 'Sunscreen': 4, 'Treatments & Serums': 5}\n",
            "\n"
          ]
        }
      ],
      "source": [
        "# TF-IDF Vectorization of the cleaned ingredients\n",
        "tfidf_vectorizer = TfidfVectorizer(stop_words='english', max_df=0.95, min_df=2, max_features=1000)\n",
        "tfidf_matrix = tfidf_vectorizer.fit_transform(data['cleaned_ingredients'])\n",
        "tfidf_features = pd.DataFrame(tfidf_matrix.toarray(), columns=tfidf_vectorizer.get_feature_names_out(), index=data.index)\n",
        "\n",
        "# Label Encoding for categorical features\n",
        "label_encoders = {\n",
        "    'skin_type': LabelEncoder(),\n",
        "    'secondary_category': LabelEncoder()\n",
        "}\n",
        "for feature, encoder in label_encoders.items():\n",
        "    data[f'{feature}_encoded'] = encoder.fit_transform(data[feature])\n",
        "\n",
        "# Print Mapping Dictionaries (for reference)\n",
        "for feature, encoder in label_encoders.items():\n",
        "    print(f\"{feature.capitalize()} Map:\")\n",
        "    print(dict(zip(encoder.classes_, encoder.transform(encoder.classes_))))\n",
        "    print()\n",
        "\n",
        "# Feature Normalization\n",
        "feature_columns = ['author_rating', 'average_rating', 'num_reviews','original_price_usd']\n",
        "for column in feature_columns:\n",
        "    data[f'normalized_{column}'] = (data[column] - data[column].min()) / (data[column].max() - data[column].min())\n",
        "\n",
        "# Interaction  Calculation\n",
        "#data['interaction_weight'] = (1 - data['normalized_num_reviews']) * data['normalized_author_rating']\n",
        "\n",
        "data['avg_rating_per_skin_type'] = data.groupby(['skin_type_encoded', 'product_id'])['normalized_average_rating'].transform('mean')\n",
        "\n",
        "\n",
        "# Also maintains the emphasis on boosting less popular items\n",
        "data['interaction_weight'] = (\n",
        "    data['normalized_average_rating'] +\n",
        "    data['avg_rating_per_skin_type'] +\n",
        "    1 / (1 + data['normalized_num_reviews'])\n",
        ")\n",
        "\n",
        "# User and Item features\n",
        "user_features_df = pd.concat([data[['normalized_author_rating', 'skin_type_encoded']], data[['author_id']]], axis=1).drop_duplicates()\n",
        "item_features_df = pd.concat([data[['normalized_average_rating','normalized_num_reviews','normalized_original_price_usd', 'secondary_category_encoded']], tfidf_features, data[['product_id']]], axis=1).drop_duplicates()\n",
        "\n",
        "# Create Interaction Matrix\n",
        "interaction_matrix = sparse.coo_matrix((data['interaction_weight'], (data['author_id'].astype('category').cat.codes, data['product_id'].astype('category').cat.codes)))\n",
        "\n",
        "# Initialize a new LightFM dataset\n",
        "dataset = Dataset()\n",
        "# Fit the dataset to the users and items with features\n",
        "dataset.fit(\n",
        "    users=data['author_id'].unique(),\n",
        "    items=data['product_id'].unique(),\n",
        "    user_features=user_features_df.columns,\n",
        "    item_features=item_features_df.columns\n",
        ")\n",
        "\n",
        "# Build user features\n",
        "user_features = dataset.build_user_features(\n",
        "    (row['author_id'], row.drop('author_id').to_dict()) for index, row in user_features_df.iterrows()\n",
        ")\n",
        "\n",
        "# Build item features\n",
        "item_features = dataset.build_item_features(\n",
        "    (row['product_id'], row.drop('product_id').to_dict()) for index, row in item_features_df.iterrows()\n",
        ")\n",
        "# Split Interaction Matrix\n",
        "train, test = random_train_test_split(interaction_matrix, test_percentage=0.2, random_state=42)\n",
        "\n",
        "# # Train LightFM Model\n",
        "# model = LightFM(no_components=20, learning_schedule='adagrad', loss='warp', random_state=42)\n",
        "# model.fit(train, user_features=user_features, item_features=item_features, epochs=10, num_threads=4, verbose=True)\n",
        "\n",
        "# # Evaluate the model on the training data\n",
        "# train_precision_score = precision_at_k(model, train, user_features=user_features, item_features=item_features, k=5).mean()\n",
        "# train_auc_score = auc_score(model, train, user_features=user_features, item_features=item_features).mean()\n",
        "# train_recall_score = recall_at_k(model, train, user_features=user_features, item_features=item_features, k=5).mean()\n",
        "\n",
        "# # Evaluate the model on the testing data\n",
        "# test_precision_score = precision_at_k(model, test, user_features=user_features, item_features=item_features, k=5).mean()\n",
        "# test_auc_score = auc_score(model, test, user_features=user_features, item_features=item_features).mean()\n",
        "# test_recall_score = recall_at_k(model, test, user_features=user_features, item_features=item_features, k=5).mean()\n",
        "\n",
        "# # Print the evaluation metrics for both training and testing datasets\n",
        "# print(f\"Training Precision at k: {train_precision_score:.4f}\")\n",
        "# print(f\"Training AUC: {train_auc_score:.4f}\")\n",
        "# print(f\"Testing Precision at k: {test_precision_score:.4f}\")\n",
        "# print(f\"Testing AUC: {test_auc_score:.4f}\")\n",
        "# print(f\"Training Recall at k: {train_recall_score:.4f}\")\n",
        "# print(f\"Testing Recall at k: {test_recall_score:.4f}\")"
      ]
    },
    {
      "cell_type": "code",
      "execution_count": 67,
      "metadata": {
        "colab": {
          "base_uri": "https://localhost:8080/"
        },
        "id": "HT6sxeUegDp_",
        "outputId": "92f7269f-1960-4c5c-8d84-ac894a7cd5ec"
      },
      "outputs": [
        {
          "name": "stdout",
          "output_type": "stream",
          "text": [
            "Params: {'learning_schedule': 'adagrad', 'loss': 'warp', 'no_components': 5}, Test AUC: 0.8110\n",
            "Params: {'learning_schedule': 'adagrad', 'loss': 'warp', 'no_components': 20}, Test AUC: 0.8104\n",
            "Best Params: {'learning_schedule': 'adagrad', 'loss': 'warp', 'no_components': 5}, Best Test AUC: 0.8110\n",
            "Params: {'lr_all': 0.005, 'n_epochs': 10, 'n_factors': 70, 'reg_all': 0.02}, Avg RMSE: 0.2705\n",
            "Params: {'lr_all': 0.005, 'n_epochs': 10, 'n_factors': 70, 'reg_all': 0.1}, Avg RMSE: 0.2668\n",
            "Params: {'lr_all': 0.005, 'n_epochs': 10, 'n_factors': 90, 'reg_all': 0.02}, Avg RMSE: 0.2732\n",
            "Params: {'lr_all': 0.005, 'n_epochs': 10, 'n_factors': 90, 'reg_all': 0.1}, Avg RMSE: 0.2685\n",
            "Params: {'lr_all': 0.005, 'n_epochs': 30, 'n_factors': 70, 'reg_all': 0.02}, Avg RMSE: 0.2630\n",
            "Params: {'lr_all': 0.005, 'n_epochs': 30, 'n_factors': 70, 'reg_all': 0.1}, Avg RMSE: 0.2588\n",
            "Params: {'lr_all': 0.005, 'n_epochs': 30, 'n_factors': 90, 'reg_all': 0.02}, Avg RMSE: 0.2657\n",
            "Params: {'lr_all': 0.005, 'n_epochs': 30, 'n_factors': 90, 'reg_all': 0.1}, Avg RMSE: 0.2591\n",
            "Params: {'lr_all': 0.01, 'n_epochs': 10, 'n_factors': 70, 'reg_all': 0.02}, Avg RMSE: 0.2662\n",
            "Params: {'lr_all': 0.01, 'n_epochs': 10, 'n_factors': 70, 'reg_all': 0.1}, Avg RMSE: 0.2609\n",
            "Params: {'lr_all': 0.01, 'n_epochs': 10, 'n_factors': 90, 'reg_all': 0.02}, Avg RMSE: 0.2683\n",
            "Params: {'lr_all': 0.01, 'n_epochs': 10, 'n_factors': 90, 'reg_all': 0.1}, Avg RMSE: 0.2628\n",
            "Params: {'lr_all': 0.01, 'n_epochs': 30, 'n_factors': 70, 'reg_all': 0.02}, Avg RMSE: 0.2609\n",
            "Params: {'lr_all': 0.01, 'n_epochs': 30, 'n_factors': 70, 'reg_all': 0.1}, Avg RMSE: 0.2555\n",
            "Params: {'lr_all': 0.01, 'n_epochs': 30, 'n_factors': 90, 'reg_all': 0.02}, Avg RMSE: 0.2640\n",
            "Params: {'lr_all': 0.01, 'n_epochs': 30, 'n_factors': 90, 'reg_all': 0.1}, Avg RMSE: 0.2559\n",
            "Best SVD Params: {'lr_all': 0.01, 'n_epochs': 30, 'n_factors': 70, 'reg_all': 0.1}, Best Avg RMSE: 0.2555\n",
            "Computing the msd similarity matrix...\n",
            "Done computing similarity matrix.\n",
            "Computing the msd similarity matrix...\n",
            "Done computing similarity matrix.\n",
            "Computing the msd similarity matrix...\n",
            "Done computing similarity matrix.\n",
            "Evaluating RMSE of algorithm KNNBasic on 3 split(s).\n",
            "\n",
            "                  Fold 1  Fold 2  Fold 3  Mean    Std     \n",
            "RMSE (testset)    0.2798  0.2824  0.2824  0.2815  0.0012  \n",
            "Fit time          0.02    0.03    0.03    0.03    0.00    \n",
            "Test time         0.14    0.13    0.13    0.14    0.00    \n",
            "Params: {'k': 20, 'sim_options': {'name': 'msd', 'user_based': False}}, Avg RMSE: 0.2815\n",
            "Computing the msd similarity matrix...\n",
            "Done computing similarity matrix.\n",
            "Computing the msd similarity matrix...\n",
            "Done computing similarity matrix.\n",
            "Computing the msd similarity matrix...\n",
            "Done computing similarity matrix.\n",
            "Evaluating RMSE of algorithm KNNBasic on 3 split(s).\n",
            "\n",
            "                  Fold 1  Fold 2  Fold 3  Mean    Std     \n",
            "RMSE (testset)    0.2821  0.2810  0.2832  0.2821  0.0009  \n",
            "Fit time          1.32    1.38    1.40    1.37    0.03    \n",
            "Test time         1.11    1.07    1.10    1.09    0.02    \n",
            "Params: {'k': 20, 'sim_options': {'name': 'msd', 'user_based': True}}, Avg RMSE: 0.2821\n",
            "Computing the msd similarity matrix...\n",
            "Done computing similarity matrix.\n",
            "Computing the msd similarity matrix...\n",
            "Done computing similarity matrix.\n",
            "Computing the msd similarity matrix...\n",
            "Done computing similarity matrix.\n",
            "Evaluating RMSE of algorithm KNNBasic on 3 split(s).\n",
            "\n",
            "                  Fold 1  Fold 2  Fold 3  Mean    Std     \n",
            "RMSE (testset)    0.2828  0.2801  0.2838  0.2822  0.0016  \n",
            "Fit time          0.02    0.03    0.03    0.03    0.01    \n",
            "Test time         0.14    0.14    0.12    0.13    0.01    \n",
            "Params: {'k': 40, 'sim_options': {'name': 'msd', 'user_based': False}}, Avg RMSE: 0.2822\n",
            "Computing the msd similarity matrix...\n",
            "Done computing similarity matrix.\n",
            "Computing the msd similarity matrix...\n",
            "Done computing similarity matrix.\n",
            "Computing the msd similarity matrix...\n",
            "Done computing similarity matrix.\n",
            "Evaluating RMSE of algorithm KNNBasic on 3 split(s).\n",
            "\n",
            "                  Fold 1  Fold 2  Fold 3  Mean    Std     \n",
            "RMSE (testset)    0.2852  0.2846  0.2842  0.2847  0.0004  \n",
            "Fit time          1.36    1.37    1.42    1.38    0.02    \n",
            "Test time         1.22    1.52    1.17    1.30    0.15    \n",
            "Params: {'k': 40, 'sim_options': {'name': 'msd', 'user_based': True}}, Avg RMSE: 0.2847\n",
            "Best k-NN Params: {'k': 20, 'sim_options': {'name': 'msd', 'user_based': False}}, Best Avg RMSE: 0.2815\n"
          ]
        }
      ],
      "source": [
        "# Placeholder for data loading\n",
        "# data = pd.read_csv('path_to_your_dataset.csv')\n",
        "\n",
        "# Define user and item ids, and interaction values for the neural network\n",
        "user_ids = data['author_id'].astype('category').cat.codes.values\n",
        "item_ids = data['product_id'].astype('category').cat.codes.values\n",
        "interactions = data['interaction_weight'].values\n",
        "\n",
        "# Split the dataset for the neural network\n",
        "def split_dataset(features, labels, test_size=0.2, random_state=42):\n",
        "    return train_test_split(features, labels, test_size=test_size, random_state=random_state)\n",
        "\n",
        "features = np.column_stack((user_ids, item_ids))\n",
        "X_train, X_test, y_train, y_test = split_dataset(features, interactions)\n",
        "\n",
        "# LightFM Model Grid Search\n",
        "lightfm_param_grid = {\n",
        "    'no_components': [5, 20],\n",
        "    'learning_schedule': ['adagrad'],\n",
        "    'loss': ['warp']\n",
        "}\n",
        "\n",
        "best_score = 0\n",
        "best_params = None\n",
        "\n",
        "for params in ParameterGrid(lightfm_param_grid):\n",
        "    model = LightFM(**params, random_state=42)\n",
        "    model.fit(train, user_features=user_features, item_features=item_features, epochs=10, num_threads=4, verbose=False)\n",
        "    score = auc_score(model, test, user_features=user_features, item_features=item_features).mean()\n",
        "    print(f\"Params: {params}, Test AUC: {score:.4f}\")\n",
        "    if score > best_score:\n",
        "        best_score = score\n",
        "        best_params = params\n",
        "\n",
        "print(f\"Best Params: {best_params}, Best Test AUC: {best_score:.4f}\")\n",
        "\n",
        "# SVD Model Grid Search\n",
        "reader = Reader(rating_scale=(0, 1))\n",
        "surprise_data = SurpriseDataset.load_from_df(data[['author_id', 'product_id', 'normalized_author_rating',]], reader)\n",
        "\n",
        "best_svd_rmse = np.inf\n",
        "best_svd_params = None\n",
        "\n",
        "best_knn_rmse = np.inf\n",
        "best_knn_params = None\n",
        "\n",
        "svd_param_grid = {\n",
        "    'n_factors': [70, 90],\n",
        "    'n_epochs': [10,30],\n",
        "    'lr_all': [0.005, 0.01],\n",
        "    'reg_all': [0.02, 0.1]\n",
        "}\n",
        "\n",
        "for params in ParameterGrid(svd_param_grid):\n",
        "    svd = SVD(**params)\n",
        "    cross_val_results = cross_validate(svd, surprise_data, measures=['RMSE'], cv=3, verbose=False)\n",
        "    avg_rmse = np.mean(cross_val_results['test_rmse'])\n",
        "    print(f\"Params: {params}, Avg RMSE: {avg_rmse:.4f}\")\n",
        "    if avg_rmse < best_svd_rmse:\n",
        "        best_svd_rmse = avg_rmse\n",
        "        best_svd_params = params\n",
        "# Output the best SVD parameters\n",
        "print(f\"Best SVD Params: {best_svd_params}, Best Avg RMSE: {best_svd_rmse:.4f}\")\n",
        "\n",
        "# k-NN Model Grid Search\n",
        "knn_param_grid = {\n",
        "    'k': [20, 40],\n",
        "    'sim_options': [\n",
        "        {'name': 'msd', 'user_based': False},\n",
        "        {'name': 'msd', 'user_based': True}\n",
        "    ]\n",
        "}\n",
        "\n",
        "for params in ParameterGrid(knn_param_grid):\n",
        "    knn_model = KNNBasic(k=params['k'], sim_options=params['sim_options'])\n",
        "    cross_val_results = cross_validate(knn_model, surprise_data, measures=['RMSE'], cv=3, verbose=True)\n",
        "    avg_rmse = np.mean(cross_val_results['test_rmse'])\n",
        "    print(f\"Params: {params}, Avg RMSE: {avg_rmse:.4f}\")\n",
        "    if avg_rmse < best_knn_rmse:\n",
        "        best_knn_rmse = avg_rmse\n",
        "        best_knn_params = params\n",
        "\n",
        "# Output the best k-NN parameters\n",
        "print(f\"Best k-NN Params: {best_knn_params}, Best Avg RMSE: {best_knn_rmse:.4f}\")"
      ]
    }
  ],
  "metadata": {
    "colab": {
      "machine_shape": "hm",
      "provenance": []
    },
    "kernelspec": {
      "display_name": "Python 3",
      "name": "python3"
    },
    "language_info": {
      "name": "python"
    }
  },
  "nbformat": 4,
  "nbformat_minor": 0
}
